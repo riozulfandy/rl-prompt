{
 "cells": [
  {
   "cell_type": "markdown",
   "id": "85899ac8",
   "metadata": {
    "papermill": {
     "duration": 0.002324,
     "end_time": "2025-04-11T15:46:40.429646",
     "exception": false,
     "start_time": "2025-04-11T15:46:40.427322",
     "status": "completed"
    },
    "tags": []
   },
   "source": [
    "## Environment Preparation"
   ]
  },
  {
   "cell_type": "code",
   "execution_count": 1,
   "id": "233754f9",
   "metadata": {
    "execution": {
     "iopub.execute_input": "2025-04-11T15:46:40.434490Z",
     "iopub.status.busy": "2025-04-11T15:46:40.434240Z",
     "iopub.status.idle": "2025-04-11T15:46:52.800706Z",
     "shell.execute_reply": "2025-04-11T15:46:52.799964Z"
    },
    "papermill": {
     "duration": 12.370246,
     "end_time": "2025-04-11T15:46:52.801919",
     "exception": false,
     "start_time": "2025-04-11T15:46:40.431673",
     "status": "completed"
    },
    "tags": []
   },
   "outputs": [
    {
     "name": "stdout",
     "output_type": "stream",
     "text": [
      "Miniconda3-latest-L 100%[===================>] 147.45M   212MB/s    in 0.7s    \r\n",
      "PREFIX=/kaggle/conda/miniconda3\r\n",
      "Unpacking payload ...\r\n",
      "\r\n",
      "Installing base environment...\r\n",
      "\r\n",
      "Preparing transaction: ...working... done\r\n",
      "Executing transaction: ...working... done\r\n",
      "installation finished.\r\n",
      "WARNING:\r\n",
      "    You currently have a PYTHONPATH environment variable set. This may cause\r\n",
      "    unexpected behavior when running the Python interpreter in Miniconda3.\r\n",
      "    For best results, please verify that your PYTHONPATH only points to\r\n",
      "    directories of packages that are compatible with the Python interpreter\r\n",
      "    in Miniconda3: /kaggle/conda/miniconda3\r\n"
     ]
    }
   ],
   "source": [
    "root_dir = \"/kaggle/conda\"\n",
    "!mkdir -p $root_dir\n",
    "!wget -q --show-progress https://repo.anaconda.com/miniconda/Miniconda3-latest-Linux-x86_64.sh\n",
    "!bash Miniconda3-latest-Linux-x86_64.sh -b -p $root_dir/miniconda3 -f"
   ]
  },
  {
   "cell_type": "code",
   "execution_count": 2,
   "id": "5ed598c9",
   "metadata": {
    "execution": {
     "iopub.execute_input": "2025-04-11T15:46:52.807859Z",
     "iopub.status.busy": "2025-04-11T15:46:52.807627Z",
     "iopub.status.idle": "2025-04-11T15:47:01.578174Z",
     "shell.execute_reply": "2025-04-11T15:47:01.577449Z"
    },
    "papermill": {
     "duration": 8.775134,
     "end_time": "2025-04-11T15:47:01.579670",
     "exception": false,
     "start_time": "2025-04-11T15:46:52.804536",
     "status": "completed"
    },
    "tags": []
   },
   "outputs": [
    {
     "name": "stdout",
     "output_type": "stream",
     "text": [
      "Channels:\r\n",
      " - defaults\r\n",
      "Platform: linux-64\r\n",
      "Collecting package metadata (repodata.json): - \b\b\\ \b\b| \b\b/ \b\b- \b\b\\ \b\b| \b\b/ \b\b- \b\bdone\r\n",
      "Solving environment: | \b\bdone\r\n",
      "\r\n",
      "\r\n",
      "==> WARNING: A newer version of conda exists. <==\r\n",
      "    current version: 25.1.1\r\n",
      "    latest version: 25.3.1\r\n",
      "\r\n",
      "Please update conda by running\r\n",
      "\r\n",
      "    $ conda update -n base -c defaults conda\r\n",
      "\r\n",
      "\r\n",
      "\r\n",
      "## Package Plan ##\r\n",
      "\r\n",
      "  environment location: /kaggle/conda/miniconda3/envs/my_env\r\n",
      "\r\n",
      "  added / updated specs:\r\n",
      "    - python=3.10\r\n",
      "\r\n",
      "\r\n",
      "The following packages will be downloaded:\r\n",
      "\r\n",
      "    package                    |            build\r\n",
      "    ---------------------------|-----------------\r\n",
      "    ca-certificates-2025.2.25  |       h06a4308_0         129 KB\r\n",
      "    openssl-3.0.16             |       h5eee18b_0         5.2 MB\r\n",
      "    pip-25.0                   |  py310h06a4308_0         2.3 MB\r\n",
      "    python-3.10.16             |       he870216_1        26.9 MB\r\n",
      "    setuptools-75.8.0          |  py310h06a4308_0         1.6 MB\r\n",
      "    wheel-0.45.1               |  py310h06a4308_0         115 KB\r\n",
      "    xz-5.6.4                   |       h5eee18b_1         567 KB\r\n",
      "    ------------------------------------------------------------\r\n",
      "                                           Total:        36.8 MB\r\n",
      "\r\n",
      "The following NEW packages will be INSTALLED:\r\n",
      "\r\n",
      "  _libgcc_mutex      pkgs/main/linux-64::_libgcc_mutex-0.1-main \r\n",
      "  _openmp_mutex      pkgs/main/linux-64::_openmp_mutex-5.1-1_gnu \r\n",
      "  bzip2              pkgs/main/linux-64::bzip2-1.0.8-h5eee18b_6 \r\n",
      "  ca-certificates    pkgs/main/linux-64::ca-certificates-2025.2.25-h06a4308_0 \r\n",
      "  ld_impl_linux-64   pkgs/main/linux-64::ld_impl_linux-64-2.40-h12ee557_0 \r\n",
      "  libffi             pkgs/main/linux-64::libffi-3.4.4-h6a678d5_1 \r\n",
      "  libgcc-ng          pkgs/main/linux-64::libgcc-ng-11.2.0-h1234567_1 \r\n",
      "  libgomp            pkgs/main/linux-64::libgomp-11.2.0-h1234567_1 \r\n",
      "  libstdcxx-ng       pkgs/main/linux-64::libstdcxx-ng-11.2.0-h1234567_1 \r\n",
      "  libuuid            pkgs/main/linux-64::libuuid-1.41.5-h5eee18b_0 \r\n",
      "  ncurses            pkgs/main/linux-64::ncurses-6.4-h6a678d5_0 \r\n",
      "  openssl            pkgs/main/linux-64::openssl-3.0.16-h5eee18b_0 \r\n",
      "  pip                pkgs/main/linux-64::pip-25.0-py310h06a4308_0 \r\n",
      "  python             pkgs/main/linux-64::python-3.10.16-he870216_1 \r\n",
      "  readline           pkgs/main/linux-64::readline-8.2-h5eee18b_0 \r\n",
      "  setuptools         pkgs/main/linux-64::setuptools-75.8.0-py310h06a4308_0 \r\n",
      "  sqlite             pkgs/main/linux-64::sqlite-3.45.3-h5eee18b_0 \r\n",
      "  tk                 pkgs/main/linux-64::tk-8.6.14-h39e8969_0 \r\n",
      "  tzdata             pkgs/main/noarch::tzdata-2025a-h04d1e81_0 \r\n",
      "  wheel              pkgs/main/linux-64::wheel-0.45.1-py310h06a4308_0 \r\n",
      "  xz                 pkgs/main/linux-64::xz-5.6.4-h5eee18b_1 \r\n",
      "  zlib               pkgs/main/linux-64::zlib-1.2.13-h5eee18b_1 \r\n",
      "\r\n",
      "\r\n",
      "\r\n",
      "Downloading and Extracting Packages:\r\n",
      "python-3.10.16       | 26.9 MB   |                                       |   0% \r\n",
      "openssl-3.0.16       | 5.2 MB    |                                       |   0% \u001b[A\r\n",
      "\r\n",
      "pip-25.0             | 2.3 MB    |                                       |   0% \u001b[A\u001b[A\r\n",
      "\r\n",
      "\r\n",
      "setuptools-75.8.0    | 1.6 MB    |                                       |   0% \u001b[A\u001b[A\u001b[A\r\n",
      "\r\n",
      "\r\n",
      "\r\n",
      "xz-5.6.4             | 567 KB    |                                       |   0% \u001b[A\u001b[A\u001b[A\u001b[A\r\n",
      "\r\n",
      "\r\n",
      "\r\n",
      "\r\n",
      "ca-certificates-2025 | 129 KB    |                                       |   0% \u001b[A\u001b[A\u001b[A\u001b[A\u001b[A\r\n",
      "\r\n",
      "\r\n",
      "\r\n",
      "\r\n",
      "\r\n",
      "wheel-0.45.1         | 115 KB    |                                       |   0% \u001b[A\u001b[A\u001b[A\u001b[A\u001b[A\u001b[A\r\n",
      "\r\n",
      "\r\n",
      "\r\n",
      "python-3.10.16       | 26.9 MB   | 7                                     |   2% \r\n",
      "openssl-3.0.16       | 5.2 MB    | #3                                    |   4% \u001b[A\r\n",
      "\r\n",
      "pip-25.0             | 2.3 MB    | ################9                     |  46% \u001b[A\u001b[A\r\n",
      "\r\n",
      "\r\n",
      "setuptools-75.8.0    | 1.6 MB    | #####6                                |  15% \u001b[A\u001b[A\u001b[A\r\n",
      "\r\n",
      "\r\n",
      "\r\n",
      "\r\n",
      "ca-certificates-2025 | 129 KB    | ####5                                 |  12% \u001b[A\u001b[A\u001b[A\u001b[A\u001b[A\r\n",
      "\r\n",
      "\r\n",
      "\r\n",
      "\r\n",
      "ca-certificates-2025 | 129 KB    | ##################################### | 100% \u001b[A\u001b[A\u001b[A\u001b[A\u001b[A\r\n",
      "\r\n",
      "\r\n",
      "\r\n",
      "\r\n",
      "\r\n",
      "python-3.10.16       | 26.9 MB   | ####6                                 |  13% \r\n",
      "openssl-3.0.16       | 5.2 MB    | ####################4                 |  55% \u001b[A\r\n",
      "\r\n",
      "\r\n",
      "\r\n",
      "\r\n",
      "\r\n",
      "wheel-0.45.1         | 115 KB    | ##################################### | 100% \u001b[A\u001b[A\u001b[A\u001b[A\u001b[A\u001b[A\r\n",
      "\r\n",
      "\r\n",
      "setuptools-75.8.0    | 1.6 MB    | ##################################### | 100% \u001b[A\u001b[A\u001b[A\r\n",
      "\r\n",
      "\r\n",
      "setuptools-75.8.0    | 1.6 MB    | ##################################### | 100% \u001b[A\u001b[A\u001b[A\r\n",
      "\r\n",
      "\r\n",
      "\r\n",
      "\r\n",
      "ca-certificates-2025 | 129 KB    | ##################################### | 100% \u001b[A\u001b[A\u001b[A\u001b[A\u001b[A\r\n",
      "\r\n",
      "pip-25.0             | 2.3 MB    | ##################################### | 100% \u001b[A\u001b[A\r\n",
      "\r\n",
      "python-3.10.16       | 26.9 MB   | ##############9                       |  40% \r\n",
      "openssl-3.0.16       | 5.2 MB    | ##################################### | 100% \u001b[A\r\n",
      "openssl-3.0.16       | 5.2 MB    | ##################################### | 100% \u001b[A\r\n",
      "\r\n",
      "\r\n",
      "\r\n",
      "\r\n",
      "\r\n",
      "wheel-0.45.1         | 115 KB    | ##################################### | 100% \u001b[A\u001b[A\u001b[A\u001b[A\u001b[A\u001b[A\r\n",
      "\r\n",
      "\r\n",
      "\r\n",
      "\r\n",
      "\r\n",
      "python-3.10.16       | 26.9 MB   | ###########################3          |  74% \r\n",
      "\r\n",
      "\r\n",
      "\r\n",
      "xz-5.6.4             | 567 KB    | ##################################### | 100% \u001b[A\u001b[A\u001b[A\u001b[A\r\n",
      "\r\n",
      "\r\n",
      "\r\n",
      "python-3.10.16       | 26.9 MB   | ##################################2   |  93% \r\n",
      "python-3.10.16       | 26.9 MB   | ##################################### | 100% \r\n",
      "\r\n",
      "\r\n",
      "setuptools-75.8.0    | 1.6 MB    | ##################################### | 100% \u001b[A\u001b[A\u001b[A\r\n",
      "\r\n",
      "\r\n",
      "                                                                                \u001b[A\r\n",
      "\r\n",
      "                                                                                \u001b[A\u001b[A\r\n",
      "\r\n",
      "\r\n",
      "                                                                                \u001b[A\u001b[A\u001b[A\r\n",
      "\r\n",
      "\r\n",
      "\r\n",
      "                                                                                \u001b[A\u001b[A\u001b[A\u001b[A\r\n",
      "\r\n",
      "\r\n",
      "\r\n",
      "\r\n",
      "                                                                                \u001b[A\u001b[A\u001b[A\u001b[A\u001b[A\r\n",
      "\r\n",
      "\r\n",
      "\r\n",
      "\r\n",
      "\r\n",
      "\r\n",
      "Preparing transaction: - \b\b\\ \b\bdone\r\n",
      "Verifying transaction: / \b\b- \b\b\\ \b\b| \b\b/ \b\b- \b\b\\ \b\b| \b\b/ \b\b- \b\b\\ \b\b| \b\b/ \b\bdone\r\n",
      "Executing transaction: \\ \b\b| \b\b/ \b\b- \b\b\\ \b\b| \b\bdone\r\n",
      "#\r\n",
      "# To activate this environment, use\r\n",
      "#\r\n",
      "#     $ conda activate my_env\r\n",
      "#\r\n",
      "# To deactivate an active environment, use\r\n",
      "#\r\n",
      "#     $ conda deactivate\r\n",
      "\r\n"
     ]
    }
   ],
   "source": [
    "!$root_dir/miniconda3/bin/conda create --name my_env python=3.10 -y"
   ]
  },
  {
   "cell_type": "code",
   "execution_count": 3,
   "id": "214cf457",
   "metadata": {
    "execution": {
     "iopub.execute_input": "2025-04-11T15:47:01.599509Z",
     "iopub.status.busy": "2025-04-11T15:47:01.598728Z",
     "iopub.status.idle": "2025-04-11T15:47:07.138137Z",
     "shell.execute_reply": "2025-04-11T15:47:07.137233Z"
    },
    "papermill": {
     "duration": 5.546085,
     "end_time": "2025-04-11T15:47:07.139526",
     "exception": false,
     "start_time": "2025-04-11T15:47:01.593441",
     "status": "completed"
    },
    "tags": []
   },
   "outputs": [
    {
     "name": "stdout",
     "output_type": "stream",
     "text": [
      "Cloning into 'rl-prompt'...\r\n",
      "remote: Enumerating objects: 1425, done.\u001b[K\r\n",
      "remote: Counting objects: 100% (273/273), done.\u001b[K\r\n",
      "remote: Compressing objects: 100% (113/113), done.\u001b[K\r\n",
      "remote: Total 1425 (delta 193), reused 160 (delta 160), pack-reused 1152 (from 1)\u001b[K\r\n",
      "Receiving objects: 100% (1425/1425), 70.76 MiB | 27.76 MiB/s, done.\r\n",
      "Resolving deltas: 100% (602/602), done.\r\n",
      "Updating files: 100% (259/259), done.\r\n"
     ]
    }
   ],
   "source": [
    "!git clone https://github.com/malifalhakim/rl-prompt.git"
   ]
  },
  {
   "cell_type": "code",
   "execution_count": 4,
   "id": "52453754",
   "metadata": {
    "execution": {
     "iopub.execute_input": "2025-04-11T15:47:07.154163Z",
     "iopub.status.busy": "2025-04-11T15:47:07.153615Z",
     "iopub.status.idle": "2025-04-11T15:47:07.159830Z",
     "shell.execute_reply": "2025-04-11T15:47:07.159252Z"
    },
    "papermill": {
     "duration": 0.014031,
     "end_time": "2025-04-11T15:47:07.160823",
     "exception": false,
     "start_time": "2025-04-11T15:47:07.146792",
     "status": "completed"
    },
    "tags": []
   },
   "outputs": [
    {
     "name": "stdout",
     "output_type": "stream",
     "text": [
      "/kaggle/working/rl-prompt\n"
     ]
    }
   ],
   "source": [
    "%cd /kaggle/working/rl-prompt"
   ]
  },
  {
   "cell_type": "markdown",
   "id": "c6eb04d5",
   "metadata": {
    "papermill": {
     "duration": 0.005341,
     "end_time": "2025-04-11T15:47:07.172146",
     "exception": false,
     "start_time": "2025-04-11T15:47:07.166805",
     "status": "completed"
    },
    "tags": []
   },
   "source": [
    "## Dependencies Prep"
   ]
  },
  {
   "cell_type": "code",
   "execution_count": 5,
   "id": "efc3fdd0",
   "metadata": {
    "execution": {
     "iopub.execute_input": "2025-04-11T15:47:07.184042Z",
     "iopub.status.busy": "2025-04-11T15:47:07.183844Z",
     "iopub.status.idle": "2025-04-11T15:49:01.346926Z",
     "shell.execute_reply": "2025-04-11T15:49:01.345780Z"
    },
    "papermill": {
     "duration": 114.171572,
     "end_time": "2025-04-11T15:49:01.349281",
     "exception": false,
     "start_time": "2025-04-11T15:47:07.177709",
     "status": "completed"
    },
    "tags": []
   },
   "outputs": [
    {
     "name": "stdout",
     "output_type": "stream",
     "text": [
      "Looking in indexes: https://pypi.org/simple, https://download.pytorch.org/whl/cu118\r\n",
      "Collecting torch==2.6.0+cu118\r\n",
      "  Downloading https://download.pytorch.org/whl/cu118/torch-2.6.0%2Bcu118-cp310-cp310-linux_x86_64.whl.metadata (27 kB)\r\n",
      "Collecting filelock (from torch==2.6.0+cu118)\r\n",
      "  Downloading filelock-3.18.0-py3-none-any.whl.metadata (2.9 kB)\r\n",
      "Collecting typing-extensions>=4.10.0 (from torch==2.6.0+cu118)\r\n",
      "  Downloading typing_extensions-4.13.2-py3-none-any.whl.metadata (3.0 kB)\r\n",
      "Collecting networkx (from torch==2.6.0+cu118)\r\n",
      "  Downloading networkx-3.4.2-py3-none-any.whl.metadata (6.3 kB)\r\n",
      "Collecting jinja2 (from torch==2.6.0+cu118)\r\n",
      "  Downloading jinja2-3.1.6-py3-none-any.whl.metadata (2.9 kB)\r\n",
      "Collecting fsspec (from torch==2.6.0+cu118)\r\n",
      "  Downloading fsspec-2025.3.2-py3-none-any.whl.metadata (11 kB)\r\n",
      "Collecting nvidia-cuda-nvrtc-cu11==11.8.89 (from torch==2.6.0+cu118)\r\n",
      "  Downloading nvidia_cuda_nvrtc_cu11-11.8.89-py3-none-manylinux2014_x86_64.whl.metadata (1.5 kB)\r\n",
      "Collecting nvidia-cuda-runtime-cu11==11.8.89 (from torch==2.6.0+cu118)\r\n",
      "  Downloading nvidia_cuda_runtime_cu11-11.8.89-py3-none-manylinux2014_x86_64.whl.metadata (1.5 kB)\r\n",
      "Collecting nvidia-cuda-cupti-cu11==11.8.87 (from torch==2.6.0+cu118)\r\n",
      "  Downloading nvidia_cuda_cupti_cu11-11.8.87-py3-none-manylinux2014_x86_64.whl.metadata (1.6 kB)\r\n",
      "Collecting nvidia-cudnn-cu11==9.1.0.70 (from torch==2.6.0+cu118)\r\n",
      "  Downloading https://download.pytorch.org/whl/cu118/nvidia_cudnn_cu11-9.1.0.70-py3-none-manylinux2014_x86_64.whl (663.9 MB)\r\n",
      "\u001b[2K     \u001b[90m━━━━━━━━━━━━━━━━━━━━━━━━━━━━━━━━━━━━━━━━\u001b[0m \u001b[32m663.9/663.9 MB\u001b[0m \u001b[31m47.6 MB/s\u001b[0m eta \u001b[36m0:00:00\u001b[0m\r\n",
      "\u001b[?25hCollecting nvidia-cublas-cu11==11.11.3.6 (from torch==2.6.0+cu118)\r\n",
      "  Downloading nvidia_cublas_cu11-11.11.3.6-py3-none-manylinux2014_x86_64.whl.metadata (1.5 kB)\r\n",
      "Collecting nvidia-cufft-cu11==10.9.0.58 (from torch==2.6.0+cu118)\r\n",
      "  Downloading nvidia_cufft_cu11-10.9.0.58-py3-none-manylinux2014_x86_64.whl.metadata (1.5 kB)\r\n",
      "Collecting nvidia-curand-cu11==10.3.0.86 (from torch==2.6.0+cu118)\r\n",
      "  Downloading nvidia_curand_cu11-10.3.0.86-py3-none-manylinux2014_x86_64.whl.metadata (1.5 kB)\r\n",
      "Collecting nvidia-cusolver-cu11==11.4.1.48 (from torch==2.6.0+cu118)\r\n",
      "  Downloading nvidia_cusolver_cu11-11.4.1.48-py3-none-manylinux2014_x86_64.whl.metadata (1.6 kB)\r\n",
      "Collecting nvidia-cusparse-cu11==11.7.5.86 (from torch==2.6.0+cu118)\r\n",
      "  Downloading nvidia_cusparse_cu11-11.7.5.86-py3-none-manylinux2014_x86_64.whl.metadata (1.5 kB)\r\n",
      "Collecting nvidia-nccl-cu11==2.21.5 (from torch==2.6.0+cu118)\r\n",
      "  Downloading https://download.pytorch.org/whl/cu118/nvidia_nccl_cu11-2.21.5-py3-none-manylinux2014_x86_64.whl (147.8 MB)\r\n",
      "\u001b[2K     \u001b[90m━━━━━━━━━━━━━━━━━━━━━━━━━━━━━━━━━━━━━━━━\u001b[0m \u001b[32m147.8/147.8 MB\u001b[0m \u001b[31m108.8 MB/s\u001b[0m eta \u001b[36m0:00:00\u001b[0m\r\n",
      "\u001b[?25hCollecting nvidia-nvtx-cu11==11.8.86 (from torch==2.6.0+cu118)\r\n",
      "  Downloading nvidia_nvtx_cu11-11.8.86-py3-none-manylinux2014_x86_64.whl.metadata (1.7 kB)\r\n",
      "Collecting triton==3.2.0 (from torch==2.6.0+cu118)\r\n",
      "  Downloading https://download.pytorch.org/whl/triton-3.2.0-cp310-cp310-manylinux_2_27_x86_64.manylinux_2_28_x86_64.whl.metadata (1.4 kB)\r\n",
      "Collecting sympy==1.13.1 (from torch==2.6.0+cu118)\r\n",
      "  Downloading https://download.pytorch.org/whl/sympy-1.13.1-py3-none-any.whl (6.2 MB)\r\n",
      "\u001b[2K     \u001b[90m━━━━━━━━━━━━━━━━━━━━━━━━━━━━━━━━━━━━━━━━\u001b[0m \u001b[32m6.2/6.2 MB\u001b[0m \u001b[31m117.1 MB/s\u001b[0m eta \u001b[36m0:00:00\u001b[0m\r\n",
      "\u001b[?25hCollecting mpmath<1.4,>=1.1.0 (from sympy==1.13.1->torch==2.6.0+cu118)\r\n",
      "  Downloading https://download.pytorch.org/whl/mpmath-1.3.0-py3-none-any.whl (536 kB)\r\n",
      "\u001b[2K     \u001b[90m━━━━━━━━━━━━━━━━━━━━━━━━━━━━━━━━━━━━━━━━\u001b[0m \u001b[32m536.2/536.2 kB\u001b[0m \u001b[31m15.3 MB/s\u001b[0m eta \u001b[36m0:00:00\u001b[0m\r\n",
      "\u001b[?25hCollecting MarkupSafe>=2.0 (from jinja2->torch==2.6.0+cu118)\r\n",
      "  Downloading MarkupSafe-3.0.2-cp310-cp310-manylinux_2_17_x86_64.manylinux2014_x86_64.whl.metadata (4.0 kB)\r\n",
      "Downloading https://download.pytorch.org/whl/cu118/torch-2.6.0%2Bcu118-cp310-cp310-linux_x86_64.whl (848.7 MB)\r\n",
      "\u001b[2K   \u001b[90m━━━━━━━━━━━━━━━━━━━━━━━━━━━━━━━━━━━━━━━━\u001b[0m \u001b[32m848.7/848.7 MB\u001b[0m \u001b[31m41.0 MB/s\u001b[0m eta \u001b[36m0:00:00\u001b[0m\r\n",
      "\u001b[?25hDownloading nvidia_cublas_cu11-11.11.3.6-py3-none-manylinux2014_x86_64.whl (417.9 MB)\r\n",
      "\u001b[2K   \u001b[90m━━━━━━━━━━━━━━━━━━━━━━━━━━━━━━━━━━━━━━━━\u001b[0m \u001b[32m417.9/417.9 MB\u001b[0m \u001b[31m34.9 MB/s\u001b[0m eta \u001b[36m0:00:00\u001b[0m\r\n",
      "\u001b[?25hDownloading nvidia_cuda_cupti_cu11-11.8.87-py3-none-manylinux2014_x86_64.whl (13.1 MB)\r\n",
      "\u001b[2K   \u001b[90m━━━━━━━━━━━━━━━━━━━━━━━━━━━━━━━━━━━━━━━━\u001b[0m \u001b[32m13.1/13.1 MB\u001b[0m \u001b[31m129.2 MB/s\u001b[0m eta \u001b[36m0:00:00\u001b[0m\r\n",
      "\u001b[?25hDownloading nvidia_cuda_nvrtc_cu11-11.8.89-py3-none-manylinux2014_x86_64.whl (23.2 MB)\r\n",
      "\u001b[2K   \u001b[90m━━━━━━━━━━━━━━━━━━━━━━━━━━━━━━━━━━━━━━━━\u001b[0m \u001b[32m23.2/23.2 MB\u001b[0m \u001b[31m136.0 MB/s\u001b[0m eta \u001b[36m0:00:00\u001b[0m\r\n",
      "\u001b[?25hDownloading nvidia_cuda_runtime_cu11-11.8.89-py3-none-manylinux2014_x86_64.whl (875 kB)\r\n",
      "\u001b[2K   \u001b[90m━━━━━━━━━━━━━━━━━━━━━━━━━━━━━━━━━━━━━━━━\u001b[0m \u001b[32m875.6/875.6 kB\u001b[0m \u001b[31m32.4 MB/s\u001b[0m eta \u001b[36m0:00:00\u001b[0m\r\n",
      "\u001b[?25hDownloading nvidia_cufft_cu11-10.9.0.58-py3-none-manylinux2014_x86_64.whl (168.4 MB)\r\n",
      "\u001b[2K   \u001b[90m━━━━━━━━━━━━━━━━━━━━━━━━━━━━━━━━━━━━━━━━\u001b[0m \u001b[32m168.4/168.4 MB\u001b[0m \u001b[31m89.2 MB/s\u001b[0m eta \u001b[36m0:00:00\u001b[0m\r\n",
      "\u001b[?25hDownloading nvidia_curand_cu11-10.3.0.86-py3-none-manylinux2014_x86_64.whl (58.1 MB)\r\n",
      "\u001b[2K   \u001b[90m━━━━━━━━━━━━━━━━━━━━━━━━━━━━━━━━━━━━━━━━\u001b[0m \u001b[32m58.1/58.1 MB\u001b[0m \u001b[31m97.8 MB/s\u001b[0m eta \u001b[36m0:00:00\u001b[0m\r\n",
      "\u001b[?25hDownloading nvidia_cusolver_cu11-11.4.1.48-py3-none-manylinux2014_x86_64.whl (128.2 MB)\r\n",
      "\u001b[2K   \u001b[90m━━━━━━━━━━━━━━━━━━━━━━━━━━━━━━━━━━━━━━━━\u001b[0m \u001b[32m128.2/128.2 MB\u001b[0m \u001b[31m94.9 MB/s\u001b[0m eta \u001b[36m0:00:00\u001b[0m\r\n",
      "\u001b[?25hDownloading nvidia_cusparse_cu11-11.7.5.86-py3-none-manylinux2014_x86_64.whl (204.1 MB)\r\n",
      "\u001b[2K   \u001b[90m━━━━━━━━━━━━━━━━━━━━━━━━━━━━━━━━━━━━━━━━\u001b[0m \u001b[32m204.1/204.1 MB\u001b[0m \u001b[31m95.7 MB/s\u001b[0m eta \u001b[36m0:00:00\u001b[0m\r\n",
      "\u001b[?25hDownloading nvidia_nvtx_cu11-11.8.86-py3-none-manylinux2014_x86_64.whl (99 kB)\r\n",
      "Downloading https://download.pytorch.org/whl/triton-3.2.0-cp310-cp310-manylinux_2_27_x86_64.manylinux_2_28_x86_64.whl (166.6 MB)\r\n",
      "\u001b[2K   \u001b[90m━━━━━━━━━━━━━━━━━━━━━━━━━━━━━━━━━━━━━━━━\u001b[0m \u001b[32m166.6/166.6 MB\u001b[0m \u001b[31m113.7 MB/s\u001b[0m eta \u001b[36m0:00:00\u001b[0m\r\n",
      "\u001b[?25hDownloading typing_extensions-4.13.2-py3-none-any.whl (45 kB)\r\n",
      "Downloading filelock-3.18.0-py3-none-any.whl (16 kB)\r\n",
      "Downloading fsspec-2025.3.2-py3-none-any.whl (194 kB)\r\n",
      "Downloading jinja2-3.1.6-py3-none-any.whl (134 kB)\r\n",
      "Downloading networkx-3.4.2-py3-none-any.whl (1.7 MB)\r\n",
      "\u001b[2K   \u001b[90m━━━━━━━━━━━━━━━━━━━━━━━━━━━━━━━━━━━━━━━━\u001b[0m \u001b[32m1.7/1.7 MB\u001b[0m \u001b[31m55.7 MB/s\u001b[0m eta \u001b[36m0:00:00\u001b[0m\r\n",
      "\u001b[?25hDownloading MarkupSafe-3.0.2-cp310-cp310-manylinux_2_17_x86_64.manylinux2014_x86_64.whl (20 kB)\r\n",
      "Installing collected packages: triton, mpmath, typing-extensions, sympy, nvidia-nvtx-cu11, nvidia-nccl-cu11, nvidia-cusparse-cu11, nvidia-curand-cu11, nvidia-cufft-cu11, nvidia-cuda-runtime-cu11, nvidia-cuda-nvrtc-cu11, nvidia-cuda-cupti-cu11, nvidia-cublas-cu11, networkx, MarkupSafe, fsspec, filelock, nvidia-cusolver-cu11, nvidia-cudnn-cu11, jinja2, torch\r\n",
      "Successfully installed MarkupSafe-3.0.2 filelock-3.18.0 fsspec-2025.3.2 jinja2-3.1.6 mpmath-1.3.0 networkx-3.4.2 nvidia-cublas-cu11-11.11.3.6 nvidia-cuda-cupti-cu11-11.8.87 nvidia-cuda-nvrtc-cu11-11.8.89 nvidia-cuda-runtime-cu11-11.8.89 nvidia-cudnn-cu11-9.1.0.70 nvidia-cufft-cu11-10.9.0.58 nvidia-curand-cu11-10.3.0.86 nvidia-cusolver-cu11-11.4.1.48 nvidia-cusparse-cu11-11.7.5.86 nvidia-nccl-cu11-2.21.5 nvidia-nvtx-cu11-11.8.86 sympy-1.13.1 torch-2.6.0+cu118 triton-3.2.0 typing-extensions-4.13.2\r\n"
     ]
    }
   ],
   "source": [
    "# Set the CUDA version variable\n",
    "CUDA_VERSION = 'cu118'\n",
    "\n",
    "# 1. Install PyTorch with matching CUDA version\n",
    "!source $root_dir/miniconda3/bin/activate my_env; pip install torch==2.6.0+{CUDA_VERSION} \\\n",
    "--extra-index-url https://download.pytorch.org/whl/{CUDA_VERSION}"
   ]
  },
  {
   "cell_type": "code",
   "execution_count": 6,
   "id": "f6a97a1a",
   "metadata": {
    "execution": {
     "iopub.execute_input": "2025-04-11T15:49:01.391305Z",
     "iopub.status.busy": "2025-04-11T15:49:01.391004Z",
     "iopub.status.idle": "2025-04-11T15:49:33.811614Z",
     "shell.execute_reply": "2025-04-11T15:49:33.810885Z"
    },
    "papermill": {
     "duration": 32.443667,
     "end_time": "2025-04-11T15:49:33.813036",
     "exception": false,
     "start_time": "2025-04-11T15:49:01.369369",
     "status": "completed"
    },
    "tags": []
   },
   "outputs": [
    {
     "name": "stdout",
     "output_type": "stream",
     "text": [
      "Obtaining file:///kaggle/working/rl-prompt\r\n",
      "  Preparing metadata (setup.py) ... \u001b[?25l\u001b[?25hdone\r\n",
      "Requirement already satisfied: torch in /kaggle/conda/miniconda3/envs/my_env/lib/python3.10/site-packages (from rl_prompt==0.1.0) (2.6.0+cu118)\r\n",
      "Collecting numpy (from rl_prompt==0.1.0)\r\n",
      "  Downloading numpy-2.2.4-cp310-cp310-manylinux_2_17_x86_64.manylinux2014_x86_64.whl.metadata (62 kB)\r\n",
      "Collecting pandas (from rl_prompt==0.1.0)\r\n",
      "  Downloading pandas-2.2.3-cp310-cp310-manylinux_2_17_x86_64.manylinux2014_x86_64.whl.metadata (89 kB)\r\n",
      "Collecting typing (from rl_prompt==0.1.0)\r\n",
      "  Downloading typing-3.7.4.3.tar.gz (78 kB)\r\n",
      "  Preparing metadata (setup.py) ... \u001b[?25l\u001b[?25hdone\r\n",
      "Collecting wandb (from rl_prompt==0.1.0)\r\n",
      "  Downloading wandb-0.19.9-py3-none-manylinux_2_17_x86_64.manylinux2014_x86_64.whl.metadata (10 kB)\r\n",
      "Collecting transformers (from rl_prompt==0.1.0)\r\n",
      "  Downloading transformers-4.51.2-py3-none-any.whl.metadata (38 kB)\r\n",
      "Collecting hydra-core==1.2.0 (from rl_prompt==0.1.0)\r\n",
      "  Downloading hydra_core-1.2.0-py3-none-any.whl.metadata (4.0 kB)\r\n",
      "Collecting omegaconf~=2.2 (from hydra-core==1.2.0->rl_prompt==0.1.0)\r\n",
      "  Downloading omegaconf-2.3.0-py3-none-any.whl.metadata (3.9 kB)\r\n",
      "Collecting antlr4-python3-runtime==4.9.* (from hydra-core==1.2.0->rl_prompt==0.1.0)\r\n",
      "  Downloading antlr4-python3-runtime-4.9.3.tar.gz (117 kB)\r\n",
      "  Preparing metadata (setup.py) ... \u001b[?25l\u001b[?25hdone\r\n",
      "Collecting packaging (from hydra-core==1.2.0->rl_prompt==0.1.0)\r\n",
      "  Downloading packaging-24.2-py3-none-any.whl.metadata (3.2 kB)\r\n",
      "Collecting python-dateutil>=2.8.2 (from pandas->rl_prompt==0.1.0)\r\n",
      "  Downloading python_dateutil-2.9.0.post0-py2.py3-none-any.whl.metadata (8.4 kB)\r\n",
      "Collecting pytz>=2020.1 (from pandas->rl_prompt==0.1.0)\r\n",
      "  Downloading pytz-2025.2-py2.py3-none-any.whl.metadata (22 kB)\r\n",
      "Collecting tzdata>=2022.7 (from pandas->rl_prompt==0.1.0)\r\n",
      "  Downloading tzdata-2025.2-py2.py3-none-any.whl.metadata (1.4 kB)\r\n",
      "Requirement already satisfied: filelock in /kaggle/conda/miniconda3/envs/my_env/lib/python3.10/site-packages (from torch->rl_prompt==0.1.0) (3.18.0)\r\n",
      "Requirement already satisfied: typing-extensions>=4.10.0 in /kaggle/conda/miniconda3/envs/my_env/lib/python3.10/site-packages (from torch->rl_prompt==0.1.0) (4.13.2)\r\n",
      "Requirement already satisfied: networkx in /kaggle/conda/miniconda3/envs/my_env/lib/python3.10/site-packages (from torch->rl_prompt==0.1.0) (3.4.2)\r\n",
      "Requirement already satisfied: jinja2 in /kaggle/conda/miniconda3/envs/my_env/lib/python3.10/site-packages (from torch->rl_prompt==0.1.0) (3.1.6)\r\n",
      "Requirement already satisfied: fsspec in /kaggle/conda/miniconda3/envs/my_env/lib/python3.10/site-packages (from torch->rl_prompt==0.1.0) (2025.3.2)\r\n",
      "Requirement already satisfied: nvidia-cuda-nvrtc-cu11==11.8.89 in /kaggle/conda/miniconda3/envs/my_env/lib/python3.10/site-packages (from torch->rl_prompt==0.1.0) (11.8.89)\r\n",
      "Requirement already satisfied: nvidia-cuda-runtime-cu11==11.8.89 in /kaggle/conda/miniconda3/envs/my_env/lib/python3.10/site-packages (from torch->rl_prompt==0.1.0) (11.8.89)\r\n",
      "Requirement already satisfied: nvidia-cuda-cupti-cu11==11.8.87 in /kaggle/conda/miniconda3/envs/my_env/lib/python3.10/site-packages (from torch->rl_prompt==0.1.0) (11.8.87)\r\n",
      "Requirement already satisfied: nvidia-cudnn-cu11==9.1.0.70 in /kaggle/conda/miniconda3/envs/my_env/lib/python3.10/site-packages (from torch->rl_prompt==0.1.0) (9.1.0.70)\r\n",
      "Requirement already satisfied: nvidia-cublas-cu11==11.11.3.6 in /kaggle/conda/miniconda3/envs/my_env/lib/python3.10/site-packages (from torch->rl_prompt==0.1.0) (11.11.3.6)\r\n",
      "Requirement already satisfied: nvidia-cufft-cu11==10.9.0.58 in /kaggle/conda/miniconda3/envs/my_env/lib/python3.10/site-packages (from torch->rl_prompt==0.1.0) (10.9.0.58)\r\n",
      "Requirement already satisfied: nvidia-curand-cu11==10.3.0.86 in /kaggle/conda/miniconda3/envs/my_env/lib/python3.10/site-packages (from torch->rl_prompt==0.1.0) (10.3.0.86)\r\n",
      "Requirement already satisfied: nvidia-cusolver-cu11==11.4.1.48 in /kaggle/conda/miniconda3/envs/my_env/lib/python3.10/site-packages (from torch->rl_prompt==0.1.0) (11.4.1.48)\r\n",
      "Requirement already satisfied: nvidia-cusparse-cu11==11.7.5.86 in /kaggle/conda/miniconda3/envs/my_env/lib/python3.10/site-packages (from torch->rl_prompt==0.1.0) (11.7.5.86)\r\n",
      "Requirement already satisfied: nvidia-nccl-cu11==2.21.5 in /kaggle/conda/miniconda3/envs/my_env/lib/python3.10/site-packages (from torch->rl_prompt==0.1.0) (2.21.5)\r\n",
      "Requirement already satisfied: nvidia-nvtx-cu11==11.8.86 in /kaggle/conda/miniconda3/envs/my_env/lib/python3.10/site-packages (from torch->rl_prompt==0.1.0) (11.8.86)\r\n",
      "Requirement already satisfied: triton==3.2.0 in /kaggle/conda/miniconda3/envs/my_env/lib/python3.10/site-packages (from torch->rl_prompt==0.1.0) (3.2.0)\r\n",
      "Requirement already satisfied: sympy==1.13.1 in /kaggle/conda/miniconda3/envs/my_env/lib/python3.10/site-packages (from torch->rl_prompt==0.1.0) (1.13.1)\r\n",
      "Requirement already satisfied: mpmath<1.4,>=1.1.0 in /kaggle/conda/miniconda3/envs/my_env/lib/python3.10/site-packages (from sympy==1.13.1->torch->rl_prompt==0.1.0) (1.3.0)\r\n",
      "Collecting huggingface-hub<1.0,>=0.30.0 (from transformers->rl_prompt==0.1.0)\r\n",
      "  Downloading huggingface_hub-0.30.2-py3-none-any.whl.metadata (13 kB)\r\n",
      "Collecting pyyaml>=5.1 (from transformers->rl_prompt==0.1.0)\r\n",
      "  Downloading PyYAML-6.0.2-cp310-cp310-manylinux_2_17_x86_64.manylinux2014_x86_64.whl.metadata (2.1 kB)\r\n",
      "Collecting regex!=2019.12.17 (from transformers->rl_prompt==0.1.0)\r\n",
      "  Downloading regex-2024.11.6-cp310-cp310-manylinux_2_17_x86_64.manylinux2014_x86_64.whl.metadata (40 kB)\r\n",
      "Collecting requests (from transformers->rl_prompt==0.1.0)\r\n",
      "  Downloading requests-2.32.3-py3-none-any.whl.metadata (4.6 kB)\r\n",
      "Collecting tokenizers<0.22,>=0.21 (from transformers->rl_prompt==0.1.0)\r\n",
      "  Downloading tokenizers-0.21.1-cp39-abi3-manylinux_2_17_x86_64.manylinux2014_x86_64.whl.metadata (6.8 kB)\r\n",
      "Collecting safetensors>=0.4.3 (from transformers->rl_prompt==0.1.0)\r\n",
      "  Downloading safetensors-0.5.3-cp38-abi3-manylinux_2_17_x86_64.manylinux2014_x86_64.whl.metadata (3.8 kB)\r\n",
      "Collecting tqdm>=4.27 (from transformers->rl_prompt==0.1.0)\r\n",
      "  Downloading tqdm-4.67.1-py3-none-any.whl.metadata (57 kB)\r\n",
      "Collecting click!=8.0.0,>=7.1 (from wandb->rl_prompt==0.1.0)\r\n",
      "  Downloading click-8.1.8-py3-none-any.whl.metadata (2.3 kB)\r\n",
      "Collecting docker-pycreds>=0.4.0 (from wandb->rl_prompt==0.1.0)\r\n",
      "  Downloading docker_pycreds-0.4.0-py2.py3-none-any.whl.metadata (1.8 kB)\r\n",
      "Collecting gitpython!=3.1.29,>=1.0.0 (from wandb->rl_prompt==0.1.0)\r\n",
      "  Downloading GitPython-3.1.44-py3-none-any.whl.metadata (13 kB)\r\n",
      "Collecting platformdirs (from wandb->rl_prompt==0.1.0)\r\n",
      "  Downloading platformdirs-4.3.7-py3-none-any.whl.metadata (11 kB)\r\n",
      "Collecting protobuf!=4.21.0,!=5.28.0,<6,>=3.19.0 (from wandb->rl_prompt==0.1.0)\r\n",
      "  Downloading protobuf-5.29.4-cp38-abi3-manylinux2014_x86_64.whl.metadata (592 bytes)\r\n",
      "Collecting psutil>=5.0.0 (from wandb->rl_prompt==0.1.0)\r\n",
      "  Downloading psutil-7.0.0-cp36-abi3-manylinux_2_12_x86_64.manylinux2010_x86_64.manylinux_2_17_x86_64.manylinux2014_x86_64.whl.metadata (22 kB)\r\n",
      "Collecting pydantic<3 (from wandb->rl_prompt==0.1.0)\r\n",
      "  Downloading pydantic-2.11.3-py3-none-any.whl.metadata (65 kB)\r\n",
      "Collecting sentry-sdk>=2.0.0 (from wandb->rl_prompt==0.1.0)\r\n",
      "  Downloading sentry_sdk-2.25.1-py2.py3-none-any.whl.metadata (10 kB)\r\n",
      "Collecting setproctitle (from wandb->rl_prompt==0.1.0)\r\n",
      "  Downloading setproctitle-1.3.5-cp310-cp310-manylinux_2_5_x86_64.manylinux1_x86_64.manylinux_2_17_x86_64.manylinux2014_x86_64.whl.metadata (10 kB)\r\n",
      "Requirement already satisfied: setuptools in /kaggle/conda/miniconda3/envs/my_env/lib/python3.10/site-packages (from wandb->rl_prompt==0.1.0) (75.8.0)\r\n",
      "Collecting six>=1.4.0 (from docker-pycreds>=0.4.0->wandb->rl_prompt==0.1.0)\r\n",
      "  Downloading six-1.17.0-py2.py3-none-any.whl.metadata (1.7 kB)\r\n",
      "Collecting gitdb<5,>=4.0.1 (from gitpython!=3.1.29,>=1.0.0->wandb->rl_prompt==0.1.0)\r\n",
      "  Downloading gitdb-4.0.12-py3-none-any.whl.metadata (1.2 kB)\r\n",
      "Collecting annotated-types>=0.6.0 (from pydantic<3->wandb->rl_prompt==0.1.0)\r\n",
      "  Downloading annotated_types-0.7.0-py3-none-any.whl.metadata (15 kB)\r\n",
      "Collecting pydantic-core==2.33.1 (from pydantic<3->wandb->rl_prompt==0.1.0)\r\n",
      "  Downloading pydantic_core-2.33.1-cp310-cp310-manylinux_2_17_x86_64.manylinux2014_x86_64.whl.metadata (6.8 kB)\r\n",
      "Collecting typing-inspection>=0.4.0 (from pydantic<3->wandb->rl_prompt==0.1.0)\r\n",
      "  Downloading typing_inspection-0.4.0-py3-none-any.whl.metadata (2.6 kB)\r\n",
      "Collecting charset-normalizer<4,>=2 (from requests->transformers->rl_prompt==0.1.0)\r\n",
      "  Downloading charset_normalizer-3.4.1-cp310-cp310-manylinux_2_17_x86_64.manylinux2014_x86_64.whl.metadata (35 kB)\r\n",
      "Collecting idna<4,>=2.5 (from requests->transformers->rl_prompt==0.1.0)\r\n",
      "  Downloading idna-3.10-py3-none-any.whl.metadata (10 kB)\r\n",
      "Collecting urllib3<3,>=1.21.1 (from requests->transformers->rl_prompt==0.1.0)\r\n",
      "  Downloading urllib3-2.4.0-py3-none-any.whl.metadata (6.5 kB)\r\n",
      "Collecting certifi>=2017.4.17 (from requests->transformers->rl_prompt==0.1.0)\r\n",
      "  Downloading certifi-2025.1.31-py3-none-any.whl.metadata (2.5 kB)\r\n",
      "Requirement already satisfied: MarkupSafe>=2.0 in /kaggle/conda/miniconda3/envs/my_env/lib/python3.10/site-packages (from jinja2->torch->rl_prompt==0.1.0) (3.0.2)\r\n",
      "Collecting smmap<6,>=3.0.1 (from gitdb<5,>=4.0.1->gitpython!=3.1.29,>=1.0.0->wandb->rl_prompt==0.1.0)\r\n",
      "  Downloading smmap-5.0.2-py3-none-any.whl.metadata (4.3 kB)\r\n",
      "Downloading hydra_core-1.2.0-py3-none-any.whl (151 kB)\r\n",
      "Downloading numpy-2.2.4-cp310-cp310-manylinux_2_17_x86_64.manylinux2014_x86_64.whl (16.4 MB)\r\n",
      "\u001b[2K   \u001b[90m━━━━━━━━━━━━━━━━━━━━━━━━━━━━━━━━━━━━━━━━\u001b[0m \u001b[32m16.4/16.4 MB\u001b[0m \u001b[31m41.0 MB/s\u001b[0m eta \u001b[36m0:00:00\u001b[0m\r\n",
      "\u001b[?25hDownloading pandas-2.2.3-cp310-cp310-manylinux_2_17_x86_64.manylinux2014_x86_64.whl (13.1 MB)\r\n",
      "\u001b[2K   \u001b[90m━━━━━━━━━━━━━━━━━━━━━━━━━━━━━━━━━━━━━━━━\u001b[0m \u001b[32m13.1/13.1 MB\u001b[0m \u001b[31m101.7 MB/s\u001b[0m eta \u001b[36m0:00:00\u001b[0m\r\n",
      "\u001b[?25hDownloading transformers-4.51.2-py3-none-any.whl (10.4 MB)\r\n",
      "\u001b[2K   \u001b[90m━━━━━━━━━━━━━━━━━━━━━━━━━━━━━━━━━━━━━━━━\u001b[0m \u001b[32m10.4/10.4 MB\u001b[0m \u001b[31m120.4 MB/s\u001b[0m eta \u001b[36m0:00:00\u001b[0m\r\n",
      "\u001b[?25hDownloading wandb-0.19.9-py3-none-manylinux_2_17_x86_64.manylinux2014_x86_64.whl (20.9 MB)\r\n",
      "\u001b[2K   \u001b[90m━━━━━━━━━━━━━━━━━━━━━━━━━━━━━━━━━━━━━━━━\u001b[0m \u001b[32m20.9/20.9 MB\u001b[0m \u001b[31m145.3 MB/s\u001b[0m eta \u001b[36m0:00:00\u001b[0m\r\n",
      "\u001b[?25hDownloading click-8.1.8-py3-none-any.whl (98 kB)\r\n",
      "Downloading docker_pycreds-0.4.0-py2.py3-none-any.whl (9.0 kB)\r\n",
      "Downloading GitPython-3.1.44-py3-none-any.whl (207 kB)\r\n",
      "Downloading huggingface_hub-0.30.2-py3-none-any.whl (481 kB)\r\n",
      "Downloading omegaconf-2.3.0-py3-none-any.whl (79 kB)\r\n",
      "Downloading packaging-24.2-py3-none-any.whl (65 kB)\r\n",
      "Downloading protobuf-5.29.4-cp38-abi3-manylinux2014_x86_64.whl (319 kB)\r\n",
      "Downloading psutil-7.0.0-cp36-abi3-manylinux_2_12_x86_64.manylinux2010_x86_64.manylinux_2_17_x86_64.manylinux2014_x86_64.whl (277 kB)\r\n",
      "Downloading pydantic-2.11.3-py3-none-any.whl (443 kB)\r\n",
      "Downloading pydantic_core-2.33.1-cp310-cp310-manylinux_2_17_x86_64.manylinux2014_x86_64.whl (2.0 MB)\r\n",
      "\u001b[2K   \u001b[90m━━━━━━━━━━━━━━━━━━━━━━━━━━━━━━━━━━━━━━━━\u001b[0m \u001b[32m2.0/2.0 MB\u001b[0m \u001b[31m59.9 MB/s\u001b[0m eta \u001b[36m0:00:00\u001b[0m\r\n",
      "\u001b[?25hDownloading python_dateutil-2.9.0.post0-py2.py3-none-any.whl (229 kB)\r\n",
      "Downloading pytz-2025.2-py2.py3-none-any.whl (509 kB)\r\n",
      "Downloading PyYAML-6.0.2-cp310-cp310-manylinux_2_17_x86_64.manylinux2014_x86_64.whl (751 kB)\r\n",
      "\u001b[2K   \u001b[90m━━━━━━━━━━━━━━━━━━━━━━━━━━━━━━━━━━━━━━━━\u001b[0m \u001b[32m751.2/751.2 kB\u001b[0m \u001b[31m29.1 MB/s\u001b[0m eta \u001b[36m0:00:00\u001b[0m\r\n",
      "\u001b[?25hDownloading regex-2024.11.6-cp310-cp310-manylinux_2_17_x86_64.manylinux2014_x86_64.whl (781 kB)\r\n",
      "\u001b[2K   \u001b[90m━━━━━━━━━━━━━━━━━━━━━━━━━━━━━━━━━━━━━━━━\u001b[0m \u001b[32m781.7/781.7 kB\u001b[0m \u001b[31m26.0 MB/s\u001b[0m eta \u001b[36m0:00:00\u001b[0m\r\n",
      "\u001b[?25hDownloading requests-2.32.3-py3-none-any.whl (64 kB)\r\n",
      "Downloading safetensors-0.5.3-cp38-abi3-manylinux_2_17_x86_64.manylinux2014_x86_64.whl (471 kB)\r\n",
      "Downloading sentry_sdk-2.25.1-py2.py3-none-any.whl (339 kB)\r\n",
      "Downloading tokenizers-0.21.1-cp39-abi3-manylinux_2_17_x86_64.manylinux2014_x86_64.whl (3.0 MB)\r\n",
      "\u001b[2K   \u001b[90m━━━━━━━━━━━━━━━━━━━━━━━━━━━━━━━━━━━━━━━━\u001b[0m \u001b[32m3.0/3.0 MB\u001b[0m \u001b[31m88.5 MB/s\u001b[0m eta \u001b[36m0:00:00\u001b[0m\r\n",
      "\u001b[?25hDownloading tqdm-4.67.1-py3-none-any.whl (78 kB)\r\n",
      "Downloading tzdata-2025.2-py2.py3-none-any.whl (347 kB)\r\n",
      "Downloading platformdirs-4.3.7-py3-none-any.whl (18 kB)\r\n",
      "Downloading setproctitle-1.3.5-cp310-cp310-manylinux_2_5_x86_64.manylinux1_x86_64.manylinux_2_17_x86_64.manylinux2014_x86_64.whl (30 kB)\r\n",
      "Downloading annotated_types-0.7.0-py3-none-any.whl (13 kB)\r\n",
      "Downloading certifi-2025.1.31-py3-none-any.whl (166 kB)\r\n",
      "Downloading charset_normalizer-3.4.1-cp310-cp310-manylinux_2_17_x86_64.manylinux2014_x86_64.whl (146 kB)\r\n",
      "Downloading gitdb-4.0.12-py3-none-any.whl (62 kB)\r\n",
      "Downloading idna-3.10-py3-none-any.whl (70 kB)\r\n",
      "Downloading six-1.17.0-py2.py3-none-any.whl (11 kB)\r\n",
      "Downloading typing_inspection-0.4.0-py3-none-any.whl (14 kB)\r\n",
      "Downloading urllib3-2.4.0-py3-none-any.whl (128 kB)\r\n",
      "Downloading smmap-5.0.2-py3-none-any.whl (24 kB)\r\n",
      "Building wheels for collected packages: antlr4-python3-runtime, typing\r\n",
      "  Building wheel for antlr4-python3-runtime (setup.py) ... \u001b[?25l\u001b[?25hdone\r\n",
      "  Created wheel for antlr4-python3-runtime: filename=antlr4_python3_runtime-4.9.3-py3-none-any.whl size=144591 sha256=9a5e7ef5b2deaad0df65ffaf482eecba0bf9cd27f4b103121dcb5997b9b8f0f8\r\n",
      "  Stored in directory: /root/.cache/pip/wheels/12/93/dd/1f6a127edc45659556564c5730f6d4e300888f4bca2d4c5a88\r\n",
      "  Building wheel for typing (setup.py) ... \u001b[?25l\u001b[?25hdone\r\n",
      "  Created wheel for typing: filename=typing-3.7.4.3-py3-none-any.whl size=26365 sha256=be2275e5751403cb709d8e39f4e35bba8ab8387f116f1203b9df22844539b561\r\n",
      "  Stored in directory: /root/.cache/pip/wheels/7c/d0/9e/1f26ebb66d9e1732e4098bc5a6c2d91f6c9a529838f0284890\r\n",
      "Successfully built antlr4-python3-runtime typing\r\n",
      "Installing collected packages: pytz, antlr4-python3-runtime, urllib3, tzdata, typing-inspection, typing, tqdm, smmap, six, setproctitle, safetensors, regex, pyyaml, pydantic-core, psutil, protobuf, platformdirs, packaging, numpy, idna, click, charset-normalizer, certifi, annotated-types, sentry-sdk, requests, python-dateutil, pydantic, omegaconf, gitdb, docker-pycreds, pandas, hydra-core, huggingface-hub, gitpython, wandb, tokenizers, transformers, rl_prompt\r\n",
      "\u001b[33m  DEPRECATION: Legacy editable install of rl_prompt==0.1.0 from file:///kaggle/working/rl-prompt (setup.py develop) is deprecated. pip 25.1 will enforce this behaviour change. A possible replacement is to add a pyproject.toml or enable --use-pep517, and use setuptools >= 64. If the resulting installation is not behaving as expected, try using --config-settings editable_mode=compat. Please consult the setuptools documentation for more information. Discussion can be found at https://github.com/pypa/pip/issues/11457\u001b[0m\u001b[33m\r\n",
      "\u001b[0m  Running setup.py develop for rl_prompt\r\n",
      "Successfully installed annotated-types-0.7.0 antlr4-python3-runtime-4.9.3 certifi-2025.1.31 charset-normalizer-3.4.1 click-8.1.8 docker-pycreds-0.4.0 gitdb-4.0.12 gitpython-3.1.44 huggingface-hub-0.30.2 hydra-core-1.2.0 idna-3.10 numpy-2.2.4 omegaconf-2.3.0 packaging-24.2 pandas-2.2.3 platformdirs-4.3.7 protobuf-5.29.4 psutil-7.0.0 pydantic-2.11.3 pydantic-core-2.33.1 python-dateutil-2.9.0.post0 pytz-2025.2 pyyaml-6.0.2 regex-2024.11.6 requests-2.32.3 rl_prompt safetensors-0.5.3 sentry-sdk-2.25.1 setproctitle-1.3.5 six-1.17.0 smmap-5.0.2 tokenizers-0.21.1 tqdm-4.67.1 transformers-4.51.2 typing-3.7.4.3 typing-inspection-0.4.0 tzdata-2025.2 urllib3-2.4.0 wandb-0.19.9\r\n"
     ]
    }
   ],
   "source": [
    "!source $root_dir/miniconda3/bin/activate my_env; pip install -e ."
   ]
  },
  {
   "cell_type": "markdown",
   "id": "a3d6f780",
   "metadata": {
    "papermill": {
     "duration": 0.01615,
     "end_time": "2025-04-11T15:49:33.846068",
     "exception": false,
     "start_time": "2025-04-11T15:49:33.829918",
     "status": "completed"
    },
    "tags": []
   },
   "source": [
    "## Train RLPrompt"
   ]
  },
  {
   "cell_type": "code",
   "execution_count": 7,
   "id": "9416e1c1",
   "metadata": {
    "execution": {
     "iopub.execute_input": "2025-04-11T15:49:33.880062Z",
     "iopub.status.busy": "2025-04-11T15:49:33.879804Z",
     "iopub.status.idle": "2025-04-11T15:49:33.884948Z",
     "shell.execute_reply": "2025-04-11T15:49:33.884350Z"
    },
    "papermill": {
     "duration": 0.023625,
     "end_time": "2025-04-11T15:49:33.885990",
     "exception": false,
     "start_time": "2025-04-11T15:49:33.862365",
     "status": "completed"
    },
    "tags": []
   },
   "outputs": [
    {
     "name": "stdout",
     "output_type": "stream",
     "text": [
      "/kaggle/working/rl-prompt/examples/few-shot-classification\n"
     ]
    }
   ],
   "source": [
    "%cd examples/few-shot-classification"
   ]
  },
  {
   "cell_type": "code",
   "execution_count": 8,
   "id": "13a9908c",
   "metadata": {
    "execution": {
     "iopub.execute_input": "2025-04-11T15:49:33.919530Z",
     "iopub.status.busy": "2025-04-11T15:49:33.919334Z",
     "iopub.status.idle": "2025-04-11T15:49:33.924780Z",
     "shell.execute_reply": "2025-04-11T15:49:33.924241Z"
    },
    "papermill": {
     "duration": 0.023233,
     "end_time": "2025-04-11T15:49:33.925746",
     "exception": false,
     "start_time": "2025-04-11T15:49:33.902513",
     "status": "completed"
    },
    "tags": []
   },
   "outputs": [
    {
     "name": "stdout",
     "output_type": "stream",
     "text": [
      "Added print redirection to /kaggle/working/rl-prompt/examples/few-shot-classification/fsc_reward.py\n"
     ]
    }
   ],
   "source": [
    "# This script adds print redirection to your target Python file\n",
    "target_file = \"/kaggle/working/rl-prompt/examples/few-shot-classification/fsc_reward.py\"  # Replace with your script's path\n",
    "code_to_insert = '''import sys\n",
    "sys.stdout = open('/kaggle/working/all_outputs_sst2.log', 'a', encoding='utf-8')\\n\\n'''\n",
    "\n",
    "# Read the original code\n",
    "with open(target_file, \"r\", encoding=\"utf-8\") as f:\n",
    "    original_code = f.read()\n",
    "\n",
    "# Insert the new code at the beginning\n",
    "modified_code = code_to_insert + original_code\n",
    "\n",
    "# Write the modified code back\n",
    "with open(target_file, \"w\", encoding=\"utf-8\") as f:\n",
    "    f.write(modified_code)\n",
    "\n",
    "print(f\"Added print redirection to {target_file}\")"
   ]
  },
  {
   "cell_type": "code",
   "execution_count": 9,
   "id": "4894b11f",
   "metadata": {
    "execution": {
     "iopub.execute_input": "2025-04-11T15:49:33.959288Z",
     "iopub.status.busy": "2025-04-11T15:49:33.958765Z",
     "iopub.status.idle": "2025-04-11T23:08:35.726938Z",
     "shell.execute_reply": "2025-04-11T23:08:35.726165Z"
    },
    "papermill": {
     "duration": 26341.803308,
     "end_time": "2025-04-11T23:08:35.745235",
     "exception": false,
     "start_time": "2025-04-11T15:49:33.941927",
     "status": "completed"
    },
    "tags": []
   },
   "outputs": [
    {
     "name": "stdout",
     "output_type": "stream",
     "text": [
      "=================================================================\n",
      "Running dataset_seed=0\n",
      "=================================================================\n",
      "=================================================================\n",
      "Running dataset_seed=1\n",
      "=================================================================\n",
      "=================================================================\n",
      "Running dataset_seed=2\n",
      "=================================================================\n",
      "=================================================================\n",
      "Running dataset_seed=3\n",
      "=================================================================\n",
      "=================================================================\n",
      "Running dataset_seed=4\n",
      "=================================================================\n"
     ]
    }
   ],
   "source": [
    "%%bash\n",
    "source /kaggle/conda/miniconda3/bin/activate my_env\n",
    "\n",
    "# Loop through dataset seeds\n",
    "for dataset_seed in {0..4}; do    \n",
    "    echo \"=================================================================\"\n",
    "    echo \"Running dataset_seed=${dataset_seed}\"\n",
    "    echo \"=================================================================\"\n",
    "    \n",
    "    python /kaggle/working/rl-prompt/examples/few-shot-classification/run_fsc.py \\\n",
    "        dataset=sst-2 \\\n",
    "        dataset_seed=${dataset_seed} \\\n",
    "        prompt_length=2 \\\n",
    "        task_lm=distilroberta-base \\\n",
    "        random_seed=42 \\\n",
    "        report_to_wandb=False \\\n",
    "        max_train_steps=6000 > \\\n",
    "        /kaggle/working/sst2_ds${dataset_seed}.log 2>&1\n",
    "done"
   ]
  }
 ],
 "metadata": {
  "kaggle": {
   "accelerator": "gpu",
   "dataSources": [],
   "dockerImageVersionId": 31011,
   "isGpuEnabled": true,
   "isInternetEnabled": true,
   "language": "python",
   "sourceType": "notebook"
  },
  "kernelspec": {
   "display_name": "Python 3",
   "language": "python",
   "name": "python3"
  },
  "language_info": {
   "codemirror_mode": {
    "name": "ipython",
    "version": 3
   },
   "file_extension": ".py",
   "mimetype": "text/x-python",
   "name": "python",
   "nbconvert_exporter": "python",
   "pygments_lexer": "ipython3",
   "version": "3.11.11"
  },
  "papermill": {
   "default_parameters": {},
   "duration": 26519.707587,
   "end_time": "2025-04-11T23:08:36.099034",
   "environment_variables": {},
   "exception": null,
   "input_path": "__notebook__.ipynb",
   "output_path": "__notebook__.ipynb",
   "parameters": {},
   "start_time": "2025-04-11T15:46:36.391447",
   "version": "2.6.0"
  }
 },
 "nbformat": 4,
 "nbformat_minor": 5
}
