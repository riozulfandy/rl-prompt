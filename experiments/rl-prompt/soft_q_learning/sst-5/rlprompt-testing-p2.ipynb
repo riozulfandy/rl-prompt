{
 "cells": [
  {
   "cell_type": "code",
   "execution_count": 1,
   "id": "edb079cb",
   "metadata": {
    "execution": {
     "iopub.execute_input": "2025-05-18T04:30:12.078703Z",
     "iopub.status.busy": "2025-05-18T04:30:12.078433Z",
     "iopub.status.idle": "2025-05-18T04:30:12.085271Z",
     "shell.execute_reply": "2025-05-18T04:30:12.084654Z"
    },
    "papermill": {
     "duration": 0.01328,
     "end_time": "2025-05-18T04:30:12.086460",
     "exception": false,
     "start_time": "2025-05-18T04:30:12.073180",
     "status": "completed"
    },
    "tags": []
   },
   "outputs": [
    {
     "name": "stdout",
     "output_type": "stream",
     "text": [
      "Don't forget to change the dataset argument\n"
     ]
    }
   ],
   "source": [
    "LOG_PATH = '/kaggle/input/rlprompt-sst2-distillroberta-base/all_outputs_sst5.log'\n",
    "print(\"Don't forget to change the dataset argument\")"
   ]
  },
  {
   "cell_type": "code",
   "execution_count": 2,
   "id": "44f890ce",
   "metadata": {
    "execution": {
     "iopub.execute_input": "2025-05-18T04:30:12.094885Z",
     "iopub.status.busy": "2025-05-18T04:30:12.094491Z",
     "iopub.status.idle": "2025-05-18T04:30:13.527547Z",
     "shell.execute_reply": "2025-05-18T04:30:13.526949Z"
    },
    "papermill": {
     "duration": 1.438421,
     "end_time": "2025-05-18T04:30:13.528887",
     "exception": false,
     "start_time": "2025-05-18T04:30:12.090466",
     "status": "completed"
    },
    "tags": []
   },
   "outputs": [],
   "source": [
    "import pandas as pd"
   ]
  },
  {
   "cell_type": "markdown",
   "id": "61d47103",
   "metadata": {
    "papermill": {
     "duration": 0.003089,
     "end_time": "2025-05-18T04:30:13.535688",
     "exception": false,
     "start_time": "2025-05-18T04:30:13.532599",
     "status": "completed"
    },
    "tags": []
   },
   "source": [
    "## Experiments Data Getter: Validation"
   ]
  },
  {
   "cell_type": "code",
   "execution_count": 3,
   "id": "71e17dce",
   "metadata": {
    "execution": {
     "iopub.execute_input": "2025-05-18T04:30:13.543625Z",
     "iopub.status.busy": "2025-05-18T04:30:13.543304Z",
     "iopub.status.idle": "2025-05-18T04:30:16.677719Z",
     "shell.execute_reply": "2025-05-18T04:30:16.677112Z"
    },
    "papermill": {
     "duration": 3.139824,
     "end_time": "2025-05-18T04:30:16.679081",
     "exception": false,
     "start_time": "2025-05-18T04:30:13.539257",
     "status": "completed"
    },
    "tags": []
   },
   "outputs": [],
   "source": [
    "import re\n",
    "\n",
    "log_file = LOG_PATH\n",
    "\n",
    "step_pattern = re.compile(r'^(\\d+)\\s+\\|')\n",
    "reward_pattern = re.compile(r'([-+]?\\d*\\.\\d+|\\d+)')\n",
    "accuracy_pattern = re.compile(r'Accuracy:\\s*([-+]?\\d*\\.\\d+|\\d+)')\n",
    "\n",
    "steps = []\n",
    "rewards = []\n",
    "accuracy = []\n",
    "prompts = []\n",
    "\n",
    "with open(log_file, 'r') as f:\n",
    "    lines = f.readlines()\n",
    "\n",
    "current_step = None\n",
    "\n",
    "for i, line in enumerate(lines):\n",
    "    step_match = step_pattern.match(line)\n",
    "    if step_match:\n",
    "        current_step = int(step_match.group(1))\n",
    "\n",
    "    if \"Our Prompt:\" in line:\n",
    "        next_line = lines[i + 1].strip()\n",
    "        prev_line = lines[i - 1].strip()\n",
    "\n",
    "        accuracy_match = accuracy_pattern.search(prev_line)\n",
    "        numbers = reward_pattern.findall(next_line)\n",
    "\n",
    "        if accuracy_match and numbers and current_step is not None:\n",
    "            acc_value = float(accuracy_match.group(1))\n",
    "            reward_value = float(numbers[-1])\n",
    "\n",
    "            steps.append(current_step)\n",
    "            rewards.append(reward_value)\n",
    "            accuracy.append(acc_value)\n",
    "            prompts.append(next_line)"
   ]
  },
  {
   "cell_type": "code",
   "execution_count": 4,
   "id": "908982a8",
   "metadata": {
    "execution": {
     "iopub.execute_input": "2025-05-18T04:30:16.686728Z",
     "iopub.status.busy": "2025-05-18T04:30:16.686502Z",
     "iopub.status.idle": "2025-05-18T04:30:16.740826Z",
     "shell.execute_reply": "2025-05-18T04:30:16.740056Z"
    },
    "papermill": {
     "duration": 0.059562,
     "end_time": "2025-05-18T04:30:16.742190",
     "exception": false,
     "start_time": "2025-05-18T04:30:16.682628",
     "status": "completed"
    },
    "tags": []
   },
   "outputs": [],
   "source": [
    "INTERVAL = 600\n",
    "\n",
    "starts = 0\n",
    "end = starts + INTERVAL\n",
    "\n",
    "seed_best_prompts = []\n",
    "\n",
    "validation_dfs = {}\n",
    "\n",
    "while end <= len(steps):\n",
    "    interval_acc = accuracy[starts:end]\n",
    "    interval_prompts = prompts[starts:end]\n",
    "    interval_steps = steps[starts:end]\n",
    "    interval_rewards = rewards[starts:end]\n",
    "    seed = starts // INTERVAL\n",
    "\n",
    "    max_idx = interval_acc.index(max(interval_acc))\n",
    "    best_prompt = interval_prompts[max_idx]\n",
    "    seed_best_prompts.append((seed, max(interval_acc), best_prompt))\n",
    "\n",
    "    values = {\n",
    "        'step': interval_steps,\n",
    "        'accuracy': interval_acc,\n",
    "        'rewards': interval_rewards,\n",
    "        'prompts': interval_prompts,\n",
    "    }\n",
    "\n",
    "    df = pd.DataFrame(values)\n",
    "    validation_dfs[seed] = df\n",
    "    df.to_csv(f\"validation_results_{seed}.csv\",index=False)\n",
    "\n",
    "    starts = end\n",
    "    end = starts + INTERVAL"
   ]
  },
  {
   "cell_type": "code",
   "execution_count": 5,
   "id": "fa7286d6",
   "metadata": {
    "execution": {
     "iopub.execute_input": "2025-05-18T04:30:16.750065Z",
     "iopub.status.busy": "2025-05-18T04:30:16.749493Z",
     "iopub.status.idle": "2025-05-18T04:30:16.753839Z",
     "shell.execute_reply": "2025-05-18T04:30:16.753177Z"
    },
    "papermill": {
     "duration": 0.009288,
     "end_time": "2025-05-18T04:30:16.754848",
     "exception": false,
     "start_time": "2025-05-18T04:30:16.745560",
     "status": "completed"
    },
    "tags": []
   },
   "outputs": [
    {
     "name": "stdout",
     "output_type": "stream",
     "text": [
      "Seed 0: Max Accuracy = 0.4250\n",
      "Prompt: ['Server colours'] -5.3802008628845215\n",
      "--------------------------------------------------\n",
      "Seed 1: Max Accuracy = 0.3875\n",
      "Prompt: ['Animationiveness'] -7.717338562011719\n",
      "--------------------------------------------------\n"
     ]
    }
   ],
   "source": [
    "# Print best prompt (highest accuracy) for each seed\n",
    "for seed, acc, prompt in seed_best_prompts:\n",
    "    print(f\"Seed {seed}: Max Accuracy = {acc:.4f}\")\n",
    "    print(f\"Prompt: {prompt}\")\n",
    "    print(\"-\" * 50)"
   ]
  },
  {
   "cell_type": "code",
   "execution_count": 6,
   "id": "8dd03898",
   "metadata": {
    "execution": {
     "iopub.execute_input": "2025-05-18T04:30:16.762609Z",
     "iopub.status.busy": "2025-05-18T04:30:16.762074Z",
     "iopub.status.idle": "2025-05-18T04:30:16.766541Z",
     "shell.execute_reply": "2025-05-18T04:30:16.765807Z"
    },
    "papermill": {
     "duration": 0.009439,
     "end_time": "2025-05-18T04:30:16.767607",
     "exception": false,
     "start_time": "2025-05-18T04:30:16.758168",
     "status": "completed"
    },
    "tags": []
   },
   "outputs": [
    {
     "name": "stdout",
     "output_type": "stream",
     "text": [
      "['Server colours', 'Animationiveness']\n"
     ]
    }
   ],
   "source": [
    "import ast\n",
    "\n",
    "best_prompt_words = []\n",
    "\n",
    "for _, _, raw_prompt in seed_best_prompts:\n",
    "    try:\n",
    "        bracket_content = raw_prompt.split(']')[0] + ']'\n",
    "        prompt_list = ast.literal_eval(bracket_content)\n",
    "        if isinstance(prompt_list, list) and len(prompt_list) > 0:\n",
    "            best_prompt_words.append(prompt_list[0])\n",
    "    except:\n",
    "        continue\n",
    "\n",
    "print(best_prompt_words)"
   ]
  },
  {
   "cell_type": "markdown",
   "id": "ed979147",
   "metadata": {
    "papermill": {
     "duration": 0.00315,
     "end_time": "2025-05-18T04:30:16.774235",
     "exception": false,
     "start_time": "2025-05-18T04:30:16.771085",
     "status": "completed"
    },
    "tags": []
   },
   "source": [
    "## Experiments Data Getter: Training"
   ]
  },
  {
   "cell_type": "code",
   "execution_count": 7,
   "id": "eebd07e7",
   "metadata": {
    "execution": {
     "iopub.execute_input": "2025-05-18T04:30:16.782020Z",
     "iopub.status.busy": "2025-05-18T04:30:16.781502Z",
     "iopub.status.idle": "2025-05-18T04:30:18.860889Z",
     "shell.execute_reply": "2025-05-18T04:30:18.859967Z"
    },
    "papermill": {
     "duration": 2.084505,
     "end_time": "2025-05-18T04:30:18.862014",
     "exception": false,
     "start_time": "2025-05-18T04:30:16.777509",
     "status": "completed"
    },
    "tags": []
   },
   "outputs": [
    {
     "name": "stdout",
     "output_type": "stream",
     "text": [
      "Total training time: 3.03 hours (182.01 minutes)\n",
      "\n",
      "Peak GPU memory usage: 1963.42 MB (1.92 GB)\n",
      "\n",
      "Total training time: 4.04 hours (242.49 minutes)\n",
      "\n",
      "Peak GPU memory usage: 2202.14 MB (2.15 GB)\n",
      "\n"
     ]
    }
   ],
   "source": [
    "import numpy as np\n",
    "\n",
    "log_file = LOG_PATH\n",
    "\n",
    "all_rewards = {}\n",
    "all_accuracy = {}\n",
    "\n",
    "header_pattern = re.compile(r'^(\\d+)\\s*\\|')\n",
    "reward_pattern = re.compile(r'Reward:\\s*([-+]?\\d*\\.\\d+|\\d+)')\n",
    "accuracy_pattern = re.compile(r'Accuracy:\\s*([-+]?\\d*\\.\\d+|\\d+)')\n",
    "\n",
    "with open(log_file, 'r') as f:\n",
    "    lines = f.readlines()\n",
    "\n",
    "current_step = None\n",
    "seed = -1\n",
    "\n",
    "for line in lines:\n",
    "    if 'Task LM' in line:\n",
    "        seed += 1\n",
    "        all_rewards[seed] = {}\n",
    "        all_accuracy[seed] = {}\n",
    "        continue\n",
    "    \n",
    "    header_match = header_pattern.match(line)\n",
    "    if header_match:\n",
    "        current_step = int(header_match.group(1))\n",
    "    \n",
    "    if \"Reward:\" in line:\n",
    "        reward_match = reward_pattern.search(line)\n",
    "        if reward_match:\n",
    "            reward_value = float(reward_match.group(1))\n",
    "            if current_step is not None:\n",
    "                all_rewards[seed].setdefault(current_step, []).append(reward_value)\n",
    "\n",
    "    if \"Accuracy:\" in line:\n",
    "        accuracy_match = accuracy_pattern.search(line)\n",
    "        if accuracy_match:\n",
    "            accuracy_value = float(accuracy_match.group(1))\n",
    "            if current_step is not None:\n",
    "                all_accuracy[seed].setdefault(current_step, []).append(accuracy_value)\n",
    "\n",
    "    if 'Total training time' in line:\n",
    "        print(line)\n",
    "\n",
    "    if 'Peak GPU' in line:\n",
    "        print(line)"
   ]
  },
  {
   "cell_type": "code",
   "execution_count": 8,
   "id": "cda6c617",
   "metadata": {
    "execution": {
     "iopub.execute_input": "2025-05-18T04:30:18.870557Z",
     "iopub.status.busy": "2025-05-18T04:30:18.870296Z",
     "iopub.status.idle": "2025-05-18T04:30:19.226543Z",
     "shell.execute_reply": "2025-05-18T04:30:19.225960Z"
    },
    "papermill": {
     "duration": 0.361864,
     "end_time": "2025-05-18T04:30:19.227824",
     "exception": false,
     "start_time": "2025-05-18T04:30:18.865960",
     "status": "completed"
    },
    "tags": []
   },
   "outputs": [],
   "source": [
    "training_results_dfs = {}\n",
    "\n",
    "for seed, data in all_rewards.items():\n",
    "    steps = sorted(data.keys())\n",
    "    means = [np.mean(data[step]) for step in steps]\n",
    "    stds  = [np.std(data[step]) for step in steps]\n",
    "\n",
    "    values = {\n",
    "        'step': steps,\n",
    "        'reward_mean': means,\n",
    "        'reward_std': stds\n",
    "    }\n",
    "\n",
    "    df = pd.DataFrame(values)\n",
    "    training_results_dfs[seed] = df"
   ]
  },
  {
   "cell_type": "code",
   "execution_count": 9,
   "id": "2dba3e4c",
   "metadata": {
    "execution": {
     "iopub.execute_input": "2025-05-18T04:30:19.236132Z",
     "iopub.status.busy": "2025-05-18T04:30:19.235754Z",
     "iopub.status.idle": "2025-05-18T04:30:19.653449Z",
     "shell.execute_reply": "2025-05-18T04:30:19.652759Z"
    },
    "papermill": {
     "duration": 0.423159,
     "end_time": "2025-05-18T04:30:19.654889",
     "exception": false,
     "start_time": "2025-05-18T04:30:19.231730",
     "status": "completed"
    },
    "tags": []
   },
   "outputs": [],
   "source": [
    "for seed, data in all_accuracy.items():\n",
    "    steps = sorted(data.keys())\n",
    "    means = [np.mean(data[step]) for step in steps]\n",
    "    stds  = [np.std(data[step]) for step in steps]\n",
    "\n",
    "    df = training_results_dfs[seed]\n",
    "    df['accuracy_mean'] = means\n",
    "    df['accuracy_stds'] = stds\n",
    "    df.to_csv(f\"training_results_{seed}.csv\",index=False)"
   ]
  },
  {
   "cell_type": "markdown",
   "id": "ad67fd5b",
   "metadata": {
    "papermill": {
     "duration": 0.003378,
     "end_time": "2025-05-18T04:30:19.662114",
     "exception": false,
     "start_time": "2025-05-18T04:30:19.658736",
     "status": "completed"
    },
    "tags": []
   },
   "source": [
    "## Environment Prep"
   ]
  },
  {
   "cell_type": "code",
   "execution_count": 10,
   "id": "1eada565",
   "metadata": {
    "execution": {
     "iopub.execute_input": "2025-05-18T04:30:19.669993Z",
     "iopub.status.busy": "2025-05-18T04:30:19.669767Z",
     "iopub.status.idle": "2025-05-18T04:30:19.673170Z",
     "shell.execute_reply": "2025-05-18T04:30:19.672614Z"
    },
    "papermill": {
     "duration": 0.008616,
     "end_time": "2025-05-18T04:30:19.674144",
     "exception": false,
     "start_time": "2025-05-18T04:30:19.665528",
     "status": "completed"
    },
    "tags": []
   },
   "outputs": [],
   "source": [
    "from IPython.display import clear_output"
   ]
  },
  {
   "cell_type": "code",
   "execution_count": 11,
   "id": "bd09f1ae",
   "metadata": {
    "execution": {
     "iopub.execute_input": "2025-05-18T04:30:19.682183Z",
     "iopub.status.busy": "2025-05-18T04:30:19.681509Z",
     "iopub.status.idle": "2025-05-18T04:30:33.043705Z",
     "shell.execute_reply": "2025-05-18T04:30:33.042812Z"
    },
    "papermill": {
     "duration": 13.367637,
     "end_time": "2025-05-18T04:30:33.045075",
     "exception": false,
     "start_time": "2025-05-18T04:30:19.677438",
     "status": "completed"
    },
    "tags": []
   },
   "outputs": [],
   "source": [
    "root_dir = \"/kaggle/conda\"\n",
    "!mkdir -p $root_dir\n",
    "!wget -q --show-progress https://repo.anaconda.com/miniconda/Miniconda3-latest-Linux-x86_64.sh\n",
    "!bash Miniconda3-latest-Linux-x86_64.sh -b -p $root_dir/miniconda3 -f\n",
    "clear_output()"
   ]
  },
  {
   "cell_type": "code",
   "execution_count": 12,
   "id": "131b7fd1",
   "metadata": {
    "execution": {
     "iopub.execute_input": "2025-05-18T04:30:33.053485Z",
     "iopub.status.busy": "2025-05-18T04:30:33.053019Z",
     "iopub.status.idle": "2025-05-18T04:30:42.973668Z",
     "shell.execute_reply": "2025-05-18T04:30:42.972902Z"
    },
    "papermill": {
     "duration": 9.925976,
     "end_time": "2025-05-18T04:30:42.974856",
     "exception": false,
     "start_time": "2025-05-18T04:30:33.048880",
     "status": "completed"
    },
    "tags": []
   },
   "outputs": [],
   "source": [
    "!$root_dir/miniconda3/bin/conda create --name my_env python=3.10 -y\n",
    "clear_output()"
   ]
  },
  {
   "cell_type": "code",
   "execution_count": 13,
   "id": "ac0141d2",
   "metadata": {
    "execution": {
     "iopub.execute_input": "2025-05-18T04:30:42.983707Z",
     "iopub.status.busy": "2025-05-18T04:30:42.983116Z",
     "iopub.status.idle": "2025-05-18T04:30:50.774113Z",
     "shell.execute_reply": "2025-05-18T04:30:50.773411Z"
    },
    "papermill": {
     "duration": 7.796348,
     "end_time": "2025-05-18T04:30:50.775282",
     "exception": false,
     "start_time": "2025-05-18T04:30:42.978934",
     "status": "completed"
    },
    "tags": []
   },
   "outputs": [
    {
     "name": "stdout",
     "output_type": "stream",
     "text": [
      "Cloning into 'rl-prompt'...\r\n",
      "remote: Enumerating objects: 1813, done.\u001b[K\r\n",
      "remote: Counting objects: 100% (661/661), done.\u001b[K\r\n",
      "remote: Compressing objects: 100% (385/385), done.\u001b[K\r\n",
      "remote: Total 1813 (delta 381), reused 466 (delta 273), pack-reused 1152 (from 1)\u001b[K\r\n",
      "Receiving objects: 100% (1813/1813), 83.59 MiB | 20.75 MiB/s, done.\r\n",
      "Resolving deltas: 100% (790/790), done.\r\n",
      "Updating files: 100% (291/291), done.\r\n"
     ]
    }
   ],
   "source": [
    "!git clone https://github.com/malifalhakim/rl-prompt.git"
   ]
  },
  {
   "cell_type": "code",
   "execution_count": 14,
   "id": "3b83bd0b",
   "metadata": {
    "execution": {
     "iopub.execute_input": "2025-05-18T04:30:50.786920Z",
     "iopub.status.busy": "2025-05-18T04:30:50.786693Z",
     "iopub.status.idle": "2025-05-18T04:30:50.793082Z",
     "shell.execute_reply": "2025-05-18T04:30:50.792222Z"
    },
    "papermill": {
     "duration": 0.013456,
     "end_time": "2025-05-18T04:30:50.794270",
     "exception": false,
     "start_time": "2025-05-18T04:30:50.780814",
     "status": "completed"
    },
    "tags": []
   },
   "outputs": [
    {
     "name": "stdout",
     "output_type": "stream",
     "text": [
      "/kaggle/working/rl-prompt\n"
     ]
    }
   ],
   "source": [
    "%cd /kaggle/working/rl-prompt"
   ]
  },
  {
   "cell_type": "code",
   "execution_count": 15,
   "id": "d85631e9",
   "metadata": {
    "execution": {
     "iopub.execute_input": "2025-05-18T04:30:50.804821Z",
     "iopub.status.busy": "2025-05-18T04:30:50.804624Z",
     "iopub.status.idle": "2025-05-18T04:32:58.889871Z",
     "shell.execute_reply": "2025-05-18T04:32:58.888905Z"
    },
    "papermill": {
     "duration": 128.091874,
     "end_time": "2025-05-18T04:32:58.891097",
     "exception": false,
     "start_time": "2025-05-18T04:30:50.799223",
     "status": "completed"
    },
    "tags": []
   },
   "outputs": [],
   "source": [
    "# Set the CUDA version variable\n",
    "CUDA_VERSION = 'cu118'\n",
    "\n",
    "# 1. Install PyTorch with matching CUDA version\n",
    "!source $root_dir/miniconda3/bin/activate my_env; pip install torch==2.6.0+{CUDA_VERSION} \\\n",
    "--extra-index-url https://download.pytorch.org/whl/{CUDA_VERSION}\n",
    "\n",
    "clear_output()"
   ]
  },
  {
   "cell_type": "code",
   "execution_count": 16,
   "id": "da7b1c7c",
   "metadata": {
    "execution": {
     "iopub.execute_input": "2025-05-18T04:32:58.903045Z",
     "iopub.status.busy": "2025-05-18T04:32:58.902809Z",
     "iopub.status.idle": "2025-05-18T04:33:30.471199Z",
     "shell.execute_reply": "2025-05-18T04:33:30.470478Z"
    },
    "papermill": {
     "duration": 31.575938,
     "end_time": "2025-05-18T04:33:30.472574",
     "exception": false,
     "start_time": "2025-05-18T04:32:58.896636",
     "status": "completed"
    },
    "tags": []
   },
   "outputs": [],
   "source": [
    "!source $root_dir/miniconda3/bin/activate my_env; pip install -e .\n",
    "\n",
    "clear_output()"
   ]
  },
  {
   "cell_type": "markdown",
   "id": "55dc11da",
   "metadata": {
    "papermill": {
     "duration": 0.004762,
     "end_time": "2025-05-18T04:33:30.482950",
     "exception": false,
     "start_time": "2025-05-18T04:33:30.478188",
     "status": "completed"
    },
    "tags": []
   },
   "source": [
    "## Evaluation"
   ]
  },
  {
   "cell_type": "code",
   "execution_count": 17,
   "id": "65c7d506",
   "metadata": {
    "execution": {
     "iopub.execute_input": "2025-05-18T04:33:30.493809Z",
     "iopub.status.busy": "2025-05-18T04:33:30.493597Z",
     "iopub.status.idle": "2025-05-18T04:33:30.498840Z",
     "shell.execute_reply": "2025-05-18T04:33:30.498270Z"
    },
    "papermill": {
     "duration": 0.011948,
     "end_time": "2025-05-18T04:33:30.499833",
     "exception": false,
     "start_time": "2025-05-18T04:33:30.487885",
     "status": "completed"
    },
    "tags": []
   },
   "outputs": [
    {
     "name": "stdout",
     "output_type": "stream",
     "text": [
      "/kaggle/working/rl-prompt/examples/few-shot-classification/evaluation\n"
     ]
    }
   ],
   "source": [
    "%cd examples/few-shot-classification/evaluation"
   ]
  },
  {
   "cell_type": "code",
   "execution_count": 18,
   "id": "74ad6949",
   "metadata": {
    "execution": {
     "iopub.execute_input": "2025-05-18T04:33:30.510702Z",
     "iopub.status.busy": "2025-05-18T04:33:30.510263Z",
     "iopub.status.idle": "2025-05-18T04:33:30.513870Z",
     "shell.execute_reply": "2025-05-18T04:33:30.513361Z"
    },
    "papermill": {
     "duration": 0.009973,
     "end_time": "2025-05-18T04:33:30.514766",
     "exception": false,
     "start_time": "2025-05-18T04:33:30.504793",
     "status": "completed"
    },
    "tags": []
   },
   "outputs": [],
   "source": [
    "with open(\"prompts.txt\", \"w\") as f:\n",
    "    for prompt in best_prompt_words:\n",
    "        f.write(prompt + \"\\n\")"
   ]
  },
  {
   "cell_type": "code",
   "execution_count": 19,
   "id": "9952f804",
   "metadata": {
    "execution": {
     "iopub.execute_input": "2025-05-18T04:33:30.525457Z",
     "iopub.status.busy": "2025-05-18T04:33:30.525276Z",
     "iopub.status.idle": "2025-05-18T04:35:17.679799Z",
     "shell.execute_reply": "2025-05-18T04:35:17.678991Z"
    },
    "papermill": {
     "duration": 107.165972,
     "end_time": "2025-05-18T04:35:17.685747",
     "exception": false,
     "start_time": "2025-05-18T04:33:30.519775",
     "status": "completed"
    },
    "tags": []
   },
   "outputs": [
    {
     "name": "stdout",
     "output_type": "stream",
     "text": [
      "----------------------------------------------\n",
      "Running evaluation with prompt: Server colours\n",
      "\u001b[31mnum_shots: 16\n",
      "base_path: ../data\n",
      "dataset: sst-5\n",
      "dataset_seed: 0\n",
      "task_lm: distilroberta-base\n",
      "is_mask_lm: null\n",
      "prompt: Server colours\n",
      "\u001b[0m\n",
      "Test Size 2210\n",
      "Examples: {'source_texts': ['no movement , no yuks , not much of anything .', \"a gob of drivel so sickly sweet , even the eager consumers of moore 's pasteurized ditties will retch it up like rancid crème brûlée .\", \"` how many more voyages can this limping but dearly-loved franchise survive ? '\", 'so relentlessly wholesome it made me want to swipe something .', 'gangs of new york is an unapologetic mess , whose only saving grace is that it ends by blowing just about everything up .'], 'class_labels': [1, 0, 2, 2, 0]}\n",
      "Task LM: distilroberta-base\n",
      "[2025-05-18 04:33:39,585][huggingface_hub.file_download][WARNING] - Xet Storage is enabled for this repo, but the 'hf_xet' package is not installed. Falling back to regular HTTP download. For better performance, install the package with: `pip install huggingface_hub[hf_xet]` or `pip install hf_xet`\n",
      "\u001b[31mprompt: Server colours, accuracy: 0.35339367389678955\u001b[0m\n",
      "\u001b[31mnum_shots: 16\n",
      "base_path: ../data\n",
      "dataset: sst-5\n",
      "dataset_seed: 0\n",
      "task_lm: roberta-base\n",
      "is_mask_lm: null\n",
      "prompt: Server colours\n",
      "\u001b[0m\n",
      "Test Size 2210\n",
      "Examples: {'source_texts': ['no movement , no yuks , not much of anything .', \"a gob of drivel so sickly sweet , even the eager consumers of moore 's pasteurized ditties will retch it up like rancid crème brûlée .\", \"` how many more voyages can this limping but dearly-loved franchise survive ? '\", 'so relentlessly wholesome it made me want to swipe something .', 'gangs of new york is an unapologetic mess , whose only saving grace is that it ends by blowing just about everything up .'], 'class_labels': [1, 0, 2, 2, 0]}\n",
      "Task LM: roberta-base\n",
      "[2025-05-18 04:33:55,208][huggingface_hub.file_download][WARNING] - Xet Storage is enabled for this repo, but the 'hf_xet' package is not installed. Falling back to regular HTTP download. For better performance, install the package with: `pip install huggingface_hub[hf_xet]` or `pip install hf_xet`\n",
      "\u001b[31mprompt: Server colours, accuracy: 0.3221719563007355\u001b[0m\n",
      "\u001b[31mnum_shots: 16\n",
      "base_path: ../data\n",
      "dataset: sst-5\n",
      "dataset_seed: 0\n",
      "task_lm: roberta-large\n",
      "is_mask_lm: null\n",
      "prompt: Server colours\n",
      "\u001b[0m\n",
      "Test Size 2210\n",
      "Examples: {'source_texts': ['no movement , no yuks , not much of anything .', \"a gob of drivel so sickly sweet , even the eager consumers of moore 's pasteurized ditties will retch it up like rancid crème brûlée .\", \"` how many more voyages can this limping but dearly-loved franchise survive ? '\", 'so relentlessly wholesome it made me want to swipe something .', 'gangs of new york is an unapologetic mess , whose only saving grace is that it ends by blowing just about everything up .'], 'class_labels': [1, 0, 2, 2, 0]}\n",
      "Task LM: roberta-large\n",
      "[2025-05-18 04:34:11,903][huggingface_hub.file_download][WARNING] - Xet Storage is enabled for this repo, but the 'hf_xet' package is not installed. Falling back to regular HTTP download. For better performance, install the package with: `pip install huggingface_hub[hf_xet]` or `pip install hf_xet`\n",
      "\u001b[31mprompt: Server colours, accuracy: 0.33529412746429443\u001b[0m\n",
      "----------------------------------------------\n",
      "Running evaluation with prompt: Animationiveness\n",
      "\u001b[31mnum_shots: 16\n",
      "base_path: ../data\n",
      "dataset: sst-5\n",
      "dataset_seed: 0\n",
      "task_lm: distilroberta-base\n",
      "is_mask_lm: null\n",
      "prompt: Animationiveness\n",
      "\u001b[0m\n",
      "Test Size 2210\n",
      "Examples: {'source_texts': ['no movement , no yuks , not much of anything .', \"a gob of drivel so sickly sweet , even the eager consumers of moore 's pasteurized ditties will retch it up like rancid crème brûlée .\", \"` how many more voyages can this limping but dearly-loved franchise survive ? '\", 'so relentlessly wholesome it made me want to swipe something .', 'gangs of new york is an unapologetic mess , whose only saving grace is that it ends by blowing just about everything up .'], 'class_labels': [1, 0, 2, 2, 0]}\n",
      "Task LM: distilroberta-base\n",
      "\u001b[31mprompt: Animationiveness, accuracy: 0.3628959357738495\u001b[0m\n",
      "\u001b[31mnum_shots: 16\n",
      "base_path: ../data\n",
      "dataset: sst-5\n",
      "dataset_seed: 0\n",
      "task_lm: roberta-base\n",
      "is_mask_lm: null\n",
      "prompt: Animationiveness\n",
      "\u001b[0m\n",
      "Test Size 2210\n",
      "Examples: {'source_texts': ['no movement , no yuks , not much of anything .', \"a gob of drivel so sickly sweet , even the eager consumers of moore 's pasteurized ditties will retch it up like rancid crème brûlée .\", \"` how many more voyages can this limping but dearly-loved franchise survive ? '\", 'so relentlessly wholesome it made me want to swipe something .', 'gangs of new york is an unapologetic mess , whose only saving grace is that it ends by blowing just about everything up .'], 'class_labels': [1, 0, 2, 2, 0]}\n",
      "Task LM: roberta-base\n",
      "\u001b[31mprompt: Animationiveness, accuracy: 0.39819005131721497\u001b[0m\n",
      "\u001b[31mnum_shots: 16\n",
      "base_path: ../data\n",
      "dataset: sst-5\n",
      "dataset_seed: 0\n",
      "task_lm: roberta-large\n",
      "is_mask_lm: null\n",
      "prompt: Animationiveness\n",
      "\u001b[0m\n",
      "Test Size 2210\n",
      "Examples: {'source_texts': ['no movement , no yuks , not much of anything .', \"a gob of drivel so sickly sweet , even the eager consumers of moore 's pasteurized ditties will retch it up like rancid crème brûlée .\", \"` how many more voyages can this limping but dearly-loved franchise survive ? '\", 'so relentlessly wholesome it made me want to swipe something .', 'gangs of new york is an unapologetic mess , whose only saving grace is that it ends by blowing just about everything up .'], 'class_labels': [1, 0, 2, 2, 0]}\n",
      "Task LM: roberta-large\n",
      "\u001b[31mprompt: Animationiveness, accuracy: 0.28552037477493286\u001b[0m\n"
     ]
    },
    {
     "name": "stderr",
     "output_type": "stream",
     "text": [
      "Xet Storage is enabled for this repo, but the 'hf_xet' package is not installed. Falling back to regular HTTP download. For better performance, install the package with: `pip install huggingface_hub[hf_xet]` or `pip install hf_xet`\n",
      "Some weights of the model checkpoint at distilroberta-base were not used when initializing RobertaForMaskedLM: ['roberta.pooler.dense.bias', 'roberta.pooler.dense.weight']\n",
      "- This IS expected if you are initializing RobertaForMaskedLM from the checkpoint of a model trained on another task or with another architecture (e.g. initializing a BertForSequenceClassification model from a BertForPreTraining model).\n",
      "- This IS NOT expected if you are initializing RobertaForMaskedLM from the checkpoint of a model that you expect to be exactly identical (initializing a BertForSequenceClassification model from a BertForSequenceClassification model).\n",
      "Xet Storage is enabled for this repo, but the 'hf_xet' package is not installed. Falling back to regular HTTP download. For better performance, install the package with: `pip install huggingface_hub[hf_xet]` or `pip install hf_xet`\n",
      "Xet Storage is enabled for this repo, but the 'hf_xet' package is not installed. Falling back to regular HTTP download. For better performance, install the package with: `pip install huggingface_hub[hf_xet]` or `pip install hf_xet`\n",
      "Some weights of the model checkpoint at distilroberta-base were not used when initializing RobertaForMaskedLM: ['roberta.pooler.dense.bias', 'roberta.pooler.dense.weight']\n",
      "- This IS expected if you are initializing RobertaForMaskedLM from the checkpoint of a model trained on another task or with another architecture (e.g. initializing a BertForSequenceClassification model from a BertForPreTraining model).\n",
      "- This IS NOT expected if you are initializing RobertaForMaskedLM from the checkpoint of a model that you expect to be exactly identical (initializing a BertForSequenceClassification model from a BertForSequenceClassification model).\n"
     ]
    }
   ],
   "source": [
    "%%bash\n",
    "source /kaggle/conda/miniconda3/bin/activate my_env\n",
    "\n",
    "while IFS= read -r prompt; do\n",
    "    echo \"----------------------------------------------\"\n",
    "    echo \"Running evaluation with prompt: $prompt\"\n",
    "    python run_eval.py dataset=sst-5 task_lm=distilroberta-base \"prompt=\\\"${prompt}\\\"\"\n",
    "    python run_eval.py dataset=sst-5 task_lm=roberta-base \"prompt=\\\"${prompt}\\\"\"\n",
    "    python run_eval.py dataset=sst-5 task_lm=roberta-large \"prompt=\\\"${prompt}\\\"\"\n",
    "done < prompts.txt"
   ]
  }
 ],
 "metadata": {
  "kaggle": {
   "accelerator": "gpu",
   "dataSources": [
    {
     "datasetId": 7448425,
     "sourceId": 11853781,
     "sourceType": "datasetVersion"
    },
    {
     "datasetId": 7448496,
     "sourceId": 11853893,
     "sourceType": "datasetVersion"
    },
    {
     "datasetId": 7119255,
     "sourceId": 11853958,
     "sourceType": "datasetVersion"
    }
   ],
   "dockerImageVersionId": 31011,
   "isGpuEnabled": true,
   "isInternetEnabled": true,
   "language": "python",
   "sourceType": "notebook"
  },
  "kernelspec": {
   "display_name": "Python 3",
   "language": "python",
   "name": "python3"
  },
  "language_info": {
   "codemirror_mode": {
    "name": "ipython",
    "version": 3
   },
   "file_extension": ".py",
   "mimetype": "text/x-python",
   "name": "python",
   "nbconvert_exporter": "python",
   "pygments_lexer": "ipython3",
   "version": "3.11.11"
  },
  "papermill": {
   "default_parameters": {},
   "duration": 310.584448,
   "end_time": "2025-05-18T04:35:18.409471",
   "environment_variables": {},
   "exception": null,
   "input_path": "__notebook__.ipynb",
   "output_path": "__notebook__.ipynb",
   "parameters": {},
   "start_time": "2025-05-18T04:30:07.825023",
   "version": "2.6.0"
  }
 },
 "nbformat": 4,
 "nbformat_minor": 5
}
