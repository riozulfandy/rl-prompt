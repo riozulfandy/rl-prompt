{
 "cells": [
  {
   "cell_type": "code",
   "execution_count": 1,
   "id": "a4700f66",
   "metadata": {
    "execution": {
     "iopub.execute_input": "2025-05-18T04:21:02.672471Z",
     "iopub.status.busy": "2025-05-18T04:21:02.671980Z",
     "iopub.status.idle": "2025-05-18T04:21:02.678384Z",
     "shell.execute_reply": "2025-05-18T04:21:02.677746Z"
    },
    "papermill": {
     "duration": 0.012118,
     "end_time": "2025-05-18T04:21:02.679394",
     "exception": false,
     "start_time": "2025-05-18T04:21:02.667276",
     "status": "completed"
    },
    "tags": []
   },
   "outputs": [
    {
     "name": "stdout",
     "output_type": "stream",
     "text": [
      "Don't forget to change the dataset argument\n"
     ]
    }
   ],
   "source": [
    "LOG_PATH = '/kaggle/input/rlprompt-results-rio/all_outputs_sst5.log'\n",
    "print(\"Don't forget to change the dataset argument\")"
   ]
  },
  {
   "cell_type": "code",
   "execution_count": 2,
   "id": "afee438f",
   "metadata": {
    "execution": {
     "iopub.execute_input": "2025-05-18T04:21:02.687034Z",
     "iopub.status.busy": "2025-05-18T04:21:02.686835Z",
     "iopub.status.idle": "2025-05-18T04:21:04.095871Z",
     "shell.execute_reply": "2025-05-18T04:21:04.095297Z"
    },
    "papermill": {
     "duration": 1.414232,
     "end_time": "2025-05-18T04:21:04.097355",
     "exception": false,
     "start_time": "2025-05-18T04:21:02.683123",
     "status": "completed"
    },
    "tags": []
   },
   "outputs": [],
   "source": [
    "import pandas as pd"
   ]
  },
  {
   "cell_type": "markdown",
   "id": "5447c4d2",
   "metadata": {
    "papermill": {
     "duration": 0.00337,
     "end_time": "2025-05-18T04:21:04.104501",
     "exception": false,
     "start_time": "2025-05-18T04:21:04.101131",
     "status": "completed"
    },
    "tags": []
   },
   "source": [
    "## Experiments Data Getter: Validation"
   ]
  },
  {
   "cell_type": "code",
   "execution_count": 3,
   "id": "f93fece2",
   "metadata": {
    "execution": {
     "iopub.execute_input": "2025-05-18T04:21:04.112242Z",
     "iopub.status.busy": "2025-05-18T04:21:04.111779Z",
     "iopub.status.idle": "2025-05-18T04:21:09.152934Z",
     "shell.execute_reply": "2025-05-18T04:21:09.152383Z"
    },
    "papermill": {
     "duration": 5.046327,
     "end_time": "2025-05-18T04:21:09.154238",
     "exception": false,
     "start_time": "2025-05-18T04:21:04.107911",
     "status": "completed"
    },
    "tags": []
   },
   "outputs": [],
   "source": [
    "import re\n",
    "\n",
    "log_file = LOG_PATH\n",
    "\n",
    "step_pattern = re.compile(r'^(\\d+)\\s+\\|')\n",
    "reward_pattern = re.compile(r'([-+]?\\d*\\.\\d+|\\d+)')\n",
    "accuracy_pattern = re.compile(r'Accuracy:\\s*([-+]?\\d*\\.\\d+|\\d+)')\n",
    "\n",
    "steps = []\n",
    "rewards = []\n",
    "accuracy = []\n",
    "prompts = []\n",
    "\n",
    "with open(log_file, 'r') as f:\n",
    "    lines = f.readlines()\n",
    "\n",
    "current_step = None\n",
    "\n",
    "for i, line in enumerate(lines):\n",
    "    step_match = step_pattern.match(line)\n",
    "    if step_match:\n",
    "        current_step = int(step_match.group(1))\n",
    "\n",
    "    if \"Our Prompt:\" in line:\n",
    "        next_line = lines[i + 1].strip()\n",
    "        prev_line = lines[i - 1].strip()\n",
    "\n",
    "        accuracy_match = accuracy_pattern.search(prev_line)\n",
    "        numbers = reward_pattern.findall(next_line)\n",
    "\n",
    "        if accuracy_match and numbers and current_step is not None:\n",
    "            acc_value = float(accuracy_match.group(1))\n",
    "            reward_value = float(numbers[-1])\n",
    "\n",
    "            steps.append(current_step)\n",
    "            rewards.append(reward_value)\n",
    "            accuracy.append(acc_value)\n",
    "            prompts.append(next_line)"
   ]
  },
  {
   "cell_type": "code",
   "execution_count": 4,
   "id": "feac784f",
   "metadata": {
    "execution": {
     "iopub.execute_input": "2025-05-18T04:21:09.164097Z",
     "iopub.status.busy": "2025-05-18T04:21:09.163817Z",
     "iopub.status.idle": "2025-05-18T04:21:09.252086Z",
     "shell.execute_reply": "2025-05-18T04:21:09.251405Z"
    },
    "papermill": {
     "duration": 0.093753,
     "end_time": "2025-05-18T04:21:09.253213",
     "exception": false,
     "start_time": "2025-05-18T04:21:09.159460",
     "status": "completed"
    },
    "tags": []
   },
   "outputs": [],
   "source": [
    "INTERVAL = 600\n",
    "\n",
    "starts = 0\n",
    "end = starts + INTERVAL\n",
    "\n",
    "seed_best_prompts = []\n",
    "\n",
    "validation_dfs = {}\n",
    "\n",
    "while end <= len(steps):\n",
    "    interval_acc = accuracy[starts:end]\n",
    "    interval_prompts = prompts[starts:end]\n",
    "    interval_steps = steps[starts:end]\n",
    "    interval_rewards = rewards[starts:end]\n",
    "    seed = starts // INTERVAL\n",
    "\n",
    "    max_idx = interval_acc.index(max(interval_acc))\n",
    "    best_prompt = interval_prompts[max_idx]\n",
    "    seed_best_prompts.append((seed, max(interval_acc), best_prompt))\n",
    "\n",
    "    values = {\n",
    "        'step': interval_steps,\n",
    "        'accuracy': interval_acc,\n",
    "        'rewards': interval_rewards,\n",
    "        'prompts': interval_prompts,\n",
    "    }\n",
    "\n",
    "    df = pd.DataFrame(values)\n",
    "    validation_dfs[seed] = df\n",
    "    df.to_csv(f\"validation_results_{seed}.csv\",index=False)\n",
    "\n",
    "    starts = end\n",
    "    end = starts + INTERVAL"
   ]
  },
  {
   "cell_type": "code",
   "execution_count": 5,
   "id": "8a19edc9",
   "metadata": {
    "execution": {
     "iopub.execute_input": "2025-05-18T04:21:09.260518Z",
     "iopub.status.busy": "2025-05-18T04:21:09.260277Z",
     "iopub.status.idle": "2025-05-18T04:21:09.264238Z",
     "shell.execute_reply": "2025-05-18T04:21:09.263625Z"
    },
    "papermill": {
     "duration": 0.00883,
     "end_time": "2025-05-18T04:21:09.265313",
     "exception": false,
     "start_time": "2025-05-18T04:21:09.256483",
     "status": "completed"
    },
    "tags": []
   },
   "outputs": [
    {
     "name": "stdout",
     "output_type": "stream",
     "text": [
      "Seed 0: Max Accuracy = 0.4875\n",
      "Prompt: ['Switchistry'] -1.0927900075912476\n",
      "--------------------------------------------------\n",
      "Seed 1: Max Accuracy = 0.4875\n",
      "Prompt: ['Bot animation'] -0.5068687796592712\n",
      "--------------------------------------------------\n",
      "Seed 2: Max Accuracy = 0.4000\n",
      "Prompt: ['Cooldown proportions'] -8.97808837890625\n",
      "--------------------------------------------------\n"
     ]
    }
   ],
   "source": [
    "# Print best prompt (highest accuracy) for each seed\n",
    "for seed, acc, prompt in seed_best_prompts:\n",
    "    print(f\"Seed {seed}: Max Accuracy = {acc:.4f}\")\n",
    "    print(f\"Prompt: {prompt}\")\n",
    "    print(\"-\" * 50)"
   ]
  },
  {
   "cell_type": "code",
   "execution_count": 6,
   "id": "f3a8a662",
   "metadata": {
    "execution": {
     "iopub.execute_input": "2025-05-18T04:21:09.273057Z",
     "iopub.status.busy": "2025-05-18T04:21:09.272863Z",
     "iopub.status.idle": "2025-05-18T04:21:09.277301Z",
     "shell.execute_reply": "2025-05-18T04:21:09.276713Z"
    },
    "papermill": {
     "duration": 0.009757,
     "end_time": "2025-05-18T04:21:09.278579",
     "exception": false,
     "start_time": "2025-05-18T04:21:09.268822",
     "status": "completed"
    },
    "tags": []
   },
   "outputs": [
    {
     "name": "stdout",
     "output_type": "stream",
     "text": [
      "['Switchistry', 'Bot animation', 'Cooldown proportions']\n"
     ]
    }
   ],
   "source": [
    "import ast\n",
    "\n",
    "best_prompt_words = []\n",
    "\n",
    "for _, _, raw_prompt in seed_best_prompts:\n",
    "    try:\n",
    "        bracket_content = raw_prompt.split(']')[0] + ']'\n",
    "        prompt_list = ast.literal_eval(bracket_content)\n",
    "        if isinstance(prompt_list, list) and len(prompt_list) > 0:\n",
    "            best_prompt_words.append(prompt_list[0])\n",
    "    except:\n",
    "        continue\n",
    "\n",
    "print(best_prompt_words)"
   ]
  },
  {
   "cell_type": "markdown",
   "id": "6acb6809",
   "metadata": {
    "papermill": {
     "duration": 0.003074,
     "end_time": "2025-05-18T04:21:09.285093",
     "exception": false,
     "start_time": "2025-05-18T04:21:09.282019",
     "status": "completed"
    },
    "tags": []
   },
   "source": [
    "## Experiments Data Getter: Training"
   ]
  },
  {
   "cell_type": "code",
   "execution_count": 7,
   "id": "d114a066",
   "metadata": {
    "execution": {
     "iopub.execute_input": "2025-05-18T04:21:09.292448Z",
     "iopub.status.busy": "2025-05-18T04:21:09.292231Z",
     "iopub.status.idle": "2025-05-18T04:21:13.151759Z",
     "shell.execute_reply": "2025-05-18T04:21:13.151168Z"
    },
    "papermill": {
     "duration": 3.864578,
     "end_time": "2025-05-18T04:21:13.153078",
     "exception": false,
     "start_time": "2025-05-18T04:21:09.288500",
     "status": "completed"
    },
    "tags": []
   },
   "outputs": [],
   "source": [
    "import numpy as np\n",
    "\n",
    "log_file = LOG_PATH\n",
    "\n",
    "all_rewards = {}\n",
    "all_accuracy = {}\n",
    "\n",
    "header_pattern = re.compile(r'^(\\d+)\\s*\\|')\n",
    "reward_pattern = re.compile(r'Reward:\\s*([-+]?\\d*\\.\\d+|\\d+)')\n",
    "accuracy_pattern = re.compile(r'Accuracy:\\s*([-+]?\\d*\\.\\d+|\\d+)')\n",
    "\n",
    "with open(log_file, 'r') as f:\n",
    "    lines = f.readlines()\n",
    "\n",
    "current_step = None\n",
    "seed = -1\n",
    "\n",
    "for line in lines:\n",
    "    if 'Task LM' in line:\n",
    "        seed += 1\n",
    "        all_rewards[seed] = {}\n",
    "        all_accuracy[seed] = {}\n",
    "        continue\n",
    "    \n",
    "    header_match = header_pattern.match(line)\n",
    "    if header_match:\n",
    "        current_step = int(header_match.group(1))\n",
    "    \n",
    "    if \"Reward:\" in line:\n",
    "        reward_match = reward_pattern.search(line)\n",
    "        if reward_match:\n",
    "            reward_value = float(reward_match.group(1))\n",
    "            if current_step is not None:\n",
    "                all_rewards[seed].setdefault(current_step, []).append(reward_value)\n",
    "\n",
    "    if \"Accuracy:\" in line:\n",
    "        accuracy_match = accuracy_pattern.search(line)\n",
    "        if accuracy_match:\n",
    "            accuracy_value = float(accuracy_match.group(1))\n",
    "            if current_step is not None:\n",
    "                all_accuracy[seed].setdefault(current_step, []).append(accuracy_value)\n",
    "\n",
    "    if 'Total training time' in line:\n",
    "        print(line)\n",
    "\n",
    "    if 'Peak GPU' in line:\n",
    "        print(line)"
   ]
  },
  {
   "cell_type": "code",
   "execution_count": 8,
   "id": "cc1c64d2",
   "metadata": {
    "execution": {
     "iopub.execute_input": "2025-05-18T04:21:13.160975Z",
     "iopub.status.busy": "2025-05-18T04:21:13.160763Z",
     "iopub.status.idle": "2025-05-18T04:21:13.740829Z",
     "shell.execute_reply": "2025-05-18T04:21:13.740271Z"
    },
    "papermill": {
     "duration": 0.585307,
     "end_time": "2025-05-18T04:21:13.742063",
     "exception": false,
     "start_time": "2025-05-18T04:21:13.156756",
     "status": "completed"
    },
    "tags": []
   },
   "outputs": [],
   "source": [
    "training_results_dfs = {}\n",
    "\n",
    "for seed, data in all_rewards.items():\n",
    "    steps = sorted(data.keys())\n",
    "    means = [np.mean(data[step]) for step in steps]\n",
    "    stds  = [np.std(data[step]) for step in steps]\n",
    "\n",
    "    values = {\n",
    "        'step': steps,\n",
    "        'reward_mean': means,\n",
    "        'reward_std': stds\n",
    "    }\n",
    "\n",
    "    df = pd.DataFrame(values)\n",
    "    training_results_dfs[seed] = df"
   ]
  },
  {
   "cell_type": "code",
   "execution_count": 9,
   "id": "383052c1",
   "metadata": {
    "execution": {
     "iopub.execute_input": "2025-05-18T04:21:13.750267Z",
     "iopub.status.busy": "2025-05-18T04:21:13.749700Z",
     "iopub.status.idle": "2025-05-18T04:21:14.496194Z",
     "shell.execute_reply": "2025-05-18T04:21:14.495620Z"
    },
    "papermill": {
     "duration": 0.752069,
     "end_time": "2025-05-18T04:21:14.497683",
     "exception": false,
     "start_time": "2025-05-18T04:21:13.745614",
     "status": "completed"
    },
    "tags": []
   },
   "outputs": [],
   "source": [
    "for seed, data in all_accuracy.items():\n",
    "    steps = sorted(data.keys())\n",
    "    means = [np.mean(data[step]) for step in steps]\n",
    "    stds  = [np.std(data[step]) for step in steps]\n",
    "\n",
    "    df = training_results_dfs[seed]\n",
    "    df['accuracy_mean'] = means\n",
    "    df['accuracy_stds'] = stds\n",
    "    df.to_csv(f\"training_results_{seed}.csv\",index=False)"
   ]
  },
  {
   "cell_type": "markdown",
   "id": "5159452e",
   "metadata": {
    "papermill": {
     "duration": 0.003563,
     "end_time": "2025-05-18T04:21:14.505299",
     "exception": false,
     "start_time": "2025-05-18T04:21:14.501736",
     "status": "completed"
    },
    "tags": []
   },
   "source": [
    "## Environment Prep"
   ]
  },
  {
   "cell_type": "code",
   "execution_count": 10,
   "id": "6c545c58",
   "metadata": {
    "execution": {
     "iopub.execute_input": "2025-05-18T04:21:14.512839Z",
     "iopub.status.busy": "2025-05-18T04:21:14.512611Z",
     "iopub.status.idle": "2025-05-18T04:21:14.515728Z",
     "shell.execute_reply": "2025-05-18T04:21:14.515218Z"
    },
    "papermill": {
     "duration": 0.007987,
     "end_time": "2025-05-18T04:21:14.516737",
     "exception": false,
     "start_time": "2025-05-18T04:21:14.508750",
     "status": "completed"
    },
    "tags": []
   },
   "outputs": [],
   "source": [
    "from IPython.display import clear_output"
   ]
  },
  {
   "cell_type": "code",
   "execution_count": 11,
   "id": "db6a79cf",
   "metadata": {
    "execution": {
     "iopub.execute_input": "2025-05-18T04:21:14.524097Z",
     "iopub.status.busy": "2025-05-18T04:21:14.523900Z",
     "iopub.status.idle": "2025-05-18T04:21:27.833343Z",
     "shell.execute_reply": "2025-05-18T04:21:27.832641Z"
    },
    "papermill": {
     "duration": 13.314429,
     "end_time": "2025-05-18T04:21:27.834545",
     "exception": false,
     "start_time": "2025-05-18T04:21:14.520116",
     "status": "completed"
    },
    "tags": []
   },
   "outputs": [],
   "source": [
    "root_dir = \"/kaggle/conda\"\n",
    "!mkdir -p $root_dir\n",
    "!wget -q --show-progress https://repo.anaconda.com/miniconda/Miniconda3-latest-Linux-x86_64.sh\n",
    "!bash Miniconda3-latest-Linux-x86_64.sh -b -p $root_dir/miniconda3 -f\n",
    "clear_output()"
   ]
  },
  {
   "cell_type": "code",
   "execution_count": 12,
   "id": "8cf35a1a",
   "metadata": {
    "execution": {
     "iopub.execute_input": "2025-05-18T04:21:27.842702Z",
     "iopub.status.busy": "2025-05-18T04:21:27.842187Z",
     "iopub.status.idle": "2025-05-18T04:21:39.206383Z",
     "shell.execute_reply": "2025-05-18T04:21:39.205670Z"
    },
    "papermill": {
     "duration": 11.36952,
     "end_time": "2025-05-18T04:21:39.207685",
     "exception": false,
     "start_time": "2025-05-18T04:21:27.838165",
     "status": "completed"
    },
    "tags": []
   },
   "outputs": [],
   "source": [
    "!$root_dir/miniconda3/bin/conda create --name my_env python=3.10 -y\n",
    "clear_output()"
   ]
  },
  {
   "cell_type": "code",
   "execution_count": 13,
   "id": "fc7e64e8",
   "metadata": {
    "execution": {
     "iopub.execute_input": "2025-05-18T04:21:39.216401Z",
     "iopub.status.busy": "2025-05-18T04:21:39.215857Z",
     "iopub.status.idle": "2025-05-18T04:21:45.462916Z",
     "shell.execute_reply": "2025-05-18T04:21:45.462019Z"
    },
    "papermill": {
     "duration": 6.252274,
     "end_time": "2025-05-18T04:21:45.464097",
     "exception": false,
     "start_time": "2025-05-18T04:21:39.211823",
     "status": "completed"
    },
    "tags": []
   },
   "outputs": [
    {
     "name": "stdout",
     "output_type": "stream",
     "text": [
      "Cloning into 'rl-prompt'...\r\n",
      "remote: Enumerating objects: 1813, done.\u001b[K\r\n",
      "remote: Counting objects: 100% (661/661), done.\u001b[K\r\n",
      "remote: Compressing objects: 100% (385/385), done.\u001b[K\r\n",
      "remote: Total 1813 (delta 381), reused 466 (delta 273), pack-reused 1152 (from 1)\u001b[K\r\n",
      "Receiving objects: 100% (1813/1813), 83.59 MiB | 28.55 MiB/s, done.\r\n",
      "Resolving deltas: 100% (790/790), done.\r\n",
      "Updating files: 100% (291/291), done.\r\n"
     ]
    }
   ],
   "source": [
    "!git clone https://github.com/malifalhakim/rl-prompt.git"
   ]
  },
  {
   "cell_type": "code",
   "execution_count": 14,
   "id": "539c96a3",
   "metadata": {
    "execution": {
     "iopub.execute_input": "2025-05-18T04:21:45.475403Z",
     "iopub.status.busy": "2025-05-18T04:21:45.475147Z",
     "iopub.status.idle": "2025-05-18T04:21:45.481197Z",
     "shell.execute_reply": "2025-05-18T04:21:45.480529Z"
    },
    "papermill": {
     "duration": 0.012754,
     "end_time": "2025-05-18T04:21:45.482209",
     "exception": false,
     "start_time": "2025-05-18T04:21:45.469455",
     "status": "completed"
    },
    "tags": []
   },
   "outputs": [
    {
     "name": "stdout",
     "output_type": "stream",
     "text": [
      "/kaggle/working/rl-prompt\n"
     ]
    }
   ],
   "source": [
    "%cd /kaggle/working/rl-prompt"
   ]
  },
  {
   "cell_type": "code",
   "execution_count": 15,
   "id": "4b321ba5",
   "metadata": {
    "execution": {
     "iopub.execute_input": "2025-05-18T04:21:45.492724Z",
     "iopub.status.busy": "2025-05-18T04:21:45.492289Z",
     "iopub.status.idle": "2025-05-18T04:23:50.008534Z",
     "shell.execute_reply": "2025-05-18T04:23:50.007428Z"
    },
    "papermill": {
     "duration": 124.523491,
     "end_time": "2025-05-18T04:23:50.010447",
     "exception": false,
     "start_time": "2025-05-18T04:21:45.486956",
     "status": "completed"
    },
    "tags": []
   },
   "outputs": [],
   "source": [
    "# Set the CUDA version variable\n",
    "CUDA_VERSION = 'cu118'\n",
    "\n",
    "# 1. Install PyTorch with matching CUDA version\n",
    "!source $root_dir/miniconda3/bin/activate my_env; pip install torch==2.6.0+{CUDA_VERSION} \\\n",
    "--extra-index-url https://download.pytorch.org/whl/{CUDA_VERSION}\n",
    "\n",
    "clear_output()"
   ]
  },
  {
   "cell_type": "code",
   "execution_count": 16,
   "id": "e995da20",
   "metadata": {
    "execution": {
     "iopub.execute_input": "2025-05-18T04:23:50.028732Z",
     "iopub.status.busy": "2025-05-18T04:23:50.027960Z",
     "iopub.status.idle": "2025-05-18T04:24:24.834704Z",
     "shell.execute_reply": "2025-05-18T04:24:24.833796Z"
    },
    "papermill": {
     "duration": 34.814588,
     "end_time": "2025-05-18T04:24:24.836296",
     "exception": false,
     "start_time": "2025-05-18T04:23:50.021708",
     "status": "completed"
    },
    "tags": []
   },
   "outputs": [],
   "source": [
    "!source $root_dir/miniconda3/bin/activate my_env; pip install -e .\n",
    "\n",
    "clear_output()"
   ]
  },
  {
   "cell_type": "markdown",
   "id": "57ab9038",
   "metadata": {
    "papermill": {
     "duration": 0.007988,
     "end_time": "2025-05-18T04:24:24.853638",
     "exception": false,
     "start_time": "2025-05-18T04:24:24.845650",
     "status": "completed"
    },
    "tags": []
   },
   "source": [
    "## Evaluation"
   ]
  },
  {
   "cell_type": "code",
   "execution_count": 17,
   "id": "7008485a",
   "metadata": {
    "execution": {
     "iopub.execute_input": "2025-05-18T04:24:24.865050Z",
     "iopub.status.busy": "2025-05-18T04:24:24.864435Z",
     "iopub.status.idle": "2025-05-18T04:24:24.870721Z",
     "shell.execute_reply": "2025-05-18T04:24:24.869927Z"
    },
    "papermill": {
     "duration": 0.0136,
     "end_time": "2025-05-18T04:24:24.872081",
     "exception": false,
     "start_time": "2025-05-18T04:24:24.858481",
     "status": "completed"
    },
    "tags": []
   },
   "outputs": [
    {
     "name": "stdout",
     "output_type": "stream",
     "text": [
      "/kaggle/working/rl-prompt/examples/few-shot-classification/evaluation\n"
     ]
    }
   ],
   "source": [
    "%cd examples/few-shot-classification/evaluation"
   ]
  },
  {
   "cell_type": "code",
   "execution_count": 18,
   "id": "38673b15",
   "metadata": {
    "execution": {
     "iopub.execute_input": "2025-05-18T04:24:24.888759Z",
     "iopub.status.busy": "2025-05-18T04:24:24.888207Z",
     "iopub.status.idle": "2025-05-18T04:24:24.892464Z",
     "shell.execute_reply": "2025-05-18T04:24:24.891794Z"
    },
    "papermill": {
     "duration": 0.012909,
     "end_time": "2025-05-18T04:24:24.893566",
     "exception": false,
     "start_time": "2025-05-18T04:24:24.880657",
     "status": "completed"
    },
    "tags": []
   },
   "outputs": [],
   "source": [
    "with open(\"prompts.txt\", \"w\") as f:\n",
    "    for prompt in best_prompt_words:\n",
    "        f.write(prompt + \"\\n\")"
   ]
  },
  {
   "cell_type": "code",
   "execution_count": 19,
   "id": "8021fc2d",
   "metadata": {
    "execution": {
     "iopub.execute_input": "2025-05-18T04:24:24.904597Z",
     "iopub.status.busy": "2025-05-18T04:24:24.904054Z",
     "iopub.status.idle": "2025-05-18T04:26:36.858237Z",
     "shell.execute_reply": "2025-05-18T04:26:36.857502Z"
    },
    "papermill": {
     "duration": 131.967284,
     "end_time": "2025-05-18T04:26:36.865853",
     "exception": false,
     "start_time": "2025-05-18T04:24:24.898569",
     "status": "completed"
    },
    "tags": []
   },
   "outputs": [
    {
     "name": "stdout",
     "output_type": "stream",
     "text": [
      "----------------------------------------------\n",
      "Running evaluation with prompt: Switchistry\n",
      "\u001b[31mnum_shots: 16\n",
      "base_path: ../data\n",
      "dataset: sst-5\n",
      "dataset_seed: 0\n",
      "task_lm: distilroberta-base\n",
      "is_mask_lm: null\n",
      "prompt: Switchistry\n",
      "\u001b[0m\n",
      "Test Size 2210\n",
      "Examples: {'source_texts': ['no movement , no yuks , not much of anything .', \"a gob of drivel so sickly sweet , even the eager consumers of moore 's pasteurized ditties will retch it up like rancid crème brûlée .\", \"` how many more voyages can this limping but dearly-loved franchise survive ? '\", 'so relentlessly wholesome it made me want to swipe something .', 'gangs of new york is an unapologetic mess , whose only saving grace is that it ends by blowing just about everything up .'], 'class_labels': [1, 0, 2, 2, 0]}\n",
      "Task LM: distilroberta-base\n",
      "[2025-05-18 04:24:31,709][huggingface_hub.file_download][WARNING] - Xet Storage is enabled for this repo, but the 'hf_xet' package is not installed. Falling back to regular HTTP download. For better performance, install the package with: `pip install huggingface_hub[hf_xet]` or `pip install hf_xet`\n",
      "\u001b[31mprompt: Switchistry, accuracy: 0.3235294222831726\u001b[0m\n",
      "\u001b[31mnum_shots: 16\n",
      "base_path: ../data\n",
      "dataset: sst-5\n",
      "dataset_seed: 0\n",
      "task_lm: roberta-base\n",
      "is_mask_lm: null\n",
      "prompt: Switchistry\n",
      "\u001b[0m\n",
      "Test Size 2210\n",
      "Examples: {'source_texts': ['no movement , no yuks , not much of anything .', \"a gob of drivel so sickly sweet , even the eager consumers of moore 's pasteurized ditties will retch it up like rancid crème brûlée .\", \"` how many more voyages can this limping but dearly-loved franchise survive ? '\", 'so relentlessly wholesome it made me want to swipe something .', 'gangs of new york is an unapologetic mess , whose only saving grace is that it ends by blowing just about everything up .'], 'class_labels': [1, 0, 2, 2, 0]}\n",
      "Task LM: roberta-base\n",
      "[2025-05-18 04:24:43,788][huggingface_hub.file_download][WARNING] - Xet Storage is enabled for this repo, but the 'hf_xet' package is not installed. Falling back to regular HTTP download. For better performance, install the package with: `pip install huggingface_hub[hf_xet]` or `pip install hf_xet`\n",
      "\u001b[31mprompt: Switchistry, accuracy: 0.290497750043869\u001b[0m\n",
      "\u001b[31mnum_shots: 16\n",
      "base_path: ../data\n",
      "dataset: sst-5\n",
      "dataset_seed: 0\n",
      "task_lm: roberta-large\n",
      "is_mask_lm: null\n",
      "prompt: Switchistry\n",
      "\u001b[0m\n",
      "Test Size 2210\n",
      "Examples: {'source_texts': ['no movement , no yuks , not much of anything .', \"a gob of drivel so sickly sweet , even the eager consumers of moore 's pasteurized ditties will retch it up like rancid crème brûlée .\", \"` how many more voyages can this limping but dearly-loved franchise survive ? '\", 'so relentlessly wholesome it made me want to swipe something .', 'gangs of new york is an unapologetic mess , whose only saving grace is that it ends by blowing just about everything up .'], 'class_labels': [1, 0, 2, 2, 0]}\n",
      "Task LM: roberta-large\n",
      "[2025-05-18 04:24:58,078][huggingface_hub.file_download][WARNING] - Xet Storage is enabled for this repo, but the 'hf_xet' package is not installed. Falling back to regular HTTP download. For better performance, install the package with: `pip install huggingface_hub[hf_xet]` or `pip install hf_xet`\n",
      "\u001b[31mprompt: Switchistry, accuracy: 0.2760181128978729\u001b[0m\n",
      "----------------------------------------------\n",
      "Running evaluation with prompt: Bot animation\n",
      "\u001b[31mnum_shots: 16\n",
      "base_path: ../data\n",
      "dataset: sst-5\n",
      "dataset_seed: 0\n",
      "task_lm: distilroberta-base\n",
      "is_mask_lm: null\n",
      "prompt: Bot animation\n",
      "\u001b[0m\n",
      "Test Size 2210\n",
      "Examples: {'source_texts': ['no movement , no yuks , not much of anything .', \"a gob of drivel so sickly sweet , even the eager consumers of moore 's pasteurized ditties will retch it up like rancid crème brûlée .\", \"` how many more voyages can this limping but dearly-loved franchise survive ? '\", 'so relentlessly wholesome it made me want to swipe something .', 'gangs of new york is an unapologetic mess , whose only saving grace is that it ends by blowing just about everything up .'], 'class_labels': [1, 0, 2, 2, 0]}\n",
      "Task LM: distilroberta-base\n",
      "\u001b[31mprompt: Bot animation, accuracy: 0.32895928621292114\u001b[0m\n",
      "\u001b[31mnum_shots: 16\n",
      "base_path: ../data\n",
      "dataset: sst-5\n",
      "dataset_seed: 0\n",
      "task_lm: roberta-base\n",
      "is_mask_lm: null\n",
      "prompt: Bot animation\n",
      "\u001b[0m\n",
      "Test Size 2210\n",
      "Examples: {'source_texts': ['no movement , no yuks , not much of anything .', \"a gob of drivel so sickly sweet , even the eager consumers of moore 's pasteurized ditties will retch it up like rancid crème brûlée .\", \"` how many more voyages can this limping but dearly-loved franchise survive ? '\", 'so relentlessly wholesome it made me want to swipe something .', 'gangs of new york is an unapologetic mess , whose only saving grace is that it ends by blowing just about everything up .'], 'class_labels': [1, 0, 2, 2, 0]}\n",
      "Task LM: roberta-base\n",
      "\u001b[31mprompt: Bot animation, accuracy: 0.4122171998023987\u001b[0m\n",
      "\u001b[31mnum_shots: 16\n",
      "base_path: ../data\n",
      "dataset: sst-5\n",
      "dataset_seed: 0\n",
      "task_lm: roberta-large\n",
      "is_mask_lm: null\n",
      "prompt: Bot animation\n",
      "\u001b[0m\n",
      "Test Size 2210\n",
      "Examples: {'source_texts': ['no movement , no yuks , not much of anything .', \"a gob of drivel so sickly sweet , even the eager consumers of moore 's pasteurized ditties will retch it up like rancid crème brûlée .\", \"` how many more voyages can this limping but dearly-loved franchise survive ? '\", 'so relentlessly wholesome it made me want to swipe something .', 'gangs of new york is an unapologetic mess , whose only saving grace is that it ends by blowing just about everything up .'], 'class_labels': [1, 0, 2, 2, 0]}\n",
      "Task LM: roberta-large\n",
      "\u001b[31mprompt: Bot animation, accuracy: 0.36787331104278564\u001b[0m\n",
      "----------------------------------------------\n",
      "Running evaluation with prompt: Cooldown proportions\n",
      "\u001b[31mnum_shots: 16\n",
      "base_path: ../data\n",
      "dataset: sst-5\n",
      "dataset_seed: 0\n",
      "task_lm: distilroberta-base\n",
      "is_mask_lm: null\n",
      "prompt: Cooldown proportions\n",
      "\u001b[0m\n",
      "Test Size 2210\n",
      "Examples: {'source_texts': ['no movement , no yuks , not much of anything .', \"a gob of drivel so sickly sweet , even the eager consumers of moore 's pasteurized ditties will retch it up like rancid crème brûlée .\", \"` how many more voyages can this limping but dearly-loved franchise survive ? '\", 'so relentlessly wholesome it made me want to swipe something .', 'gangs of new york is an unapologetic mess , whose only saving grace is that it ends by blowing just about everything up .'], 'class_labels': [1, 0, 2, 2, 0]}\n",
      "Task LM: distilroberta-base\n",
      "\u001b[31mprompt: Cooldown proportions, accuracy: 0.34524887800216675\u001b[0m\n",
      "\u001b[31mnum_shots: 16\n",
      "base_path: ../data\n",
      "dataset: sst-5\n",
      "dataset_seed: 0\n",
      "task_lm: roberta-base\n",
      "is_mask_lm: null\n",
      "prompt: Cooldown proportions\n",
      "\u001b[0m\n",
      "Test Size 2210\n",
      "Examples: {'source_texts': ['no movement , no yuks , not much of anything .', \"a gob of drivel so sickly sweet , even the eager consumers of moore 's pasteurized ditties will retch it up like rancid crème brûlée .\", \"` how many more voyages can this limping but dearly-loved franchise survive ? '\", 'so relentlessly wholesome it made me want to swipe something .', 'gangs of new york is an unapologetic mess , whose only saving grace is that it ends by blowing just about everything up .'], 'class_labels': [1, 0, 2, 2, 0]}\n",
      "Task LM: roberta-base\n",
      "\u001b[31mprompt: Cooldown proportions, accuracy: 0.3733031749725342\u001b[0m\n",
      "\u001b[31mnum_shots: 16\n",
      "base_path: ../data\n",
      "dataset: sst-5\n",
      "dataset_seed: 0\n",
      "task_lm: roberta-large\n",
      "is_mask_lm: null\n",
      "prompt: Cooldown proportions\n",
      "\u001b[0m\n",
      "Test Size 2210\n",
      "Examples: {'source_texts': ['no movement , no yuks , not much of anything .', \"a gob of drivel so sickly sweet , even the eager consumers of moore 's pasteurized ditties will retch it up like rancid crème brûlée .\", \"` how many more voyages can this limping but dearly-loved franchise survive ? '\", 'so relentlessly wholesome it made me want to swipe something .', 'gangs of new york is an unapologetic mess , whose only saving grace is that it ends by blowing just about everything up .'], 'class_labels': [1, 0, 2, 2, 0]}\n",
      "Task LM: roberta-large\n",
      "\u001b[31mprompt: Cooldown proportions, accuracy: 0.3009049892425537\u001b[0m\n"
     ]
    },
    {
     "name": "stderr",
     "output_type": "stream",
     "text": [
      "Xet Storage is enabled for this repo, but the 'hf_xet' package is not installed. Falling back to regular HTTP download. For better performance, install the package with: `pip install huggingface_hub[hf_xet]` or `pip install hf_xet`\n",
      "Some weights of the model checkpoint at distilroberta-base were not used when initializing RobertaForMaskedLM: ['roberta.pooler.dense.bias', 'roberta.pooler.dense.weight']\n",
      "- This IS expected if you are initializing RobertaForMaskedLM from the checkpoint of a model trained on another task or with another architecture (e.g. initializing a BertForSequenceClassification model from a BertForPreTraining model).\n",
      "- This IS NOT expected if you are initializing RobertaForMaskedLM from the checkpoint of a model that you expect to be exactly identical (initializing a BertForSequenceClassification model from a BertForSequenceClassification model).\n",
      "Xet Storage is enabled for this repo, but the 'hf_xet' package is not installed. Falling back to regular HTTP download. For better performance, install the package with: `pip install huggingface_hub[hf_xet]` or `pip install hf_xet`\n",
      "Xet Storage is enabled for this repo, but the 'hf_xet' package is not installed. Falling back to regular HTTP download. For better performance, install the package with: `pip install huggingface_hub[hf_xet]` or `pip install hf_xet`\n",
      "Some weights of the model checkpoint at distilroberta-base were not used when initializing RobertaForMaskedLM: ['roberta.pooler.dense.bias', 'roberta.pooler.dense.weight']\n",
      "- This IS expected if you are initializing RobertaForMaskedLM from the checkpoint of a model trained on another task or with another architecture (e.g. initializing a BertForSequenceClassification model from a BertForPreTraining model).\n",
      "- This IS NOT expected if you are initializing RobertaForMaskedLM from the checkpoint of a model that you expect to be exactly identical (initializing a BertForSequenceClassification model from a BertForSequenceClassification model).\n",
      "Some weights of the model checkpoint at distilroberta-base were not used when initializing RobertaForMaskedLM: ['roberta.pooler.dense.bias', 'roberta.pooler.dense.weight']\n",
      "- This IS expected if you are initializing RobertaForMaskedLM from the checkpoint of a model trained on another task or with another architecture (e.g. initializing a BertForSequenceClassification model from a BertForPreTraining model).\n",
      "- This IS NOT expected if you are initializing RobertaForMaskedLM from the checkpoint of a model that you expect to be exactly identical (initializing a BertForSequenceClassification model from a BertForSequenceClassification model).\n"
     ]
    }
   ],
   "source": [
    "%%bash\n",
    "source /kaggle/conda/miniconda3/bin/activate my_env\n",
    "\n",
    "while IFS= read -r prompt; do\n",
    "    echo \"----------------------------------------------\"\n",
    "    echo \"Running evaluation with prompt: $prompt\"\n",
    "    python run_eval.py dataset=sst-5 task_lm=distilroberta-base \"prompt=\\\"${prompt}\\\"\"\n",
    "    python run_eval.py dataset=sst-5 task_lm=roberta-base \"prompt=\\\"${prompt}\\\"\"\n",
    "    python run_eval.py dataset=sst-5 task_lm=roberta-large \"prompt=\\\"${prompt}\\\"\"\n",
    "done < prompts.txt"
   ]
  }
 ],
 "metadata": {
  "kaggle": {
   "accelerator": "gpu",
   "dataSources": [
    {
     "datasetId": 7448425,
     "sourceId": 11853781,
     "sourceType": "datasetVersion"
    },
    {
     "datasetId": 7119255,
     "sourceId": 11853820,
     "sourceType": "datasetVersion"
    },
    {
     "datasetId": 7448496,
     "sourceId": 11853893,
     "sourceType": "datasetVersion"
    }
   ],
   "dockerImageVersionId": 31011,
   "isGpuEnabled": true,
   "isInternetEnabled": true,
   "language": "python",
   "sourceType": "notebook"
  },
  "kernelspec": {
   "display_name": "Python 3",
   "language": "python",
   "name": "python3"
  },
  "language_info": {
   "codemirror_mode": {
    "name": "ipython",
    "version": 3
   },
   "file_extension": ".py",
   "mimetype": "text/x-python",
   "name": "python",
   "nbconvert_exporter": "python",
   "pygments_lexer": "ipython3",
   "version": "3.11.11"
  },
  "papermill": {
   "default_parameters": {},
   "duration": 339.201157,
   "end_time": "2025-05-18T04:26:37.790049",
   "environment_variables": {},
   "exception": null,
   "input_path": "__notebook__.ipynb",
   "output_path": "__notebook__.ipynb",
   "parameters": {},
   "start_time": "2025-05-18T04:20:58.588892",
   "version": "2.6.0"
  }
 },
 "nbformat": 4,
 "nbformat_minor": 5
}
