{
 "cells": [
  {
   "cell_type": "code",
   "execution_count": 1,
   "id": "4838560e",
   "metadata": {
    "execution": {
     "iopub.execute_input": "2025-05-18T04:09:24.138141Z",
     "iopub.status.busy": "2025-05-18T04:09:24.137812Z",
     "iopub.status.idle": "2025-05-18T04:09:24.148977Z",
     "shell.execute_reply": "2025-05-18T04:09:24.148368Z"
    },
    "papermill": {
     "duration": 0.02192,
     "end_time": "2025-05-18T04:09:24.154190",
     "exception": false,
     "start_time": "2025-05-18T04:09:24.132270",
     "status": "completed"
    },
    "tags": []
   },
   "outputs": [
    {
     "name": "stdout",
     "output_type": "stream",
     "text": [
      "Don't forget to change the dataset argument\n"
     ]
    }
   ],
   "source": [
    "LOG_PATH = '/kaggle/input/rlprompt-sst2-distillroberta-base/all_outputs_sst2.log'\n",
    "print(\"Don't forget to change the dataset argument\")"
   ]
  },
  {
   "cell_type": "code",
   "execution_count": 2,
   "id": "154c68fe",
   "metadata": {
    "execution": {
     "iopub.execute_input": "2025-05-18T04:09:24.165527Z",
     "iopub.status.busy": "2025-05-18T04:09:24.164770Z",
     "iopub.status.idle": "2025-05-18T04:09:25.741487Z",
     "shell.execute_reply": "2025-05-18T04:09:25.740867Z"
    },
    "papermill": {
     "duration": 1.582756,
     "end_time": "2025-05-18T04:09:25.742807",
     "exception": false,
     "start_time": "2025-05-18T04:09:24.160051",
     "status": "completed"
    },
    "tags": []
   },
   "outputs": [],
   "source": [
    "import pandas as pd"
   ]
  },
  {
   "cell_type": "markdown",
   "id": "6661cef7",
   "metadata": {
    "papermill": {
     "duration": 0.003637,
     "end_time": "2025-05-18T04:09:25.750202",
     "exception": false,
     "start_time": "2025-05-18T04:09:25.746565",
     "status": "completed"
    },
    "tags": []
   },
   "source": [
    "## Experiments Data Getter: Validation"
   ]
  },
  {
   "cell_type": "code",
   "execution_count": 3,
   "id": "c8960738",
   "metadata": {
    "execution": {
     "iopub.execute_input": "2025-05-18T04:09:25.758438Z",
     "iopub.status.busy": "2025-05-18T04:09:25.757786Z",
     "iopub.status.idle": "2025-05-18T04:09:28.894936Z",
     "shell.execute_reply": "2025-05-18T04:09:28.894364Z"
    },
    "papermill": {
     "duration": 3.142466,
     "end_time": "2025-05-18T04:09:28.896235",
     "exception": false,
     "start_time": "2025-05-18T04:09:25.753769",
     "status": "completed"
    },
    "tags": []
   },
   "outputs": [],
   "source": [
    "import re\n",
    "\n",
    "log_file = LOG_PATH\n",
    "\n",
    "step_pattern = re.compile(r'^(\\d+)\\s+\\|')\n",
    "reward_pattern = re.compile(r'([-+]?\\d*\\.\\d+|\\d+)')\n",
    "accuracy_pattern = re.compile(r'Accuracy:\\s*([-+]?\\d*\\.\\d+|\\d+)')\n",
    "\n",
    "steps = []\n",
    "rewards = []\n",
    "accuracy = []\n",
    "prompts = []\n",
    "\n",
    "with open(log_file, 'r') as f:\n",
    "    lines = f.readlines()\n",
    "\n",
    "current_step = None\n",
    "\n",
    "for i, line in enumerate(lines):\n",
    "    step_match = step_pattern.match(line)\n",
    "    if step_match:\n",
    "        current_step = int(step_match.group(1))\n",
    "\n",
    "    if \"Our Prompt:\" in line:\n",
    "        next_line = lines[i + 1].strip()\n",
    "        prev_line = lines[i - 1].strip()\n",
    "\n",
    "        accuracy_match = accuracy_pattern.search(prev_line)\n",
    "        numbers = reward_pattern.findall(next_line)\n",
    "\n",
    "        if accuracy_match and numbers and current_step is not None:\n",
    "            acc_value = float(accuracy_match.group(1))\n",
    "            reward_value = float(numbers[-1])\n",
    "\n",
    "            steps.append(current_step)\n",
    "            rewards.append(reward_value)\n",
    "            accuracy.append(acc_value)\n",
    "            prompts.append(next_line)"
   ]
  },
  {
   "cell_type": "code",
   "execution_count": 4,
   "id": "60734e2a",
   "metadata": {
    "execution": {
     "iopub.execute_input": "2025-05-18T04:09:28.904511Z",
     "iopub.status.busy": "2025-05-18T04:09:28.903896Z",
     "iopub.status.idle": "2025-05-18T04:09:28.981838Z",
     "shell.execute_reply": "2025-05-18T04:09:28.981271Z"
    },
    "papermill": {
     "duration": 0.083295,
     "end_time": "2025-05-18T04:09:28.983190",
     "exception": false,
     "start_time": "2025-05-18T04:09:28.899895",
     "status": "completed"
    },
    "tags": []
   },
   "outputs": [],
   "source": [
    "INTERVAL = 600\n",
    "\n",
    "starts = 0\n",
    "end = starts + INTERVAL\n",
    "\n",
    "seed_best_prompts = []\n",
    "\n",
    "validation_dfs = {}\n",
    "\n",
    "while end <= len(steps):\n",
    "    interval_acc = accuracy[starts:end]\n",
    "    interval_prompts = prompts[starts:end]\n",
    "    interval_steps = steps[starts:end]\n",
    "    interval_rewards = rewards[starts:end]\n",
    "    seed = starts // INTERVAL\n",
    "\n",
    "    max_idx = interval_acc.index(max(interval_acc))\n",
    "    best_prompt = interval_prompts[max_idx]\n",
    "    seed_best_prompts.append((seed, max(interval_acc), best_prompt))\n",
    "\n",
    "    values = {\n",
    "        'step': interval_steps,\n",
    "        'accuracy': interval_acc,\n",
    "        'rewards': interval_rewards,\n",
    "        'prompts': interval_prompts,\n",
    "    }\n",
    "\n",
    "    df = pd.DataFrame(values)\n",
    "    validation_dfs[seed] = df\n",
    "    df.to_csv(f\"validation_results_{seed}.csv\",index=False)\n",
    "\n",
    "    starts = end\n",
    "    end = starts + INTERVAL"
   ]
  },
  {
   "cell_type": "code",
   "execution_count": 5,
   "id": "7731afaa",
   "metadata": {
    "execution": {
     "iopub.execute_input": "2025-05-18T04:09:28.991587Z",
     "iopub.status.busy": "2025-05-18T04:09:28.990965Z",
     "iopub.status.idle": "2025-05-18T04:09:28.995592Z",
     "shell.execute_reply": "2025-05-18T04:09:28.994729Z"
    },
    "papermill": {
     "duration": 0.010014,
     "end_time": "2025-05-18T04:09:28.996832",
     "exception": false,
     "start_time": "2025-05-18T04:09:28.986818",
     "status": "completed"
    },
    "tags": []
   },
   "outputs": [
    {
     "name": "stdout",
     "output_type": "stream",
     "text": [
      "Seed 0: Max Accuracy = 0.8438\n",
      "Prompt: ['Ratedfully'] 55.10706329345703\n",
      "--------------------------------------------------\n",
      "Seed 1: Max Accuracy = 0.8438\n",
      "Prompt: ['Gameplay feel'] 77.44612884521484\n",
      "--------------------------------------------------\n",
      "Seed 2: Max Accuracy = 0.7812\n",
      "Prompt: ['Languageorable'] 54.156768798828125\n",
      "--------------------------------------------------\n",
      "Seed 3: Max Accuracy = 0.8750\n",
      "Prompt: ['Thus deeply'] 89.87913513183594\n",
      "--------------------------------------------------\n",
      "Seed 4: Max Accuracy = 0.9375\n",
      "Prompt: ['Graphics equally'] 112.40798950195312\n",
      "--------------------------------------------------\n"
     ]
    }
   ],
   "source": [
    "# Print best prompt (highest accuracy) for each seed\n",
    "for seed, acc, prompt in seed_best_prompts:\n",
    "    print(f\"Seed {seed}: Max Accuracy = {acc:.4f}\")\n",
    "    print(f\"Prompt: {prompt}\")\n",
    "    print(\"-\" * 50)"
   ]
  },
  {
   "cell_type": "code",
   "execution_count": 6,
   "id": "cd6f23c5",
   "metadata": {
    "execution": {
     "iopub.execute_input": "2025-05-18T04:09:29.004581Z",
     "iopub.status.busy": "2025-05-18T04:09:29.004341Z",
     "iopub.status.idle": "2025-05-18T04:09:29.009177Z",
     "shell.execute_reply": "2025-05-18T04:09:29.008387Z"
    },
    "papermill": {
     "duration": 0.009797,
     "end_time": "2025-05-18T04:09:29.010220",
     "exception": false,
     "start_time": "2025-05-18T04:09:29.000423",
     "status": "completed"
    },
    "tags": []
   },
   "outputs": [
    {
     "name": "stdout",
     "output_type": "stream",
     "text": [
      "['Ratedfully', 'Gameplay feel', 'Languageorable', 'Thus deeply', 'Graphics equally']\n"
     ]
    }
   ],
   "source": [
    "import ast\n",
    "\n",
    "best_prompt_words = []\n",
    "\n",
    "for _, _, raw_prompt in seed_best_prompts:\n",
    "    try:\n",
    "        bracket_content = raw_prompt.split(']')[0] + ']'\n",
    "        prompt_list = ast.literal_eval(bracket_content)\n",
    "        if isinstance(prompt_list, list) and len(prompt_list) > 0:\n",
    "            best_prompt_words.append(prompt_list[0])\n",
    "    except:\n",
    "        continue\n",
    "\n",
    "print(best_prompt_words)"
   ]
  },
  {
   "cell_type": "markdown",
   "id": "932c7b3a",
   "metadata": {
    "papermill": {
     "duration": 0.003218,
     "end_time": "2025-05-18T04:09:29.016858",
     "exception": false,
     "start_time": "2025-05-18T04:09:29.013640",
     "status": "completed"
    },
    "tags": []
   },
   "source": [
    "## Experiments Data Getter: Training"
   ]
  },
  {
   "cell_type": "code",
   "execution_count": 7,
   "id": "c4f51cc3",
   "metadata": {
    "execution": {
     "iopub.execute_input": "2025-05-18T04:09:29.024170Z",
     "iopub.status.busy": "2025-05-18T04:09:29.023926Z",
     "iopub.status.idle": "2025-05-18T04:09:32.299706Z",
     "shell.execute_reply": "2025-05-18T04:09:32.299023Z"
    },
    "papermill": {
     "duration": 3.281092,
     "end_time": "2025-05-18T04:09:32.301144",
     "exception": false,
     "start_time": "2025-05-18T04:09:29.020052",
     "status": "completed"
    },
    "tags": []
   },
   "outputs": [],
   "source": [
    "import numpy as np\n",
    "\n",
    "log_file = LOG_PATH\n",
    "\n",
    "all_rewards = {}\n",
    "all_accuracy = {}\n",
    "\n",
    "header_pattern = re.compile(r'^(\\d+)\\s*\\|')\n",
    "reward_pattern = re.compile(r'Reward:\\s*([-+]?\\d*\\.\\d+|\\d+)')\n",
    "accuracy_pattern = re.compile(r'Accuracy:\\s*([-+]?\\d*\\.\\d+|\\d+)')\n",
    "\n",
    "with open(log_file, 'r') as f:\n",
    "    lines = f.readlines()\n",
    "\n",
    "current_step = None\n",
    "seed = -1\n",
    "\n",
    "for line in lines:\n",
    "    if 'Task LM' in line:\n",
    "        seed += 1\n",
    "        all_rewards[seed] = {}\n",
    "        all_accuracy[seed] = {}\n",
    "        continue\n",
    "    \n",
    "    header_match = header_pattern.match(line)\n",
    "    if header_match:\n",
    "        current_step = int(header_match.group(1))\n",
    "    \n",
    "    if \"Reward:\" in line:\n",
    "        reward_match = reward_pattern.search(line)\n",
    "        if reward_match:\n",
    "            reward_value = float(reward_match.group(1))\n",
    "            if current_step is not None:\n",
    "                all_rewards[seed].setdefault(current_step, []).append(reward_value)\n",
    "\n",
    "    if \"Accuracy:\" in line:\n",
    "        accuracy_match = accuracy_pattern.search(line)\n",
    "        if accuracy_match:\n",
    "            accuracy_value = float(accuracy_match.group(1))\n",
    "            if current_step is not None:\n",
    "                all_accuracy[seed].setdefault(current_step, []).append(accuracy_value)\n",
    "\n",
    "    if 'Total training time' in line:\n",
    "        print(line)\n",
    "\n",
    "    if 'Peak GPU' in line:\n",
    "        print(line)"
   ]
  },
  {
   "cell_type": "code",
   "execution_count": 8,
   "id": "c5a605c9",
   "metadata": {
    "execution": {
     "iopub.execute_input": "2025-05-18T04:09:32.310923Z",
     "iopub.status.busy": "2025-05-18T04:09:32.310096Z",
     "iopub.status.idle": "2025-05-18T04:09:33.192942Z",
     "shell.execute_reply": "2025-05-18T04:09:33.192193Z"
    },
    "papermill": {
     "duration": 0.888728,
     "end_time": "2025-05-18T04:09:33.194176",
     "exception": false,
     "start_time": "2025-05-18T04:09:32.305448",
     "status": "completed"
    },
    "tags": []
   },
   "outputs": [],
   "source": [
    "training_results_dfs = {}\n",
    "\n",
    "for seed, data in all_rewards.items():\n",
    "    steps = sorted(data.keys())\n",
    "    means = [np.mean(data[step]) for step in steps]\n",
    "    stds  = [np.std(data[step]) for step in steps]\n",
    "\n",
    "    values = {\n",
    "        'step': steps,\n",
    "        'reward_mean': means,\n",
    "        'reward_std': stds\n",
    "    }\n",
    "\n",
    "    df = pd.DataFrame(values)\n",
    "    training_results_dfs[seed] = df"
   ]
  },
  {
   "cell_type": "code",
   "execution_count": 9,
   "id": "caf5a347",
   "metadata": {
    "execution": {
     "iopub.execute_input": "2025-05-18T04:09:33.202179Z",
     "iopub.status.busy": "2025-05-18T04:09:33.201643Z",
     "iopub.status.idle": "2025-05-18T04:09:34.247582Z",
     "shell.execute_reply": "2025-05-18T04:09:34.246932Z"
    },
    "papermill": {
     "duration": 1.051262,
     "end_time": "2025-05-18T04:09:34.248954",
     "exception": false,
     "start_time": "2025-05-18T04:09:33.197692",
     "status": "completed"
    },
    "tags": []
   },
   "outputs": [],
   "source": [
    "for seed, data in all_accuracy.items():\n",
    "    steps = sorted(data.keys())\n",
    "    means = [np.mean(data[step]) for step in steps]\n",
    "    stds  = [np.std(data[step]) for step in steps]\n",
    "\n",
    "    df = training_results_dfs[seed]\n",
    "    df['accuracy_mean'] = means\n",
    "    df['accuracy_stds'] = stds\n",
    "    df.to_csv(f\"training_results_{seed}.csv\",index=False)"
   ]
  },
  {
   "cell_type": "markdown",
   "id": "ceb23fd6",
   "metadata": {
    "papermill": {
     "duration": 0.003403,
     "end_time": "2025-05-18T04:09:34.256450",
     "exception": false,
     "start_time": "2025-05-18T04:09:34.253047",
     "status": "completed"
    },
    "tags": []
   },
   "source": [
    "## Environment Prep"
   ]
  },
  {
   "cell_type": "code",
   "execution_count": 10,
   "id": "a00b3c06",
   "metadata": {
    "execution": {
     "iopub.execute_input": "2025-05-18T04:09:34.263925Z",
     "iopub.status.busy": "2025-05-18T04:09:34.263691Z",
     "iopub.status.idle": "2025-05-18T04:09:34.267079Z",
     "shell.execute_reply": "2025-05-18T04:09:34.266445Z"
    },
    "papermill": {
     "duration": 0.008336,
     "end_time": "2025-05-18T04:09:34.268110",
     "exception": false,
     "start_time": "2025-05-18T04:09:34.259774",
     "status": "completed"
    },
    "tags": []
   },
   "outputs": [],
   "source": [
    "from IPython.display import clear_output"
   ]
  },
  {
   "cell_type": "code",
   "execution_count": 11,
   "id": "6779d47b",
   "metadata": {
    "execution": {
     "iopub.execute_input": "2025-05-18T04:09:34.275680Z",
     "iopub.status.busy": "2025-05-18T04:09:34.275474Z",
     "iopub.status.idle": "2025-05-18T04:09:48.469944Z",
     "shell.execute_reply": "2025-05-18T04:09:48.468997Z"
    },
    "papermill": {
     "duration": 14.199872,
     "end_time": "2025-05-18T04:09:48.471433",
     "exception": false,
     "start_time": "2025-05-18T04:09:34.271561",
     "status": "completed"
    },
    "tags": []
   },
   "outputs": [],
   "source": [
    "root_dir = \"/kaggle/conda\"\n",
    "!mkdir -p $root_dir\n",
    "!wget -q --show-progress https://repo.anaconda.com/miniconda/Miniconda3-latest-Linux-x86_64.sh\n",
    "!bash Miniconda3-latest-Linux-x86_64.sh -b -p $root_dir/miniconda3 -f\n",
    "clear_output()"
   ]
  },
  {
   "cell_type": "code",
   "execution_count": 12,
   "id": "e74b15d2",
   "metadata": {
    "execution": {
     "iopub.execute_input": "2025-05-18T04:09:48.480036Z",
     "iopub.status.busy": "2025-05-18T04:09:48.479789Z",
     "iopub.status.idle": "2025-05-18T04:09:58.417274Z",
     "shell.execute_reply": "2025-05-18T04:09:58.416486Z"
    },
    "papermill": {
     "duration": 9.943065,
     "end_time": "2025-05-18T04:09:58.418652",
     "exception": false,
     "start_time": "2025-05-18T04:09:48.475587",
     "status": "completed"
    },
    "tags": []
   },
   "outputs": [],
   "source": [
    "!$root_dir/miniconda3/bin/conda create --name my_env python=3.10 -y\n",
    "clear_output()"
   ]
  },
  {
   "cell_type": "code",
   "execution_count": 13,
   "id": "2d951b69",
   "metadata": {
    "execution": {
     "iopub.execute_input": "2025-05-18T04:09:58.427567Z",
     "iopub.status.busy": "2025-05-18T04:09:58.426914Z",
     "iopub.status.idle": "2025-05-18T04:10:04.558039Z",
     "shell.execute_reply": "2025-05-18T04:10:04.557063Z"
    },
    "papermill": {
     "duration": 6.136726,
     "end_time": "2025-05-18T04:10:04.559518",
     "exception": false,
     "start_time": "2025-05-18T04:09:58.422792",
     "status": "completed"
    },
    "tags": []
   },
   "outputs": [
    {
     "name": "stdout",
     "output_type": "stream",
     "text": [
      "Cloning into 'rl-prompt'...\r\n",
      "remote: Enumerating objects: 1783, done.\u001b[K\r\n",
      "remote: Counting objects: 100% (631/631), done.\u001b[K\r\n",
      "remote: Compressing objects: 100% (359/359), done.\u001b[K\r\n",
      "remote: Total 1783 (delta 377), reused 437 (delta 270), pack-reused 1152 (from 1)\u001b[K\r\n",
      "Receiving objects: 100% (1783/1783), 82.35 MiB | 27.30 MiB/s, done.\r\n",
      "Resolving deltas: 100% (786/786), done.\r\n",
      "Updating files: 100% (268/268), done.\r\n"
     ]
    }
   ],
   "source": [
    "!git clone https://github.com/malifalhakim/rl-prompt.git"
   ]
  },
  {
   "cell_type": "code",
   "execution_count": 14,
   "id": "a911fcf1",
   "metadata": {
    "execution": {
     "iopub.execute_input": "2025-05-18T04:10:04.570789Z",
     "iopub.status.busy": "2025-05-18T04:10:04.570526Z",
     "iopub.status.idle": "2025-05-18T04:10:04.576502Z",
     "shell.execute_reply": "2025-05-18T04:10:04.575806Z"
    },
    "papermill": {
     "duration": 0.012887,
     "end_time": "2025-05-18T04:10:04.577665",
     "exception": false,
     "start_time": "2025-05-18T04:10:04.564778",
     "status": "completed"
    },
    "tags": []
   },
   "outputs": [
    {
     "name": "stdout",
     "output_type": "stream",
     "text": [
      "/kaggle/working/rl-prompt\n"
     ]
    }
   ],
   "source": [
    "%cd /kaggle/working/rl-prompt"
   ]
  },
  {
   "cell_type": "code",
   "execution_count": 15,
   "id": "68f1f513",
   "metadata": {
    "execution": {
     "iopub.execute_input": "2025-05-18T04:10:04.587916Z",
     "iopub.status.busy": "2025-05-18T04:10:04.587717Z",
     "iopub.status.idle": "2025-05-18T04:12:09.846587Z",
     "shell.execute_reply": "2025-05-18T04:12:09.845735Z"
    },
    "papermill": {
     "duration": 125.265269,
     "end_time": "2025-05-18T04:12:09.847818",
     "exception": false,
     "start_time": "2025-05-18T04:10:04.582549",
     "status": "completed"
    },
    "tags": []
   },
   "outputs": [],
   "source": [
    "# Set the CUDA version variable\n",
    "CUDA_VERSION = 'cu118'\n",
    "\n",
    "# 1. Install PyTorch with matching CUDA version\n",
    "!source $root_dir/miniconda3/bin/activate my_env; pip install torch==2.6.0+{CUDA_VERSION} \\\n",
    "--extra-index-url https://download.pytorch.org/whl/{CUDA_VERSION}\n",
    "\n",
    "clear_output()"
   ]
  },
  {
   "cell_type": "code",
   "execution_count": 16,
   "id": "898fbce8",
   "metadata": {
    "execution": {
     "iopub.execute_input": "2025-05-18T04:12:09.859161Z",
     "iopub.status.busy": "2025-05-18T04:12:09.858897Z",
     "iopub.status.idle": "2025-05-18T04:12:42.123838Z",
     "shell.execute_reply": "2025-05-18T04:12:42.123084Z"
    },
    "papermill": {
     "duration": 32.271882,
     "end_time": "2025-05-18T04:12:42.125096",
     "exception": false,
     "start_time": "2025-05-18T04:12:09.853214",
     "status": "completed"
    },
    "tags": []
   },
   "outputs": [],
   "source": [
    "!source $root_dir/miniconda3/bin/activate my_env; pip install -e .\n",
    "\n",
    "clear_output()"
   ]
  },
  {
   "cell_type": "markdown",
   "id": "476855c3",
   "metadata": {
    "papermill": {
     "duration": 0.004689,
     "end_time": "2025-05-18T04:12:42.135041",
     "exception": false,
     "start_time": "2025-05-18T04:12:42.130352",
     "status": "completed"
    },
    "tags": []
   },
   "source": [
    "## Evaluation"
   ]
  },
  {
   "cell_type": "code",
   "execution_count": 17,
   "id": "dddea2b5",
   "metadata": {
    "execution": {
     "iopub.execute_input": "2025-05-18T04:12:42.145615Z",
     "iopub.status.busy": "2025-05-18T04:12:42.145063Z",
     "iopub.status.idle": "2025-05-18T04:12:42.150191Z",
     "shell.execute_reply": "2025-05-18T04:12:42.149602Z"
    },
    "papermill": {
     "duration": 0.011531,
     "end_time": "2025-05-18T04:12:42.151162",
     "exception": false,
     "start_time": "2025-05-18T04:12:42.139631",
     "status": "completed"
    },
    "tags": []
   },
   "outputs": [
    {
     "name": "stdout",
     "output_type": "stream",
     "text": [
      "/kaggle/working/rl-prompt/examples/few-shot-classification/evaluation\n"
     ]
    }
   ],
   "source": [
    "%cd examples/few-shot-classification/evaluation"
   ]
  },
  {
   "cell_type": "code",
   "execution_count": 18,
   "id": "17197fa7",
   "metadata": {
    "execution": {
     "iopub.execute_input": "2025-05-18T04:12:42.161823Z",
     "iopub.status.busy": "2025-05-18T04:12:42.161304Z",
     "iopub.status.idle": "2025-05-18T04:12:42.164938Z",
     "shell.execute_reply": "2025-05-18T04:12:42.164462Z"
    },
    "papermill": {
     "duration": 0.010044,
     "end_time": "2025-05-18T04:12:42.165962",
     "exception": false,
     "start_time": "2025-05-18T04:12:42.155918",
     "status": "completed"
    },
    "tags": []
   },
   "outputs": [],
   "source": [
    "with open(\"prompts.txt\", \"w\") as f:\n",
    "    for prompt in best_prompt_words:\n",
    "        f.write(prompt + \"\\n\")"
   ]
  },
  {
   "cell_type": "code",
   "execution_count": 19,
   "id": "295cb7a0",
   "metadata": {
    "execution": {
     "iopub.execute_input": "2025-05-18T04:12:42.176514Z",
     "iopub.status.busy": "2025-05-18T04:12:42.176312Z",
     "iopub.status.idle": "2025-05-18T04:15:55.546306Z",
     "shell.execute_reply": "2025-05-18T04:15:55.545476Z"
    },
    "papermill": {
     "duration": 193.38745,
     "end_time": "2025-05-18T04:15:55.558284",
     "exception": false,
     "start_time": "2025-05-18T04:12:42.170834",
     "status": "completed"
    },
    "tags": []
   },
   "outputs": [
    {
     "name": "stdout",
     "output_type": "stream",
     "text": [
      "----------------------------------------------\n",
      "Running evaluation with prompt: Ratedfully\n",
      "\u001b[31mnum_shots: 16\n",
      "base_path: ../data\n",
      "dataset: sst-2\n",
      "dataset_seed: 0\n",
      "task_lm: distilroberta-base\n",
      "is_mask_lm: null\n",
      "prompt: Ratedfully\n",
      "\u001b[0m\n",
      "Test Size 1821\n",
      "Examples: {'source_texts': ['no movement , no yuks , not much of anything .', \"a gob of drivel so sickly sweet , even the eager consumers of moore 's pasteurized ditties will retch it up like rancid crème brûlée .\", 'gangs of new york is an unapologetic mess , whose only saving grace is that it ends by blowing just about everything up .', 'we never really feel involved with the story , as all of its ideas remain just that : abstract ideas .', \"this is one of polanski 's best films .\"], 'class_labels': [0, 0, 0, 0, 1]}\n",
      "Task LM: distilroberta-base\n",
      "[2025-05-18 04:12:48,232][huggingface_hub.file_download][WARNING] - Xet Storage is enabled for this repo, but the 'hf_xet' package is not installed. Falling back to regular HTTP download. For better performance, install the package with: `pip install huggingface_hub[hf_xet]` or `pip install hf_xet`\n",
      "\u001b[31mprompt: Ratedfully, accuracy: 0.7803404927253723\u001b[0m\n",
      "\u001b[31mnum_shots: 16\n",
      "base_path: ../data\n",
      "dataset: sst-2\n",
      "dataset_seed: 0\n",
      "task_lm: roberta-base\n",
      "is_mask_lm: null\n",
      "prompt: Ratedfully\n",
      "\u001b[0m\n",
      "Test Size 1821\n",
      "Examples: {'source_texts': ['no movement , no yuks , not much of anything .', \"a gob of drivel so sickly sweet , even the eager consumers of moore 's pasteurized ditties will retch it up like rancid crème brûlée .\", 'gangs of new york is an unapologetic mess , whose only saving grace is that it ends by blowing just about everything up .', 'we never really feel involved with the story , as all of its ideas remain just that : abstract ideas .', \"this is one of polanski 's best films .\"], 'class_labels': [0, 0, 0, 0, 1]}\n",
      "Task LM: roberta-base\n",
      "[2025-05-18 04:12:59,142][huggingface_hub.file_download][WARNING] - Xet Storage is enabled for this repo, but the 'hf_xet' package is not installed. Falling back to regular HTTP download. For better performance, install the package with: `pip install huggingface_hub[hf_xet]` or `pip install hf_xet`\n",
      "\u001b[31mprompt: Ratedfully, accuracy: 0.6490939259529114\u001b[0m\n",
      "\u001b[31mnum_shots: 16\n",
      "base_path: ../data\n",
      "dataset: sst-2\n",
      "dataset_seed: 0\n",
      "task_lm: roberta-large\n",
      "is_mask_lm: null\n",
      "prompt: Ratedfully\n",
      "\u001b[0m\n",
      "Test Size 1821\n",
      "Examples: {'source_texts': ['no movement , no yuks , not much of anything .', \"a gob of drivel so sickly sweet , even the eager consumers of moore 's pasteurized ditties will retch it up like rancid crème brûlée .\", 'gangs of new york is an unapologetic mess , whose only saving grace is that it ends by blowing just about everything up .', 'we never really feel involved with the story , as all of its ideas remain just that : abstract ideas .', \"this is one of polanski 's best films .\"], 'class_labels': [0, 0, 0, 0, 1]}\n",
      "Task LM: roberta-large\n",
      "[2025-05-18 04:13:12,087][huggingface_hub.file_download][WARNING] - Xet Storage is enabled for this repo, but the 'hf_xet' package is not installed. Falling back to regular HTTP download. For better performance, install the package with: `pip install huggingface_hub[hf_xet]` or `pip install hf_xet`\n",
      "\u001b[31mprompt: Ratedfully, accuracy: 0.7644151449203491\u001b[0m\n",
      "----------------------------------------------\n",
      "Running evaluation with prompt: Gameplay feel\n",
      "\u001b[31mnum_shots: 16\n",
      "base_path: ../data\n",
      "dataset: sst-2\n",
      "dataset_seed: 0\n",
      "task_lm: distilroberta-base\n",
      "is_mask_lm: null\n",
      "prompt: Gameplay feel\n",
      "\u001b[0m\n",
      "Test Size 1821\n",
      "Examples: {'source_texts': ['no movement , no yuks , not much of anything .', \"a gob of drivel so sickly sweet , even the eager consumers of moore 's pasteurized ditties will retch it up like rancid crème brûlée .\", 'gangs of new york is an unapologetic mess , whose only saving grace is that it ends by blowing just about everything up .', 'we never really feel involved with the story , as all of its ideas remain just that : abstract ideas .', \"this is one of polanski 's best films .\"], 'class_labels': [0, 0, 0, 0, 1]}\n",
      "Task LM: distilroberta-base\n",
      "\u001b[31mprompt: Gameplay feel, accuracy: 0.7836353778839111\u001b[0m\n",
      "\u001b[31mnum_shots: 16\n",
      "base_path: ../data\n",
      "dataset: sst-2\n",
      "dataset_seed: 0\n",
      "task_lm: roberta-base\n",
      "is_mask_lm: null\n",
      "prompt: Gameplay feel\n",
      "\u001b[0m\n",
      "Test Size 1821\n",
      "Examples: {'source_texts': ['no movement , no yuks , not much of anything .', \"a gob of drivel so sickly sweet , even the eager consumers of moore 's pasteurized ditties will retch it up like rancid crème brûlée .\", 'gangs of new york is an unapologetic mess , whose only saving grace is that it ends by blowing just about everything up .', 'we never really feel involved with the story , as all of its ideas remain just that : abstract ideas .', \"this is one of polanski 's best films .\"], 'class_labels': [0, 0, 0, 0, 1]}\n",
      "Task LM: roberta-base\n",
      "\u001b[31mprompt: Gameplay feel, accuracy: 0.8358045220375061\u001b[0m\n",
      "\u001b[31mnum_shots: 16\n",
      "base_path: ../data\n",
      "dataset: sst-2\n",
      "dataset_seed: 0\n",
      "task_lm: roberta-large\n",
      "is_mask_lm: null\n",
      "prompt: Gameplay feel\n",
      "\u001b[0m\n",
      "Test Size 1821\n",
      "Examples: {'source_texts': ['no movement , no yuks , not much of anything .', \"a gob of drivel so sickly sweet , even the eager consumers of moore 's pasteurized ditties will retch it up like rancid crème brûlée .\", 'gangs of new york is an unapologetic mess , whose only saving grace is that it ends by blowing just about everything up .', 'we never really feel involved with the story , as all of its ideas remain just that : abstract ideas .', \"this is one of polanski 's best films .\"], 'class_labels': [0, 0, 0, 0, 1]}\n",
      "Task LM: roberta-large\n",
      "\u001b[31mprompt: Gameplay feel, accuracy: 0.680944561958313\u001b[0m\n",
      "----------------------------------------------\n",
      "Running evaluation with prompt: Languageorable\n",
      "\u001b[31mnum_shots: 16\n",
      "base_path: ../data\n",
      "dataset: sst-2\n",
      "dataset_seed: 0\n",
      "task_lm: distilroberta-base\n",
      "is_mask_lm: null\n",
      "prompt: Languageorable\n",
      "\u001b[0m\n",
      "Test Size 1821\n",
      "Examples: {'source_texts': ['no movement , no yuks , not much of anything .', \"a gob of drivel so sickly sweet , even the eager consumers of moore 's pasteurized ditties will retch it up like rancid crème brûlée .\", 'gangs of new york is an unapologetic mess , whose only saving grace is that it ends by blowing just about everything up .', 'we never really feel involved with the story , as all of its ideas remain just that : abstract ideas .', \"this is one of polanski 's best films .\"], 'class_labels': [0, 0, 0, 0, 1]}\n",
      "Task LM: distilroberta-base\n",
      "\u001b[31mprompt: Languageorable, accuracy: 0.7973641157150269\u001b[0m\n",
      "\u001b[31mnum_shots: 16\n",
      "base_path: ../data\n",
      "dataset: sst-2\n",
      "dataset_seed: 0\n",
      "task_lm: roberta-base\n",
      "is_mask_lm: null\n",
      "prompt: Languageorable\n",
      "\u001b[0m\n",
      "Test Size 1821\n",
      "Examples: {'source_texts': ['no movement , no yuks , not much of anything .', \"a gob of drivel so sickly sweet , even the eager consumers of moore 's pasteurized ditties will retch it up like rancid crème brûlée .\", 'gangs of new york is an unapologetic mess , whose only saving grace is that it ends by blowing just about everything up .', 'we never really feel involved with the story , as all of its ideas remain just that : abstract ideas .', \"this is one of polanski 's best films .\"], 'class_labels': [0, 0, 0, 0, 1]}\n",
      "Task LM: roberta-base\n",
      "\u001b[31mprompt: Languageorable, accuracy: 0.7935200333595276\u001b[0m\n",
      "\u001b[31mnum_shots: 16\n",
      "base_path: ../data\n",
      "dataset: sst-2\n",
      "dataset_seed: 0\n",
      "task_lm: roberta-large\n",
      "is_mask_lm: null\n",
      "prompt: Languageorable\n",
      "\u001b[0m\n",
      "Test Size 1821\n",
      "Examples: {'source_texts': ['no movement , no yuks , not much of anything .', \"a gob of drivel so sickly sweet , even the eager consumers of moore 's pasteurized ditties will retch it up like rancid crème brûlée .\", 'gangs of new york is an unapologetic mess , whose only saving grace is that it ends by blowing just about everything up .', 'we never really feel involved with the story , as all of its ideas remain just that : abstract ideas .', \"this is one of polanski 's best films .\"], 'class_labels': [0, 0, 0, 0, 1]}\n",
      "Task LM: roberta-large\n",
      "\u001b[31mprompt: Languageorable, accuracy: 0.7325645089149475\u001b[0m\n",
      "----------------------------------------------\n",
      "Running evaluation with prompt: Thus deeply\n",
      "\u001b[31mnum_shots: 16\n",
      "base_path: ../data\n",
      "dataset: sst-2\n",
      "dataset_seed: 0\n",
      "task_lm: distilroberta-base\n",
      "is_mask_lm: null\n",
      "prompt: Thus deeply\n",
      "\u001b[0m\n",
      "Test Size 1821\n",
      "Examples: {'source_texts': ['no movement , no yuks , not much of anything .', \"a gob of drivel so sickly sweet , even the eager consumers of moore 's pasteurized ditties will retch it up like rancid crème brûlée .\", 'gangs of new york is an unapologetic mess , whose only saving grace is that it ends by blowing just about everything up .', 'we never really feel involved with the story , as all of its ideas remain just that : abstract ideas .', \"this is one of polanski 's best films .\"], 'class_labels': [0, 0, 0, 0, 1]}\n",
      "Task LM: distilroberta-base\n",
      "\u001b[31mprompt: Thus deeply, accuracy: 0.8264690041542053\u001b[0m\n",
      "\u001b[31mnum_shots: 16\n",
      "base_path: ../data\n",
      "dataset: sst-2\n",
      "dataset_seed: 0\n",
      "task_lm: roberta-base\n",
      "is_mask_lm: null\n",
      "prompt: Thus deeply\n",
      "\u001b[0m\n",
      "Test Size 1821\n",
      "Examples: {'source_texts': ['no movement , no yuks , not much of anything .', \"a gob of drivel so sickly sweet , even the eager consumers of moore 's pasteurized ditties will retch it up like rancid crème brûlée .\", 'gangs of new york is an unapologetic mess , whose only saving grace is that it ends by blowing just about everything up .', 'we never really feel involved with the story , as all of its ideas remain just that : abstract ideas .', \"this is one of polanski 's best films .\"], 'class_labels': [0, 0, 0, 0, 1]}\n",
      "Task LM: roberta-base\n",
      "\u001b[31mprompt: Thus deeply, accuracy: 0.8385502696037292\u001b[0m\n",
      "\u001b[31mnum_shots: 16\n",
      "base_path: ../data\n",
      "dataset: sst-2\n",
      "dataset_seed: 0\n",
      "task_lm: roberta-large\n",
      "is_mask_lm: null\n",
      "prompt: Thus deeply\n",
      "\u001b[0m\n",
      "Test Size 1821\n",
      "Examples: {'source_texts': ['no movement , no yuks , not much of anything .', \"a gob of drivel so sickly sweet , even the eager consumers of moore 's pasteurized ditties will retch it up like rancid crème brûlée .\", 'gangs of new york is an unapologetic mess , whose only saving grace is that it ends by blowing just about everything up .', 'we never really feel involved with the story , as all of its ideas remain just that : abstract ideas .', \"this is one of polanski 's best films .\"], 'class_labels': [0, 0, 0, 0, 1]}\n",
      "Task LM: roberta-large\n",
      "\u001b[31mprompt: Thus deeply, accuracy: 0.8616145253181458\u001b[0m\n",
      "----------------------------------------------\n",
      "Running evaluation with prompt: Graphics equally\n",
      "\u001b[31mnum_shots: 16\n",
      "base_path: ../data\n",
      "dataset: sst-2\n",
      "dataset_seed: 0\n",
      "task_lm: distilroberta-base\n",
      "is_mask_lm: null\n",
      "prompt: Graphics equally\n",
      "\u001b[0m\n",
      "Test Size 1821\n",
      "Examples: {'source_texts': ['no movement , no yuks , not much of anything .', \"a gob of drivel so sickly sweet , even the eager consumers of moore 's pasteurized ditties will retch it up like rancid crème brûlée .\", 'gangs of new york is an unapologetic mess , whose only saving grace is that it ends by blowing just about everything up .', 'we never really feel involved with the story , as all of its ideas remain just that : abstract ideas .', \"this is one of polanski 's best films .\"], 'class_labels': [0, 0, 0, 0, 1]}\n",
      "Task LM: distilroberta-base\n",
      "\u001b[31mprompt: Graphics equally, accuracy: 0.813838541507721\u001b[0m\n",
      "\u001b[31mnum_shots: 16\n",
      "base_path: ../data\n",
      "dataset: sst-2\n",
      "dataset_seed: 0\n",
      "task_lm: roberta-base\n",
      "is_mask_lm: null\n",
      "prompt: Graphics equally\n",
      "\u001b[0m\n",
      "Test Size 1821\n",
      "Examples: {'source_texts': ['no movement , no yuks , not much of anything .', \"a gob of drivel so sickly sweet , even the eager consumers of moore 's pasteurized ditties will retch it up like rancid crème brûlée .\", 'gangs of new york is an unapologetic mess , whose only saving grace is that it ends by blowing just about everything up .', 'we never really feel involved with the story , as all of its ideas remain just that : abstract ideas .', \"this is one of polanski 's best films .\"], 'class_labels': [0, 0, 0, 0, 1]}\n",
      "Task LM: roberta-base\n",
      "\u001b[31mprompt: Graphics equally, accuracy: 0.7742998600006104\u001b[0m\n",
      "\u001b[31mnum_shots: 16\n",
      "base_path: ../data\n",
      "dataset: sst-2\n",
      "dataset_seed: 0\n",
      "task_lm: roberta-large\n",
      "is_mask_lm: null\n",
      "prompt: Graphics equally\n",
      "\u001b[0m\n",
      "Test Size 1821\n",
      "Examples: {'source_texts': ['no movement , no yuks , not much of anything .', \"a gob of drivel so sickly sweet , even the eager consumers of moore 's pasteurized ditties will retch it up like rancid crème brûlée .\", 'gangs of new york is an unapologetic mess , whose only saving grace is that it ends by blowing just about everything up .', 'we never really feel involved with the story , as all of its ideas remain just that : abstract ideas .', \"this is one of polanski 's best films .\"], 'class_labels': [0, 0, 0, 0, 1]}\n",
      "Task LM: roberta-large\n",
      "\u001b[31mprompt: Graphics equally, accuracy: 0.8857770562171936\u001b[0m\n"
     ]
    },
    {
     "name": "stderr",
     "output_type": "stream",
     "text": [
      "Xet Storage is enabled for this repo, but the 'hf_xet' package is not installed. Falling back to regular HTTP download. For better performance, install the package with: `pip install huggingface_hub[hf_xet]` or `pip install hf_xet`\n",
      "Some weights of the model checkpoint at distilroberta-base were not used when initializing RobertaForMaskedLM: ['roberta.pooler.dense.bias', 'roberta.pooler.dense.weight']\n",
      "- This IS expected if you are initializing RobertaForMaskedLM from the checkpoint of a model trained on another task or with another architecture (e.g. initializing a BertForSequenceClassification model from a BertForPreTraining model).\n",
      "- This IS NOT expected if you are initializing RobertaForMaskedLM from the checkpoint of a model that you expect to be exactly identical (initializing a BertForSequenceClassification model from a BertForSequenceClassification model).\n",
      "Xet Storage is enabled for this repo, but the 'hf_xet' package is not installed. Falling back to regular HTTP download. For better performance, install the package with: `pip install huggingface_hub[hf_xet]` or `pip install hf_xet`\n",
      "Xet Storage is enabled for this repo, but the 'hf_xet' package is not installed. Falling back to regular HTTP download. For better performance, install the package with: `pip install huggingface_hub[hf_xet]` or `pip install hf_xet`\n",
      "Some weights of the model checkpoint at distilroberta-base were not used when initializing RobertaForMaskedLM: ['roberta.pooler.dense.bias', 'roberta.pooler.dense.weight']\n",
      "- This IS expected if you are initializing RobertaForMaskedLM from the checkpoint of a model trained on another task or with another architecture (e.g. initializing a BertForSequenceClassification model from a BertForPreTraining model).\n",
      "- This IS NOT expected if you are initializing RobertaForMaskedLM from the checkpoint of a model that you expect to be exactly identical (initializing a BertForSequenceClassification model from a BertForSequenceClassification model).\n",
      "Some weights of the model checkpoint at distilroberta-base were not used when initializing RobertaForMaskedLM: ['roberta.pooler.dense.bias', 'roberta.pooler.dense.weight']\n",
      "- This IS expected if you are initializing RobertaForMaskedLM from the checkpoint of a model trained on another task or with another architecture (e.g. initializing a BertForSequenceClassification model from a BertForPreTraining model).\n",
      "- This IS NOT expected if you are initializing RobertaForMaskedLM from the checkpoint of a model that you expect to be exactly identical (initializing a BertForSequenceClassification model from a BertForSequenceClassification model).\n",
      "Some weights of the model checkpoint at distilroberta-base were not used when initializing RobertaForMaskedLM: ['roberta.pooler.dense.bias', 'roberta.pooler.dense.weight']\n",
      "- This IS expected if you are initializing RobertaForMaskedLM from the checkpoint of a model trained on another task or with another architecture (e.g. initializing a BertForSequenceClassification model from a BertForPreTraining model).\n",
      "- This IS NOT expected if you are initializing RobertaForMaskedLM from the checkpoint of a model that you expect to be exactly identical (initializing a BertForSequenceClassification model from a BertForSequenceClassification model).\n",
      "Some weights of the model checkpoint at distilroberta-base were not used when initializing RobertaForMaskedLM: ['roberta.pooler.dense.bias', 'roberta.pooler.dense.weight']\n",
      "- This IS expected if you are initializing RobertaForMaskedLM from the checkpoint of a model trained on another task or with another architecture (e.g. initializing a BertForSequenceClassification model from a BertForPreTraining model).\n",
      "- This IS NOT expected if you are initializing RobertaForMaskedLM from the checkpoint of a model that you expect to be exactly identical (initializing a BertForSequenceClassification model from a BertForSequenceClassification model).\n"
     ]
    }
   ],
   "source": [
    "%%bash\n",
    "source /kaggle/conda/miniconda3/bin/activate my_env\n",
    "\n",
    "while IFS= read -r prompt; do\n",
    "    echo \"----------------------------------------------\"\n",
    "    echo \"Running evaluation with prompt: $prompt\"\n",
    "    python run_eval.py dataset=sst-2 task_lm=distilroberta-base \"prompt=\\\"${prompt}\\\"\"\n",
    "    python run_eval.py dataset=sst-2 task_lm=roberta-base \"prompt=\\\"${prompt}\\\"\"\n",
    "    python run_eval.py dataset=sst-2 task_lm=roberta-large \"prompt=\\\"${prompt}\\\"\"\n",
    "done < prompts.txt"
   ]
  }
 ],
 "metadata": {
  "kaggle": {
   "accelerator": "gpu",
   "dataSources": [
    {
     "datasetId": 7448425,
     "sourceId": 11853781,
     "sourceType": "datasetVersion"
    },
    {
     "datasetId": 7119255,
     "sourceId": 11853820,
     "sourceType": "datasetVersion"
    }
   ],
   "dockerImageVersionId": 31011,
   "isGpuEnabled": true,
   "isInternetEnabled": true,
   "language": "python",
   "sourceType": "notebook"
  },
  "kernelspec": {
   "display_name": "Python 3",
   "language": "python",
   "name": "python3"
  },
  "language_info": {
   "codemirror_mode": {
    "name": "ipython",
    "version": 3
   },
   "file_extension": ".py",
   "mimetype": "text/x-python",
   "name": "python",
   "nbconvert_exporter": "python",
   "pygments_lexer": "ipython3",
   "version": "3.11.11"
  },
  "papermill": {
   "default_parameters": {},
   "duration": 396.588938,
   "end_time": "2025-05-18T04:15:56.485192",
   "environment_variables": {},
   "exception": null,
   "input_path": "__notebook__.ipynb",
   "output_path": "__notebook__.ipynb",
   "parameters": {},
   "start_time": "2025-05-18T04:09:19.896254",
   "version": "2.6.0"
  }
 },
 "nbformat": 4,
 "nbformat_minor": 5
}
