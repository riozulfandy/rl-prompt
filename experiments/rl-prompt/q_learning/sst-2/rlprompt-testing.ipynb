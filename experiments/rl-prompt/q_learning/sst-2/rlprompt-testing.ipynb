{
 "cells": [
  {
   "cell_type": "code",
   "execution_count": 1,
   "id": "28b3a267",
   "metadata": {
    "execution": {
     "iopub.execute_input": "2025-05-18T03:29:57.381195Z",
     "iopub.status.busy": "2025-05-18T03:29:57.380531Z",
     "iopub.status.idle": "2025-05-18T03:29:57.387479Z",
     "shell.execute_reply": "2025-05-18T03:29:57.386863Z"
    },
    "papermill": {
     "duration": 0.01329,
     "end_time": "2025-05-18T03:29:57.388576",
     "exception": false,
     "start_time": "2025-05-18T03:29:57.375286",
     "status": "completed"
    },
    "tags": []
   },
   "outputs": [
    {
     "name": "stdout",
     "output_type": "stream",
     "text": [
      "Don't forget to change the dataset argument\n"
     ]
    }
   ],
   "source": [
    "LOG_PATH = '/kaggle/input/rlprompt-sst2-distillroberta-base/all_outputs_sst2.log'\n",
    "print(\"Don't forget to change the dataset argument\")"
   ]
  },
  {
   "cell_type": "code",
   "execution_count": 2,
   "id": "69e299e2",
   "metadata": {
    "execution": {
     "iopub.execute_input": "2025-05-18T03:29:57.396294Z",
     "iopub.status.busy": "2025-05-18T03:29:57.396051Z",
     "iopub.status.idle": "2025-05-18T03:29:58.919693Z",
     "shell.execute_reply": "2025-05-18T03:29:58.919098Z"
    },
    "papermill": {
     "duration": 1.528953,
     "end_time": "2025-05-18T03:29:58.921135",
     "exception": false,
     "start_time": "2025-05-18T03:29:57.392182",
     "status": "completed"
    },
    "tags": []
   },
   "outputs": [],
   "source": [
    "import pandas as pd"
   ]
  },
  {
   "cell_type": "markdown",
   "id": "0dcfa182",
   "metadata": {
    "papermill": {
     "duration": 0.004764,
     "end_time": "2025-05-18T03:29:58.933285",
     "exception": false,
     "start_time": "2025-05-18T03:29:58.928521",
     "status": "completed"
    },
    "tags": []
   },
   "source": [
    "## Experiments Data Getter: Validation"
   ]
  },
  {
   "cell_type": "code",
   "execution_count": 3,
   "id": "babec170",
   "metadata": {
    "execution": {
     "iopub.execute_input": "2025-05-18T03:29:58.940670Z",
     "iopub.status.busy": "2025-05-18T03:29:58.940360Z",
     "iopub.status.idle": "2025-05-18T03:30:03.675379Z",
     "shell.execute_reply": "2025-05-18T03:30:03.674534Z"
    },
    "papermill": {
     "duration": 4.740287,
     "end_time": "2025-05-18T03:30:03.676800",
     "exception": false,
     "start_time": "2025-05-18T03:29:58.936513",
     "status": "completed"
    },
    "tags": []
   },
   "outputs": [],
   "source": [
    "import re\n",
    "\n",
    "log_file = LOG_PATH\n",
    "\n",
    "step_pattern = re.compile(r'^(\\d+)\\s+\\|')\n",
    "reward_pattern = re.compile(r'([-+]?\\d*\\.\\d+|\\d+)')\n",
    "accuracy_pattern = re.compile(r'Accuracy:\\s*([-+]?\\d*\\.\\d+|\\d+)')\n",
    "\n",
    "steps = []\n",
    "rewards = []\n",
    "accuracy = []\n",
    "prompts = []\n",
    "\n",
    "with open(log_file, 'r') as f:\n",
    "    lines = f.readlines()\n",
    "\n",
    "current_step = None\n",
    "\n",
    "for i, line in enumerate(lines):\n",
    "    step_match = step_pattern.match(line)\n",
    "    if step_match:\n",
    "        current_step = int(step_match.group(1))\n",
    "\n",
    "    if \"Our Prompt:\" in line:\n",
    "        next_line = lines[i + 1].strip()\n",
    "        prev_line = lines[i - 1].strip()\n",
    "\n",
    "        accuracy_match = accuracy_pattern.search(prev_line)\n",
    "        numbers = reward_pattern.findall(next_line)\n",
    "\n",
    "        if accuracy_match and numbers and current_step is not None:\n",
    "            acc_value = float(accuracy_match.group(1))\n",
    "            reward_value = float(numbers[-1])\n",
    "\n",
    "            steps.append(current_step)\n",
    "            rewards.append(reward_value)\n",
    "            accuracy.append(acc_value)\n",
    "            prompts.append(next_line)"
   ]
  },
  {
   "cell_type": "code",
   "execution_count": 4,
   "id": "9e7f8402",
   "metadata": {
    "execution": {
     "iopub.execute_input": "2025-05-18T03:30:03.684855Z",
     "iopub.status.busy": "2025-05-18T03:30:03.684648Z",
     "iopub.status.idle": "2025-05-18T03:30:03.755463Z",
     "shell.execute_reply": "2025-05-18T03:30:03.754692Z"
    },
    "papermill": {
     "duration": 0.07611,
     "end_time": "2025-05-18T03:30:03.756792",
     "exception": false,
     "start_time": "2025-05-18T03:30:03.680682",
     "status": "completed"
    },
    "tags": []
   },
   "outputs": [],
   "source": [
    "INTERVAL = 600\n",
    "\n",
    "starts = 0\n",
    "end = starts + INTERVAL\n",
    "\n",
    "seed_best_prompts = []\n",
    "\n",
    "validation_dfs = {}\n",
    "\n",
    "while end <= len(steps):\n",
    "    interval_acc = accuracy[starts:end]\n",
    "    interval_prompts = prompts[starts:end]\n",
    "    interval_steps = steps[starts:end]\n",
    "    interval_rewards = rewards[starts:end]\n",
    "    seed = starts // INTERVAL\n",
    "\n",
    "    max_idx = interval_acc.index(max(interval_acc))\n",
    "    best_prompt = interval_prompts[max_idx]\n",
    "    seed_best_prompts.append((seed, max(interval_acc), best_prompt))\n",
    "\n",
    "    values = {\n",
    "        'step': interval_steps,\n",
    "        'accuracy': interval_acc,\n",
    "        'rewards': interval_rewards,\n",
    "        'prompts': interval_prompts,\n",
    "    }\n",
    "\n",
    "    df = pd.DataFrame(values)\n",
    "    validation_dfs[seed] = df\n",
    "    df.to_csv(f\"validation_results_{seed}.csv\",index=False)\n",
    "\n",
    "    starts = end\n",
    "    end = starts + INTERVAL"
   ]
  },
  {
   "cell_type": "code",
   "execution_count": 5,
   "id": "0643d639",
   "metadata": {
    "execution": {
     "iopub.execute_input": "2025-05-18T03:30:03.764642Z",
     "iopub.status.busy": "2025-05-18T03:30:03.764226Z",
     "iopub.status.idle": "2025-05-18T03:30:03.768494Z",
     "shell.execute_reply": "2025-05-18T03:30:03.767705Z"
    },
    "papermill": {
     "duration": 0.0092,
     "end_time": "2025-05-18T03:30:03.769538",
     "exception": false,
     "start_time": "2025-05-18T03:30:03.760338",
     "status": "completed"
    },
    "tags": []
   },
   "outputs": [
    {
     "name": "stdout",
     "output_type": "stream",
     "text": [
      "Seed 0: Max Accuracy = 0.8125\n",
      "Prompt: [' highly deeply'] 58.149776458740234\n",
      "--------------------------------------------------\n",
      "Seed 1: Max Accuracy = 0.8750\n",
      "Prompt: [' sound sounds'] 54.50082015991211\n",
      "--------------------------------------------------\n",
      "Seed 2: Max Accuracy = 0.7500\n",
      "Prompt: ['ratesrates'] 33.95219802856445\n",
      "--------------------------------------------------\n",
      "Seed 3: Max Accuracy = 0.8750\n",
      "Prompt: [' extremely extremely'] 71.49598693847656\n",
      "--------------------------------------------------\n",
      "Seed 4: Max Accuracy = 0.9062\n",
      "Prompt: [' extremely incredibly'] 97.92585754394531\n",
      "--------------------------------------------------\n"
     ]
    }
   ],
   "source": [
    "# Print best prompt (highest accuracy) for each seed\n",
    "for seed, acc, prompt in seed_best_prompts:\n",
    "    print(f\"Seed {seed}: Max Accuracy = {acc:.4f}\")\n",
    "    print(f\"Prompt: {prompt}\")\n",
    "    print(\"-\" * 50)"
   ]
  },
  {
   "cell_type": "code",
   "execution_count": 6,
   "id": "2becbb48",
   "metadata": {
    "execution": {
     "iopub.execute_input": "2025-05-18T03:30:03.776934Z",
     "iopub.status.busy": "2025-05-18T03:30:03.776748Z",
     "iopub.status.idle": "2025-05-18T03:30:03.781369Z",
     "shell.execute_reply": "2025-05-18T03:30:03.780786Z"
    },
    "papermill": {
     "duration": 0.009333,
     "end_time": "2025-05-18T03:30:03.782320",
     "exception": false,
     "start_time": "2025-05-18T03:30:03.772987",
     "status": "completed"
    },
    "tags": []
   },
   "outputs": [
    {
     "name": "stdout",
     "output_type": "stream",
     "text": [
      "[' highly deeply', ' sound sounds', 'ratesrates', ' extremely extremely', ' extremely incredibly']\n"
     ]
    }
   ],
   "source": [
    "import ast\n",
    "\n",
    "best_prompt_words = []\n",
    "\n",
    "for _, _, raw_prompt in seed_best_prompts:\n",
    "    try:\n",
    "        bracket_content = raw_prompt.split(']')[0] + ']'\n",
    "        prompt_list = ast.literal_eval(bracket_content)\n",
    "        if isinstance(prompt_list, list) and len(prompt_list) > 0:\n",
    "            best_prompt_words.append(prompt_list[0])\n",
    "    except:\n",
    "        continue\n",
    "\n",
    "print(best_prompt_words)"
   ]
  },
  {
   "cell_type": "markdown",
   "id": "f78dd13c",
   "metadata": {
    "papermill": {
     "duration": 0.003074,
     "end_time": "2025-05-18T03:30:03.788554",
     "exception": false,
     "start_time": "2025-05-18T03:30:03.785480",
     "status": "completed"
    },
    "tags": []
   },
   "source": [
    "## Experiments Data Getter: Training"
   ]
  },
  {
   "cell_type": "code",
   "execution_count": 7,
   "id": "deb557a1",
   "metadata": {
    "execution": {
     "iopub.execute_input": "2025-05-18T03:30:03.795640Z",
     "iopub.status.busy": "2025-05-18T03:30:03.795442Z",
     "iopub.status.idle": "2025-05-18T03:30:06.500113Z",
     "shell.execute_reply": "2025-05-18T03:30:06.499370Z"
    },
    "papermill": {
     "duration": 2.709652,
     "end_time": "2025-05-18T03:30:06.501358",
     "exception": false,
     "start_time": "2025-05-18T03:30:03.791706",
     "status": "completed"
    },
    "tags": []
   },
   "outputs": [
    {
     "name": "stdout",
     "output_type": "stream",
     "text": [
      "Total training time: 1.65 hours (98.82 minutes)\n",
      "\n",
      "Peak GPU memory usage: 1475.70 MB (1.44 GB)\n",
      "\n",
      "Total training time: 1.53 hours (92.01 minutes)\n",
      "\n",
      "Peak GPU memory usage: 1437.36 MB (1.40 GB)\n",
      "\n",
      "Total training time: 1.40 hours (83.98 minutes)\n",
      "\n",
      "Peak GPU memory usage: 1406.13 MB (1.37 GB)\n",
      "\n",
      "Total training time: 1.51 hours (90.37 minutes)\n",
      "\n",
      "Peak GPU memory usage: 1431.13 MB (1.40 GB)\n",
      "\n",
      "Total training time: 1.41 hours (84.50 minutes)\n",
      "\n",
      "Peak GPU memory usage: 1411.84 MB (1.38 GB)\n",
      "\n"
     ]
    }
   ],
   "source": [
    "import numpy as np\n",
    "\n",
    "log_file = LOG_PATH\n",
    "\n",
    "all_rewards = {}\n",
    "all_accuracy = {}\n",
    "\n",
    "header_pattern = re.compile(r'^(\\d+)\\s*\\|')\n",
    "reward_pattern = re.compile(r'Reward:\\s*([-+]?\\d*\\.\\d+|\\d+)')\n",
    "accuracy_pattern = re.compile(r'Accuracy:\\s*([-+]?\\d*\\.\\d+|\\d+)')\n",
    "\n",
    "with open(log_file, 'r') as f:\n",
    "    lines = f.readlines()\n",
    "\n",
    "current_step = None\n",
    "seed = -1\n",
    "\n",
    "for line in lines:\n",
    "    if 'Task LM' in line:\n",
    "        seed += 1\n",
    "        all_rewards[seed] = {}\n",
    "        all_accuracy[seed] = {}\n",
    "        continue\n",
    "    \n",
    "    header_match = header_pattern.match(line)\n",
    "    if header_match:\n",
    "        current_step = int(header_match.group(1))\n",
    "    \n",
    "    if \"Reward:\" in line:\n",
    "        reward_match = reward_pattern.search(line)\n",
    "        if reward_match:\n",
    "            reward_value = float(reward_match.group(1))\n",
    "            if current_step is not None:\n",
    "                all_rewards[seed].setdefault(current_step, []).append(reward_value)\n",
    "\n",
    "    if \"Accuracy:\" in line:\n",
    "        accuracy_match = accuracy_pattern.search(line)\n",
    "        if accuracy_match:\n",
    "            accuracy_value = float(accuracy_match.group(1))\n",
    "            if current_step is not None:\n",
    "                all_accuracy[seed].setdefault(current_step, []).append(accuracy_value)\n",
    "\n",
    "    if 'Total training time' in line:\n",
    "        print(line)\n",
    "\n",
    "    if 'Peak GPU' in line:\n",
    "        print(line)"
   ]
  },
  {
   "cell_type": "code",
   "execution_count": 8,
   "id": "8fa15f81",
   "metadata": {
    "execution": {
     "iopub.execute_input": "2025-05-18T03:30:06.509728Z",
     "iopub.status.busy": "2025-05-18T03:30:06.509264Z",
     "iopub.status.idle": "2025-05-18T03:30:07.352100Z",
     "shell.execute_reply": "2025-05-18T03:30:07.351430Z"
    },
    "papermill": {
     "duration": 0.848379,
     "end_time": "2025-05-18T03:30:07.353549",
     "exception": false,
     "start_time": "2025-05-18T03:30:06.505170",
     "status": "completed"
    },
    "tags": []
   },
   "outputs": [],
   "source": [
    "training_results_dfs = {}\n",
    "\n",
    "for seed, data in all_rewards.items():\n",
    "    steps = sorted(data.keys())\n",
    "    means = [np.mean(data[step]) for step in steps]\n",
    "    stds  = [np.std(data[step]) for step in steps]\n",
    "\n",
    "    values = {\n",
    "        'step': steps,\n",
    "        'reward_mean': means,\n",
    "        'reward_std': stds\n",
    "    }\n",
    "\n",
    "    df = pd.DataFrame(values)\n",
    "    training_results_dfs[seed] = df"
   ]
  },
  {
   "cell_type": "code",
   "execution_count": 9,
   "id": "22c597a8",
   "metadata": {
    "execution": {
     "iopub.execute_input": "2025-05-18T03:30:07.361828Z",
     "iopub.status.busy": "2025-05-18T03:30:07.361603Z",
     "iopub.status.idle": "2025-05-18T03:30:08.333092Z",
     "shell.execute_reply": "2025-05-18T03:30:08.332513Z"
    },
    "papermill": {
     "duration": 0.977152,
     "end_time": "2025-05-18T03:30:08.334463",
     "exception": false,
     "start_time": "2025-05-18T03:30:07.357311",
     "status": "completed"
    },
    "tags": []
   },
   "outputs": [],
   "source": [
    "for seed, data in all_accuracy.items():\n",
    "    steps = sorted(data.keys())\n",
    "    means = [np.mean(data[step]) for step in steps]\n",
    "    stds  = [np.std(data[step]) for step in steps]\n",
    "\n",
    "    df = training_results_dfs[seed]\n",
    "    df['accuracy_mean'] = means\n",
    "    df['accuracy_stds'] = stds\n",
    "    df.to_csv(f\"training_results_{seed}.csv\",index=False)"
   ]
  },
  {
   "cell_type": "markdown",
   "id": "8f422683",
   "metadata": {
    "papermill": {
     "duration": 0.003284,
     "end_time": "2025-05-18T03:30:08.341596",
     "exception": false,
     "start_time": "2025-05-18T03:30:08.338312",
     "status": "completed"
    },
    "tags": []
   },
   "source": [
    "## Environment Prep"
   ]
  },
  {
   "cell_type": "code",
   "execution_count": 10,
   "id": "e94dd2c8",
   "metadata": {
    "execution": {
     "iopub.execute_input": "2025-05-18T03:30:08.349649Z",
     "iopub.status.busy": "2025-05-18T03:30:08.349135Z",
     "iopub.status.idle": "2025-05-18T03:30:08.352309Z",
     "shell.execute_reply": "2025-05-18T03:30:08.351792Z"
    },
    "papermill": {
     "duration": 0.008421,
     "end_time": "2025-05-18T03:30:08.353361",
     "exception": false,
     "start_time": "2025-05-18T03:30:08.344940",
     "status": "completed"
    },
    "tags": []
   },
   "outputs": [],
   "source": [
    "from IPython.display import clear_output"
   ]
  },
  {
   "cell_type": "code",
   "execution_count": 11,
   "id": "48a7dcd0",
   "metadata": {
    "execution": {
     "iopub.execute_input": "2025-05-18T03:30:08.361120Z",
     "iopub.status.busy": "2025-05-18T03:30:08.360913Z",
     "iopub.status.idle": "2025-05-18T03:30:21.927902Z",
     "shell.execute_reply": "2025-05-18T03:30:21.926976Z"
    },
    "papermill": {
     "duration": 13.572324,
     "end_time": "2025-05-18T03:30:21.929197",
     "exception": false,
     "start_time": "2025-05-18T03:30:08.356873",
     "status": "completed"
    },
    "tags": []
   },
   "outputs": [],
   "source": [
    "root_dir = \"/kaggle/conda\"\n",
    "!mkdir -p $root_dir\n",
    "!wget -q --show-progress https://repo.anaconda.com/miniconda/Miniconda3-latest-Linux-x86_64.sh\n",
    "!bash Miniconda3-latest-Linux-x86_64.sh -b -p $root_dir/miniconda3 -f\n",
    "clear_output()"
   ]
  },
  {
   "cell_type": "code",
   "execution_count": 12,
   "id": "c694f529",
   "metadata": {
    "execution": {
     "iopub.execute_input": "2025-05-18T03:30:21.937544Z",
     "iopub.status.busy": "2025-05-18T03:30:21.937299Z",
     "iopub.status.idle": "2025-05-18T03:30:32.036958Z",
     "shell.execute_reply": "2025-05-18T03:30:32.036240Z"
    },
    "papermill": {
     "duration": 10.105304,
     "end_time": "2025-05-18T03:30:32.038309",
     "exception": false,
     "start_time": "2025-05-18T03:30:21.933005",
     "status": "completed"
    },
    "tags": []
   },
   "outputs": [],
   "source": [
    "!$root_dir/miniconda3/bin/conda create --name my_env python=3.10 -y\n",
    "clear_output()"
   ]
  },
  {
   "cell_type": "code",
   "execution_count": 13,
   "id": "eaa34193",
   "metadata": {
    "execution": {
     "iopub.execute_input": "2025-05-18T03:30:32.046991Z",
     "iopub.status.busy": "2025-05-18T03:30:32.046742Z",
     "iopub.status.idle": "2025-05-18T03:30:38.295241Z",
     "shell.execute_reply": "2025-05-18T03:30:38.294348Z"
    },
    "papermill": {
     "duration": 6.253943,
     "end_time": "2025-05-18T03:30:38.296506",
     "exception": false,
     "start_time": "2025-05-18T03:30:32.042563",
     "status": "completed"
    },
    "tags": []
   },
   "outputs": [
    {
     "name": "stdout",
     "output_type": "stream",
     "text": [
      "Cloning into 'rl-prompt'...\r\n",
      "remote: Enumerating objects: 1783, done.\u001b[K\r\n",
      "remote: Counting objects: 100% (631/631), done.\u001b[K\r\n",
      "remote: Compressing objects: 100% (359/359), done.\u001b[K\r\n",
      "remote: Total 1783 (delta 377), reused 437 (delta 270), pack-reused 1152 (from 1)\u001b[K\r\n",
      "Receiving objects: 100% (1783/1783), 82.35 MiB | 26.29 MiB/s, done.\r\n",
      "Resolving deltas: 100% (786/786), done.\r\n",
      "Updating files: 100% (268/268), done.\r\n"
     ]
    }
   ],
   "source": [
    "!git clone https://github.com/malifalhakim/rl-prompt.git"
   ]
  },
  {
   "cell_type": "code",
   "execution_count": 14,
   "id": "19d237a7",
   "metadata": {
    "execution": {
     "iopub.execute_input": "2025-05-18T03:30:38.308330Z",
     "iopub.status.busy": "2025-05-18T03:30:38.308117Z",
     "iopub.status.idle": "2025-05-18T03:30:38.314319Z",
     "shell.execute_reply": "2025-05-18T03:30:38.313623Z"
    },
    "papermill": {
     "duration": 0.013423,
     "end_time": "2025-05-18T03:30:38.315531",
     "exception": false,
     "start_time": "2025-05-18T03:30:38.302108",
     "status": "completed"
    },
    "tags": []
   },
   "outputs": [
    {
     "name": "stdout",
     "output_type": "stream",
     "text": [
      "/kaggle/working/rl-prompt\n"
     ]
    }
   ],
   "source": [
    "%cd /kaggle/working/rl-prompt"
   ]
  },
  {
   "cell_type": "code",
   "execution_count": 15,
   "id": "1b2f3546",
   "metadata": {
    "execution": {
     "iopub.execute_input": "2025-05-18T03:30:38.326437Z",
     "iopub.status.busy": "2025-05-18T03:30:38.326232Z",
     "iopub.status.idle": "2025-05-18T03:32:40.661982Z",
     "shell.execute_reply": "2025-05-18T03:32:40.661058Z"
    },
    "papermill": {
     "duration": 122.342706,
     "end_time": "2025-05-18T03:32:40.663356",
     "exception": false,
     "start_time": "2025-05-18T03:30:38.320650",
     "status": "completed"
    },
    "tags": []
   },
   "outputs": [],
   "source": [
    "# Set the CUDA version variable\n",
    "CUDA_VERSION = 'cu118'\n",
    "\n",
    "# 1. Install PyTorch with matching CUDA version\n",
    "!source $root_dir/miniconda3/bin/activate my_env; pip install torch==2.6.0+{CUDA_VERSION} \\\n",
    "--extra-index-url https://download.pytorch.org/whl/{CUDA_VERSION}\n",
    "\n",
    "clear_output()"
   ]
  },
  {
   "cell_type": "code",
   "execution_count": 16,
   "id": "bbc96d3e",
   "metadata": {
    "execution": {
     "iopub.execute_input": "2025-05-18T03:32:40.674967Z",
     "iopub.status.busy": "2025-05-18T03:32:40.674721Z",
     "iopub.status.idle": "2025-05-18T03:33:12.025021Z",
     "shell.execute_reply": "2025-05-18T03:33:12.024279Z"
    },
    "papermill": {
     "duration": 31.357632,
     "end_time": "2025-05-18T03:33:12.026423",
     "exception": false,
     "start_time": "2025-05-18T03:32:40.668791",
     "status": "completed"
    },
    "tags": []
   },
   "outputs": [],
   "source": [
    "!source $root_dir/miniconda3/bin/activate my_env; pip install -e .\n",
    "\n",
    "clear_output()"
   ]
  },
  {
   "cell_type": "markdown",
   "id": "7327277d",
   "metadata": {
    "papermill": {
     "duration": 0.005,
     "end_time": "2025-05-18T03:33:12.036829",
     "exception": false,
     "start_time": "2025-05-18T03:33:12.031829",
     "status": "completed"
    },
    "tags": []
   },
   "source": [
    "## Evaluation"
   ]
  },
  {
   "cell_type": "code",
   "execution_count": 17,
   "id": "6ec802bf",
   "metadata": {
    "execution": {
     "iopub.execute_input": "2025-05-18T03:33:12.047707Z",
     "iopub.status.busy": "2025-05-18T03:33:12.047459Z",
     "iopub.status.idle": "2025-05-18T03:33:12.052814Z",
     "shell.execute_reply": "2025-05-18T03:33:12.052200Z"
    },
    "papermill": {
     "duration": 0.012078,
     "end_time": "2025-05-18T03:33:12.053800",
     "exception": false,
     "start_time": "2025-05-18T03:33:12.041722",
     "status": "completed"
    },
    "tags": []
   },
   "outputs": [
    {
     "name": "stdout",
     "output_type": "stream",
     "text": [
      "/kaggle/working/rl-prompt/examples/few-shot-classification/evaluation\n"
     ]
    }
   ],
   "source": [
    "%cd examples/few-shot-classification/evaluation"
   ]
  },
  {
   "cell_type": "code",
   "execution_count": 18,
   "id": "8c79222b",
   "metadata": {
    "execution": {
     "iopub.execute_input": "2025-05-18T03:33:12.064819Z",
     "iopub.status.busy": "2025-05-18T03:33:12.064588Z",
     "iopub.status.idle": "2025-05-18T03:33:12.068516Z",
     "shell.execute_reply": "2025-05-18T03:33:12.067967Z"
    },
    "papermill": {
     "duration": 0.010729,
     "end_time": "2025-05-18T03:33:12.069634",
     "exception": false,
     "start_time": "2025-05-18T03:33:12.058905",
     "status": "completed"
    },
    "tags": []
   },
   "outputs": [],
   "source": [
    "with open(\"prompts.txt\", \"w\") as f:\n",
    "    for prompt in best_prompt_words:\n",
    "        f.write(prompt + \"\\n\")"
   ]
  },
  {
   "cell_type": "code",
   "execution_count": 19,
   "id": "758d4cc7",
   "metadata": {
    "execution": {
     "iopub.execute_input": "2025-05-18T03:33:12.080674Z",
     "iopub.status.busy": "2025-05-18T03:33:12.080467Z",
     "iopub.status.idle": "2025-05-18T03:36:21.439321Z",
     "shell.execute_reply": "2025-05-18T03:36:21.438593Z"
    },
    "papermill": {
     "duration": 189.37285,
     "end_time": "2025-05-18T03:36:21.447599",
     "exception": false,
     "start_time": "2025-05-18T03:33:12.074749",
     "status": "completed"
    },
    "tags": []
   },
   "outputs": [
    {
     "name": "stdout",
     "output_type": "stream",
     "text": [
      "----------------------------------------------\n",
      "Running evaluation with prompt:  highly deeply\n",
      "\u001b[31mnum_shots: 16\n",
      "base_path: ../data\n",
      "dataset: sst-2\n",
      "dataset_seed: 0\n",
      "task_lm: distilroberta-base\n",
      "is_mask_lm: null\n",
      "prompt: ' highly deeply'\n",
      "\u001b[0m\n",
      "Test Size 1821\n",
      "Examples: {'source_texts': ['no movement , no yuks , not much of anything .', \"a gob of drivel so sickly sweet , even the eager consumers of moore 's pasteurized ditties will retch it up like rancid crème brûlée .\", 'gangs of new york is an unapologetic mess , whose only saving grace is that it ends by blowing just about everything up .', 'we never really feel involved with the story , as all of its ideas remain just that : abstract ideas .', \"this is one of polanski 's best films .\"], 'class_labels': [0, 0, 0, 0, 1]}\n",
      "Task LM: distilroberta-base\n",
      "[2025-05-18 03:33:18,095][huggingface_hub.file_download][WARNING] - Xet Storage is enabled for this repo, but the 'hf_xet' package is not installed. Falling back to regular HTTP download. For better performance, install the package with: `pip install huggingface_hub[hf_xet]` or `pip install hf_xet`\n",
      "\u001b[31mprompt:  highly deeply, accuracy: 0.7957166433334351\u001b[0m\n",
      "\u001b[31mnum_shots: 16\n",
      "base_path: ../data\n",
      "dataset: sst-2\n",
      "dataset_seed: 0\n",
      "task_lm: roberta-base\n",
      "is_mask_lm: null\n",
      "prompt: ' highly deeply'\n",
      "\u001b[0m\n",
      "Test Size 1821\n",
      "Examples: {'source_texts': ['no movement , no yuks , not much of anything .', \"a gob of drivel so sickly sweet , even the eager consumers of moore 's pasteurized ditties will retch it up like rancid crème brûlée .\", 'gangs of new york is an unapologetic mess , whose only saving grace is that it ends by blowing just about everything up .', 'we never really feel involved with the story , as all of its ideas remain just that : abstract ideas .', \"this is one of polanski 's best films .\"], 'class_labels': [0, 0, 0, 0, 1]}\n",
      "Task LM: roberta-base\n",
      "[2025-05-18 03:33:29,671][huggingface_hub.file_download][WARNING] - Xet Storage is enabled for this repo, but the 'hf_xet' package is not installed. Falling back to regular HTTP download. For better performance, install the package with: `pip install huggingface_hub[hf_xet]` or `pip install hf_xet`\n",
      "\u001b[31mprompt:  highly deeply, accuracy: 0.8467875123023987\u001b[0m\n",
      "\u001b[31mnum_shots: 16\n",
      "base_path: ../data\n",
      "dataset: sst-2\n",
      "dataset_seed: 0\n",
      "task_lm: roberta-large\n",
      "is_mask_lm: null\n",
      "prompt: ' highly deeply'\n",
      "\u001b[0m\n",
      "Test Size 1821\n",
      "Examples: {'source_texts': ['no movement , no yuks , not much of anything .', \"a gob of drivel so sickly sweet , even the eager consumers of moore 's pasteurized ditties will retch it up like rancid crème brûlée .\", 'gangs of new york is an unapologetic mess , whose only saving grace is that it ends by blowing just about everything up .', 'we never really feel involved with the story , as all of its ideas remain just that : abstract ideas .', \"this is one of polanski 's best films .\"], 'class_labels': [0, 0, 0, 0, 1]}\n",
      "Task LM: roberta-large\n",
      "[2025-05-18 03:33:42,416][huggingface_hub.file_download][WARNING] - Xet Storage is enabled for this repo, but the 'hf_xet' package is not installed. Falling back to regular HTTP download. For better performance, install the package with: `pip install huggingface_hub[hf_xet]` or `pip install hf_xet`\n",
      "\u001b[31mprompt:  highly deeply, accuracy: 0.8440417647361755\u001b[0m\n",
      "----------------------------------------------\n",
      "Running evaluation with prompt:  sound sounds\n",
      "\u001b[31mnum_shots: 16\n",
      "base_path: ../data\n",
      "dataset: sst-2\n",
      "dataset_seed: 0\n",
      "task_lm: distilroberta-base\n",
      "is_mask_lm: null\n",
      "prompt: ' sound sounds'\n",
      "\u001b[0m\n",
      "Test Size 1821\n",
      "Examples: {'source_texts': ['no movement , no yuks , not much of anything .', \"a gob of drivel so sickly sweet , even the eager consumers of moore 's pasteurized ditties will retch it up like rancid crème brûlée .\", 'gangs of new york is an unapologetic mess , whose only saving grace is that it ends by blowing just about everything up .', 'we never really feel involved with the story , as all of its ideas remain just that : abstract ideas .', \"this is one of polanski 's best films .\"], 'class_labels': [0, 0, 0, 0, 1]}\n",
      "Task LM: distilroberta-base\n",
      "\u001b[31mprompt:  sound sounds, accuracy: 0.761669397354126\u001b[0m\n",
      "\u001b[31mnum_shots: 16\n",
      "base_path: ../data\n",
      "dataset: sst-2\n",
      "dataset_seed: 0\n",
      "task_lm: roberta-base\n",
      "is_mask_lm: null\n",
      "prompt: ' sound sounds'\n",
      "\u001b[0m\n",
      "Test Size 1821\n",
      "Examples: {'source_texts': ['no movement , no yuks , not much of anything .', \"a gob of drivel so sickly sweet , even the eager consumers of moore 's pasteurized ditties will retch it up like rancid crème brûlée .\", 'gangs of new york is an unapologetic mess , whose only saving grace is that it ends by blowing just about everything up .', 'we never really feel involved with the story , as all of its ideas remain just that : abstract ideas .', \"this is one of polanski 's best films .\"], 'class_labels': [0, 0, 0, 0, 1]}\n",
      "Task LM: roberta-base\n",
      "\u001b[31mprompt:  sound sounds, accuracy: 0.747940719127655\u001b[0m\n",
      "\u001b[31mnum_shots: 16\n",
      "base_path: ../data\n",
      "dataset: sst-2\n",
      "dataset_seed: 0\n",
      "task_lm: roberta-large\n",
      "is_mask_lm: null\n",
      "prompt: ' sound sounds'\n",
      "\u001b[0m\n",
      "Test Size 1821\n",
      "Examples: {'source_texts': ['no movement , no yuks , not much of anything .', \"a gob of drivel so sickly sweet , even the eager consumers of moore 's pasteurized ditties will retch it up like rancid crème brûlée .\", 'gangs of new york is an unapologetic mess , whose only saving grace is that it ends by blowing just about everything up .', 'we never really feel involved with the story , as all of its ideas remain just that : abstract ideas .', \"this is one of polanski 's best films .\"], 'class_labels': [0, 0, 0, 0, 1]}\n",
      "Task LM: roberta-large\n",
      "\u001b[31mprompt:  sound sounds, accuracy: 0.6381109356880188\u001b[0m\n",
      "----------------------------------------------\n",
      "Running evaluation with prompt: ratesrates\n",
      "\u001b[31mnum_shots: 16\n",
      "base_path: ../data\n",
      "dataset: sst-2\n",
      "dataset_seed: 0\n",
      "task_lm: distilroberta-base\n",
      "is_mask_lm: null\n",
      "prompt: ratesrates\n",
      "\u001b[0m\n",
      "Test Size 1821\n",
      "Examples: {'source_texts': ['no movement , no yuks , not much of anything .', \"a gob of drivel so sickly sweet , even the eager consumers of moore 's pasteurized ditties will retch it up like rancid crème brûlée .\", 'gangs of new york is an unapologetic mess , whose only saving grace is that it ends by blowing just about everything up .', 'we never really feel involved with the story , as all of its ideas remain just that : abstract ideas .', \"this is one of polanski 's best films .\"], 'class_labels': [0, 0, 0, 0, 1]}\n",
      "Task LM: distilroberta-base\n",
      "\u001b[31mprompt: ratesrates, accuracy: 0.747940719127655\u001b[0m\n",
      "\u001b[31mnum_shots: 16\n",
      "base_path: ../data\n",
      "dataset: sst-2\n",
      "dataset_seed: 0\n",
      "task_lm: roberta-base\n",
      "is_mask_lm: null\n",
      "prompt: ratesrates\n",
      "\u001b[0m\n",
      "Test Size 1821\n",
      "Examples: {'source_texts': ['no movement , no yuks , not much of anything .', \"a gob of drivel so sickly sweet , even the eager consumers of moore 's pasteurized ditties will retch it up like rancid crème brûlée .\", 'gangs of new york is an unapologetic mess , whose only saving grace is that it ends by blowing just about everything up .', 'we never really feel involved with the story , as all of its ideas remain just that : abstract ideas .', \"this is one of polanski 's best films .\"], 'class_labels': [0, 0, 0, 0, 1]}\n",
      "Task LM: roberta-base\n",
      "\u001b[31mprompt: ratesrates, accuracy: 0.6447007060050964\u001b[0m\n",
      "\u001b[31mnum_shots: 16\n",
      "base_path: ../data\n",
      "dataset: sst-2\n",
      "dataset_seed: 0\n",
      "task_lm: roberta-large\n",
      "is_mask_lm: null\n",
      "prompt: ratesrates\n",
      "\u001b[0m\n",
      "Test Size 1821\n",
      "Examples: {'source_texts': ['no movement , no yuks , not much of anything .', \"a gob of drivel so sickly sweet , even the eager consumers of moore 's pasteurized ditties will retch it up like rancid crème brûlée .\", 'gangs of new york is an unapologetic mess , whose only saving grace is that it ends by blowing just about everything up .', 'we never really feel involved with the story , as all of its ideas remain just that : abstract ideas .', \"this is one of polanski 's best films .\"], 'class_labels': [0, 0, 0, 0, 1]}\n",
      "Task LM: roberta-large\n",
      "\u001b[31mprompt: ratesrates, accuracy: 0.5436573624610901\u001b[0m\n",
      "----------------------------------------------\n",
      "Running evaluation with prompt:  extremely extremely\n",
      "\u001b[31mnum_shots: 16\n",
      "base_path: ../data\n",
      "dataset: sst-2\n",
      "dataset_seed: 0\n",
      "task_lm: distilroberta-base\n",
      "is_mask_lm: null\n",
      "prompt: ' extremely extremely'\n",
      "\u001b[0m\n",
      "Test Size 1821\n",
      "Examples: {'source_texts': ['no movement , no yuks , not much of anything .', \"a gob of drivel so sickly sweet , even the eager consumers of moore 's pasteurized ditties will retch it up like rancid crème brûlée .\", 'gangs of new york is an unapologetic mess , whose only saving grace is that it ends by blowing just about everything up .', 'we never really feel involved with the story , as all of its ideas remain just that : abstract ideas .', \"this is one of polanski 's best films .\"], 'class_labels': [0, 0, 0, 0, 1]}\n",
      "Task LM: distilroberta-base\n",
      "\u001b[31mprompt:  extremely extremely, accuracy: 0.8220757842063904\u001b[0m\n",
      "\u001b[31mnum_shots: 16\n",
      "base_path: ../data\n",
      "dataset: sst-2\n",
      "dataset_seed: 0\n",
      "task_lm: roberta-base\n",
      "is_mask_lm: null\n",
      "prompt: ' extremely extremely'\n",
      "\u001b[0m\n",
      "Test Size 1821\n",
      "Examples: {'source_texts': ['no movement , no yuks , not much of anything .', \"a gob of drivel so sickly sweet , even the eager consumers of moore 's pasteurized ditties will retch it up like rancid crème brûlée .\", 'gangs of new york is an unapologetic mess , whose only saving grace is that it ends by blowing just about everything up .', 'we never really feel involved with the story , as all of its ideas remain just that : abstract ideas .', \"this is one of polanski 's best films .\"], 'class_labels': [0, 0, 0, 0, 1]}\n",
      "Task LM: roberta-base\n",
      "\u001b[31mprompt:  extremely extremely, accuracy: 0.8550246953964233\u001b[0m\n",
      "\u001b[31mnum_shots: 16\n",
      "base_path: ../data\n",
      "dataset: sst-2\n",
      "dataset_seed: 0\n",
      "task_lm: roberta-large\n",
      "is_mask_lm: null\n",
      "prompt: ' extremely extremely'\n",
      "\u001b[0m\n",
      "Test Size 1821\n",
      "Examples: {'source_texts': ['no movement , no yuks , not much of anything .', \"a gob of drivel so sickly sweet , even the eager consumers of moore 's pasteurized ditties will retch it up like rancid crème brûlée .\", 'gangs of new york is an unapologetic mess , whose only saving grace is that it ends by blowing just about everything up .', 'we never really feel involved with the story , as all of its ideas remain just that : abstract ideas .', \"this is one of polanski 's best films .\"], 'class_labels': [0, 0, 0, 0, 1]}\n",
      "Task LM: roberta-large\n",
      "\u001b[31mprompt:  extremely extremely, accuracy: 0.8951125741004944\u001b[0m\n",
      "----------------------------------------------\n",
      "Running evaluation with prompt:  extremely incredibly\n",
      "\u001b[31mnum_shots: 16\n",
      "base_path: ../data\n",
      "dataset: sst-2\n",
      "dataset_seed: 0\n",
      "task_lm: distilroberta-base\n",
      "is_mask_lm: null\n",
      "prompt: ' extremely incredibly'\n",
      "\u001b[0m\n",
      "Test Size 1821\n",
      "Examples: {'source_texts': ['no movement , no yuks , not much of anything .', \"a gob of drivel so sickly sweet , even the eager consumers of moore 's pasteurized ditties will retch it up like rancid crème brûlée .\", 'gangs of new york is an unapologetic mess , whose only saving grace is that it ends by blowing just about everything up .', 'we never really feel involved with the story , as all of its ideas remain just that : abstract ideas .', \"this is one of polanski 's best films .\"], 'class_labels': [0, 0, 0, 0, 1]}\n",
      "Task LM: distilroberta-base\n",
      "\u001b[31mprompt:  extremely incredibly, accuracy: 0.8006590008735657\u001b[0m\n",
      "\u001b[31mnum_shots: 16\n",
      "base_path: ../data\n",
      "dataset: sst-2\n",
      "dataset_seed: 0\n",
      "task_lm: roberta-base\n",
      "is_mask_lm: null\n",
      "prompt: ' extremely incredibly'\n",
      "\u001b[0m\n",
      "Test Size 1821\n",
      "Examples: {'source_texts': ['no movement , no yuks , not much of anything .', \"a gob of drivel so sickly sweet , even the eager consumers of moore 's pasteurized ditties will retch it up like rancid crème brûlée .\", 'gangs of new york is an unapologetic mess , whose only saving grace is that it ends by blowing just about everything up .', 'we never really feel involved with the story , as all of its ideas remain just that : abstract ideas .', \"this is one of polanski 's best films .\"], 'class_labels': [0, 0, 0, 0, 1]}\n",
      "Task LM: roberta-base\n",
      "\u001b[31mprompt:  extremely incredibly, accuracy: 0.84788578748703\u001b[0m\n",
      "\u001b[31mnum_shots: 16\n",
      "base_path: ../data\n",
      "dataset: sst-2\n",
      "dataset_seed: 0\n",
      "task_lm: roberta-large\n",
      "is_mask_lm: null\n",
      "prompt: ' extremely incredibly'\n",
      "\u001b[0m\n",
      "Test Size 1821\n",
      "Examples: {'source_texts': ['no movement , no yuks , not much of anything .', \"a gob of drivel so sickly sweet , even the eager consumers of moore 's pasteurized ditties will retch it up like rancid crème brûlée .\", 'gangs of new york is an unapologetic mess , whose only saving grace is that it ends by blowing just about everything up .', 'we never really feel involved with the story , as all of its ideas remain just that : abstract ideas .', \"this is one of polanski 's best films .\"], 'class_labels': [0, 0, 0, 0, 1]}\n",
      "Task LM: roberta-large\n",
      "\u001b[31mprompt:  extremely incredibly, accuracy: 0.867106020450592\u001b[0m\n"
     ]
    },
    {
     "name": "stderr",
     "output_type": "stream",
     "text": [
      "Xet Storage is enabled for this repo, but the 'hf_xet' package is not installed. Falling back to regular HTTP download. For better performance, install the package with: `pip install huggingface_hub[hf_xet]` or `pip install hf_xet`\n",
      "Some weights of the model checkpoint at distilroberta-base were not used when initializing RobertaForMaskedLM: ['roberta.pooler.dense.bias', 'roberta.pooler.dense.weight']\n",
      "- This IS expected if you are initializing RobertaForMaskedLM from the checkpoint of a model trained on another task or with another architecture (e.g. initializing a BertForSequenceClassification model from a BertForPreTraining model).\n",
      "- This IS NOT expected if you are initializing RobertaForMaskedLM from the checkpoint of a model that you expect to be exactly identical (initializing a BertForSequenceClassification model from a BertForSequenceClassification model).\n",
      "Xet Storage is enabled for this repo, but the 'hf_xet' package is not installed. Falling back to regular HTTP download. For better performance, install the package with: `pip install huggingface_hub[hf_xet]` or `pip install hf_xet`\n",
      "Xet Storage is enabled for this repo, but the 'hf_xet' package is not installed. Falling back to regular HTTP download. For better performance, install the package with: `pip install huggingface_hub[hf_xet]` or `pip install hf_xet`\n",
      "Some weights of the model checkpoint at distilroberta-base were not used when initializing RobertaForMaskedLM: ['roberta.pooler.dense.bias', 'roberta.pooler.dense.weight']\n",
      "- This IS expected if you are initializing RobertaForMaskedLM from the checkpoint of a model trained on another task or with another architecture (e.g. initializing a BertForSequenceClassification model from a BertForPreTraining model).\n",
      "- This IS NOT expected if you are initializing RobertaForMaskedLM from the checkpoint of a model that you expect to be exactly identical (initializing a BertForSequenceClassification model from a BertForSequenceClassification model).\n",
      "Some weights of the model checkpoint at distilroberta-base were not used when initializing RobertaForMaskedLM: ['roberta.pooler.dense.bias', 'roberta.pooler.dense.weight']\n",
      "- This IS expected if you are initializing RobertaForMaskedLM from the checkpoint of a model trained on another task or with another architecture (e.g. initializing a BertForSequenceClassification model from a BertForPreTraining model).\n",
      "- This IS NOT expected if you are initializing RobertaForMaskedLM from the checkpoint of a model that you expect to be exactly identical (initializing a BertForSequenceClassification model from a BertForSequenceClassification model).\n",
      "Some weights of the model checkpoint at distilroberta-base were not used when initializing RobertaForMaskedLM: ['roberta.pooler.dense.bias', 'roberta.pooler.dense.weight']\n",
      "- This IS expected if you are initializing RobertaForMaskedLM from the checkpoint of a model trained on another task or with another architecture (e.g. initializing a BertForSequenceClassification model from a BertForPreTraining model).\n",
      "- This IS NOT expected if you are initializing RobertaForMaskedLM from the checkpoint of a model that you expect to be exactly identical (initializing a BertForSequenceClassification model from a BertForSequenceClassification model).\n",
      "Some weights of the model checkpoint at distilroberta-base were not used when initializing RobertaForMaskedLM: ['roberta.pooler.dense.bias', 'roberta.pooler.dense.weight']\n",
      "- This IS expected if you are initializing RobertaForMaskedLM from the checkpoint of a model trained on another task or with another architecture (e.g. initializing a BertForSequenceClassification model from a BertForPreTraining model).\n",
      "- This IS NOT expected if you are initializing RobertaForMaskedLM from the checkpoint of a model that you expect to be exactly identical (initializing a BertForSequenceClassification model from a BertForSequenceClassification model).\n"
     ]
    }
   ],
   "source": [
    "%%bash\n",
    "source /kaggle/conda/miniconda3/bin/activate my_env\n",
    "\n",
    "while IFS= read -r prompt; do\n",
    "    echo \"----------------------------------------------\"\n",
    "    echo \"Running evaluation with prompt: $prompt\"\n",
    "    python run_eval.py dataset=sst-2 task_lm=distilroberta-base \"prompt=\\\"${prompt}\\\"\"\n",
    "    python run_eval.py dataset=sst-2 task_lm=roberta-base \"prompt=\\\"${prompt}\\\"\"\n",
    "    python run_eval.py dataset=sst-2 task_lm=roberta-large \"prompt=\\\"${prompt}\\\"\"\n",
    "done < prompts.txt"
   ]
  }
 ],
 "metadata": {
  "kaggle": {
   "accelerator": "gpu",
   "dataSources": [
    {
     "datasetId": 7119255,
     "sourceId": 11848378,
     "sourceType": "datasetVersion"
    }
   ],
   "dockerImageVersionId": 31011,
   "isGpuEnabled": true,
   "isInternetEnabled": true,
   "language": "python",
   "sourceType": "notebook"
  },
  "kernelspec": {
   "display_name": "Python 3",
   "language": "python",
   "name": "python3"
  },
  "language_info": {
   "codemirror_mode": {
    "name": "ipython",
    "version": 3
   },
   "file_extension": ".py",
   "mimetype": "text/x-python",
   "name": "python",
   "nbconvert_exporter": "python",
   "pygments_lexer": "ipython3",
   "version": "3.11.11"
  },
  "papermill": {
   "default_parameters": {},
   "duration": 388.936538,
   "end_time": "2025-05-18T03:36:22.171985",
   "environment_variables": {},
   "exception": null,
   "input_path": "__notebook__.ipynb",
   "output_path": "__notebook__.ipynb",
   "parameters": {},
   "start_time": "2025-05-18T03:29:53.235447",
   "version": "2.6.0"
  }
 },
 "nbformat": 4,
 "nbformat_minor": 5
}
