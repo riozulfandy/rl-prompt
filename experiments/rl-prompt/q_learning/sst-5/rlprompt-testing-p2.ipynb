{
 "cells": [
  {
   "cell_type": "code",
   "execution_count": 1,
   "id": "c18f4a4d",
   "metadata": {
    "execution": {
     "iopub.execute_input": "2025-05-18T04:03:51.431744Z",
     "iopub.status.busy": "2025-05-18T04:03:51.431527Z",
     "iopub.status.idle": "2025-05-18T04:03:51.437835Z",
     "shell.execute_reply": "2025-05-18T04:03:51.437194Z"
    },
    "papermill": {
     "duration": 0.012212,
     "end_time": "2025-05-18T04:03:51.438973",
     "exception": false,
     "start_time": "2025-05-18T04:03:51.426761",
     "status": "completed"
    },
    "tags": []
   },
   "outputs": [
    {
     "name": "stdout",
     "output_type": "stream",
     "text": [
      "Don't forget to change the dataset argument\n"
     ]
    }
   ],
   "source": [
    "LOG_PATH = '/kaggle/input/rlprompt-results-part-2/all_outputs_sst5.log'\n",
    "print(\"Don't forget to change the dataset argument\")"
   ]
  },
  {
   "cell_type": "code",
   "execution_count": 2,
   "id": "53805c57",
   "metadata": {
    "execution": {
     "iopub.execute_input": "2025-05-18T04:03:51.446476Z",
     "iopub.status.busy": "2025-05-18T04:03:51.446264Z",
     "iopub.status.idle": "2025-05-18T04:03:52.882077Z",
     "shell.execute_reply": "2025-05-18T04:03:52.881324Z"
    },
    "papermill": {
     "duration": 1.441011,
     "end_time": "2025-05-18T04:03:52.883528",
     "exception": false,
     "start_time": "2025-05-18T04:03:51.442517",
     "status": "completed"
    },
    "tags": []
   },
   "outputs": [],
   "source": [
    "import pandas as pd"
   ]
  },
  {
   "cell_type": "markdown",
   "id": "2daa1a70",
   "metadata": {
    "papermill": {
     "duration": 0.003144,
     "end_time": "2025-05-18T04:03:52.890440",
     "exception": false,
     "start_time": "2025-05-18T04:03:52.887296",
     "status": "completed"
    },
    "tags": []
   },
   "source": [
    "## Experiments Data Getter: Validation"
   ]
  },
  {
   "cell_type": "code",
   "execution_count": 3,
   "id": "27a01de5",
   "metadata": {
    "execution": {
     "iopub.execute_input": "2025-05-18T04:03:52.897702Z",
     "iopub.status.busy": "2025-05-18T04:03:52.897413Z",
     "iopub.status.idle": "2025-05-18T04:03:55.379828Z",
     "shell.execute_reply": "2025-05-18T04:03:55.379236Z"
    },
    "papermill": {
     "duration": 2.487617,
     "end_time": "2025-05-18T04:03:55.381256",
     "exception": false,
     "start_time": "2025-05-18T04:03:52.893639",
     "status": "completed"
    },
    "tags": []
   },
   "outputs": [],
   "source": [
    "import re\n",
    "\n",
    "log_file = LOG_PATH\n",
    "\n",
    "step_pattern = re.compile(r'^(\\d+)\\s+\\|')\n",
    "reward_pattern = re.compile(r'([-+]?\\d*\\.\\d+|\\d+)')\n",
    "accuracy_pattern = re.compile(r'Accuracy:\\s*([-+]?\\d*\\.\\d+|\\d+)')\n",
    "\n",
    "steps = []\n",
    "rewards = []\n",
    "accuracy = []\n",
    "prompts = []\n",
    "\n",
    "with open(log_file, 'r') as f:\n",
    "    lines = f.readlines()\n",
    "\n",
    "current_step = None\n",
    "\n",
    "for i, line in enumerate(lines):\n",
    "    step_match = step_pattern.match(line)\n",
    "    if step_match:\n",
    "        current_step = int(step_match.group(1))\n",
    "\n",
    "    if \"Our Prompt:\" in line:\n",
    "        next_line = lines[i + 1].strip()\n",
    "        prev_line = lines[i - 1].strip()\n",
    "\n",
    "        accuracy_match = accuracy_pattern.search(prev_line)\n",
    "        numbers = reward_pattern.findall(next_line)\n",
    "\n",
    "        if accuracy_match and numbers and current_step is not None:\n",
    "            acc_value = float(accuracy_match.group(1))\n",
    "            reward_value = float(numbers[-1])\n",
    "\n",
    "            steps.append(current_step)\n",
    "            rewards.append(reward_value)\n",
    "            accuracy.append(acc_value)\n",
    "            prompts.append(next_line)"
   ]
  },
  {
   "cell_type": "code",
   "execution_count": 4,
   "id": "c43ad445",
   "metadata": {
    "execution": {
     "iopub.execute_input": "2025-05-18T04:03:55.389296Z",
     "iopub.status.busy": "2025-05-18T04:03:55.389065Z",
     "iopub.status.idle": "2025-05-18T04:03:55.441792Z",
     "shell.execute_reply": "2025-05-18T04:03:55.441088Z"
    },
    "papermill": {
     "duration": 0.058147,
     "end_time": "2025-05-18T04:03:55.443017",
     "exception": false,
     "start_time": "2025-05-18T04:03:55.384870",
     "status": "completed"
    },
    "tags": []
   },
   "outputs": [],
   "source": [
    "INTERVAL = 600\n",
    "\n",
    "starts = 0\n",
    "end = starts + INTERVAL\n",
    "\n",
    "seed_best_prompts = []\n",
    "\n",
    "validation_dfs = {}\n",
    "\n",
    "while end <= len(steps):\n",
    "    interval_acc = accuracy[starts:end]\n",
    "    interval_prompts = prompts[starts:end]\n",
    "    interval_steps = steps[starts:end]\n",
    "    interval_rewards = rewards[starts:end]\n",
    "    seed = starts // INTERVAL\n",
    "\n",
    "    max_idx = interval_acc.index(max(interval_acc))\n",
    "    best_prompt = interval_prompts[max_idx]\n",
    "    seed_best_prompts.append((seed, max(interval_acc), best_prompt))\n",
    "\n",
    "    values = {\n",
    "        'step': interval_steps,\n",
    "        'accuracy': interval_acc,\n",
    "        'rewards': interval_rewards,\n",
    "        'prompts': interval_prompts,\n",
    "    }\n",
    "\n",
    "    df = pd.DataFrame(values)\n",
    "    validation_dfs[seed] = df\n",
    "    df.to_csv(f\"validation_results_{seed}.csv\",index=False)\n",
    "\n",
    "    starts = end\n",
    "    end = starts + INTERVAL"
   ]
  },
  {
   "cell_type": "code",
   "execution_count": 5,
   "id": "98e37cc2",
   "metadata": {
    "execution": {
     "iopub.execute_input": "2025-05-18T04:03:55.450656Z",
     "iopub.status.busy": "2025-05-18T04:03:55.450112Z",
     "iopub.status.idle": "2025-05-18T04:03:55.454155Z",
     "shell.execute_reply": "2025-05-18T04:03:55.453500Z"
    },
    "papermill": {
     "duration": 0.008954,
     "end_time": "2025-05-18T04:03:55.455248",
     "exception": false,
     "start_time": "2025-05-18T04:03:55.446294",
     "status": "completed"
    },
    "tags": []
   },
   "outputs": [
    {
     "name": "stdout",
     "output_type": "stream",
     "text": [
      "Seed 0: Max Accuracy = 0.4500\n",
      "Prompt: ['atesates'] -6.452336311340332\n",
      "--------------------------------------------------\n",
      "Seed 1: Max Accuracy = 0.3625\n",
      "Prompt: ['lessnesslessness'] -9.305399894714355\n",
      "--------------------------------------------------\n"
     ]
    }
   ],
   "source": [
    "# Print best prompt (highest accuracy) for each seed\n",
    "for seed, acc, prompt in seed_best_prompts:\n",
    "    print(f\"Seed {seed}: Max Accuracy = {acc:.4f}\")\n",
    "    print(f\"Prompt: {prompt}\")\n",
    "    print(\"-\" * 50)"
   ]
  },
  {
   "cell_type": "code",
   "execution_count": 6,
   "id": "fb46706a",
   "metadata": {
    "execution": {
     "iopub.execute_input": "2025-05-18T04:03:55.462600Z",
     "iopub.status.busy": "2025-05-18T04:03:55.462392Z",
     "iopub.status.idle": "2025-05-18T04:03:55.466806Z",
     "shell.execute_reply": "2025-05-18T04:03:55.466118Z"
    },
    "papermill": {
     "duration": 0.009172,
     "end_time": "2025-05-18T04:03:55.467831",
     "exception": false,
     "start_time": "2025-05-18T04:03:55.458659",
     "status": "completed"
    },
    "tags": []
   },
   "outputs": [
    {
     "name": "stdout",
     "output_type": "stream",
     "text": [
      "['atesates', 'lessnesslessness']\n"
     ]
    }
   ],
   "source": [
    "import ast\n",
    "\n",
    "best_prompt_words = []\n",
    "\n",
    "for _, _, raw_prompt in seed_best_prompts:\n",
    "    try:\n",
    "        bracket_content = raw_prompt.split(']')[0] + ']'\n",
    "        prompt_list = ast.literal_eval(bracket_content)\n",
    "        if isinstance(prompt_list, list) and len(prompt_list) > 0:\n",
    "            best_prompt_words.append(prompt_list[0])\n",
    "    except:\n",
    "        continue\n",
    "\n",
    "print(best_prompt_words)"
   ]
  },
  {
   "cell_type": "markdown",
   "id": "11fe7b11",
   "metadata": {
    "papermill": {
     "duration": 0.003068,
     "end_time": "2025-05-18T04:03:55.474143",
     "exception": false,
     "start_time": "2025-05-18T04:03:55.471075",
     "status": "completed"
    },
    "tags": []
   },
   "source": [
    "## Experiments Data Getter: Training"
   ]
  },
  {
   "cell_type": "code",
   "execution_count": 7,
   "id": "123f8a09",
   "metadata": {
    "execution": {
     "iopub.execute_input": "2025-05-18T04:03:55.481188Z",
     "iopub.status.busy": "2025-05-18T04:03:55.480946Z",
     "iopub.status.idle": "2025-05-18T04:03:57.325895Z",
     "shell.execute_reply": "2025-05-18T04:03:57.325082Z"
    },
    "papermill": {
     "duration": 1.849837,
     "end_time": "2025-05-18T04:03:57.327108",
     "exception": false,
     "start_time": "2025-05-18T04:03:55.477271",
     "status": "completed"
    },
    "tags": []
   },
   "outputs": [
    {
     "name": "stdout",
     "output_type": "stream",
     "text": [
      "Total training time: 3.03 hours (181.67 minutes)\n",
      "\n",
      "Peak GPU memory usage: 1901.66 MB (1.86 GB)\n",
      "\n",
      "Total training time: 4.09 hours (245.15 minutes)\n",
      "\n",
      "Peak GPU memory usage: 2156.29 MB (2.11 GB)\n",
      "\n"
     ]
    }
   ],
   "source": [
    "import numpy as np\n",
    "\n",
    "log_file = LOG_PATH\n",
    "\n",
    "all_rewards = {}\n",
    "all_accuracy = {}\n",
    "\n",
    "header_pattern = re.compile(r'^(\\d+)\\s*\\|')\n",
    "reward_pattern = re.compile(r'Reward:\\s*([-+]?\\d*\\.\\d+|\\d+)')\n",
    "accuracy_pattern = re.compile(r'Accuracy:\\s*([-+]?\\d*\\.\\d+|\\d+)')\n",
    "\n",
    "with open(log_file, 'r') as f:\n",
    "    lines = f.readlines()\n",
    "\n",
    "current_step = None\n",
    "seed = -1\n",
    "\n",
    "for line in lines:\n",
    "    if 'Task LM' in line:\n",
    "        seed += 1\n",
    "        all_rewards[seed] = {}\n",
    "        all_accuracy[seed] = {}\n",
    "        continue\n",
    "    \n",
    "    header_match = header_pattern.match(line)\n",
    "    if header_match:\n",
    "        current_step = int(header_match.group(1))\n",
    "    \n",
    "    if \"Reward:\" in line:\n",
    "        reward_match = reward_pattern.search(line)\n",
    "        if reward_match:\n",
    "            reward_value = float(reward_match.group(1))\n",
    "            if current_step is not None:\n",
    "                all_rewards[seed].setdefault(current_step, []).append(reward_value)\n",
    "\n",
    "    if \"Accuracy:\" in line:\n",
    "        accuracy_match = accuracy_pattern.search(line)\n",
    "        if accuracy_match:\n",
    "            accuracy_value = float(accuracy_match.group(1))\n",
    "            if current_step is not None:\n",
    "                all_accuracy[seed].setdefault(current_step, []).append(accuracy_value)\n",
    "\n",
    "    if 'Total training time' in line:\n",
    "        print(line)\n",
    "\n",
    "    if 'Peak GPU' in line:\n",
    "        print(line)"
   ]
  },
  {
   "cell_type": "code",
   "execution_count": 8,
   "id": "8fadc4ad",
   "metadata": {
    "execution": {
     "iopub.execute_input": "2025-05-18T04:03:57.335065Z",
     "iopub.status.busy": "2025-05-18T04:03:57.334651Z",
     "iopub.status.idle": "2025-05-18T04:03:57.698529Z",
     "shell.execute_reply": "2025-05-18T04:03:57.697652Z"
    },
    "papermill": {
     "duration": 0.369576,
     "end_time": "2025-05-18T04:03:57.700311",
     "exception": false,
     "start_time": "2025-05-18T04:03:57.330735",
     "status": "completed"
    },
    "tags": []
   },
   "outputs": [],
   "source": [
    "training_results_dfs = {}\n",
    "\n",
    "for seed, data in all_rewards.items():\n",
    "    steps = sorted(data.keys())\n",
    "    means = [np.mean(data[step]) for step in steps]\n",
    "    stds  = [np.std(data[step]) for step in steps]\n",
    "\n",
    "    values = {\n",
    "        'step': steps,\n",
    "        'reward_mean': means,\n",
    "        'reward_std': stds\n",
    "    }\n",
    "\n",
    "    df = pd.DataFrame(values)\n",
    "    training_results_dfs[seed] = df"
   ]
  },
  {
   "cell_type": "code",
   "execution_count": 9,
   "id": "513e2c25",
   "metadata": {
    "execution": {
     "iopub.execute_input": "2025-05-18T04:03:57.713217Z",
     "iopub.status.busy": "2025-05-18T04:03:57.712936Z",
     "iopub.status.idle": "2025-05-18T04:03:58.149111Z",
     "shell.execute_reply": "2025-05-18T04:03:58.148307Z"
    },
    "papermill": {
     "duration": 0.444284,
     "end_time": "2025-05-18T04:03:58.150759",
     "exception": false,
     "start_time": "2025-05-18T04:03:57.706475",
     "status": "completed"
    },
    "tags": []
   },
   "outputs": [],
   "source": [
    "for seed, data in all_accuracy.items():\n",
    "    steps = sorted(data.keys())\n",
    "    means = [np.mean(data[step]) for step in steps]\n",
    "    stds  = [np.std(data[step]) for step in steps]\n",
    "\n",
    "    df = training_results_dfs[seed]\n",
    "    df['accuracy_mean'] = means\n",
    "    df['accuracy_stds'] = stds\n",
    "    df.to_csv(f\"training_results_{seed}.csv\",index=False)"
   ]
  },
  {
   "cell_type": "markdown",
   "id": "796173d7",
   "metadata": {
    "papermill": {
     "duration": 0.005798,
     "end_time": "2025-05-18T04:03:58.163277",
     "exception": false,
     "start_time": "2025-05-18T04:03:58.157479",
     "status": "completed"
    },
    "tags": []
   },
   "source": [
    "## Environment Prep"
   ]
  },
  {
   "cell_type": "code",
   "execution_count": 10,
   "id": "2c91575f",
   "metadata": {
    "execution": {
     "iopub.execute_input": "2025-05-18T04:03:58.173310Z",
     "iopub.status.busy": "2025-05-18T04:03:58.173077Z",
     "iopub.status.idle": "2025-05-18T04:03:58.177708Z",
     "shell.execute_reply": "2025-05-18T04:03:58.177084Z"
    },
    "papermill": {
     "duration": 0.009905,
     "end_time": "2025-05-18T04:03:58.178843",
     "exception": false,
     "start_time": "2025-05-18T04:03:58.168938",
     "status": "completed"
    },
    "tags": []
   },
   "outputs": [],
   "source": [
    "from IPython.display import clear_output"
   ]
  },
  {
   "cell_type": "code",
   "execution_count": 11,
   "id": "6ccb37ab",
   "metadata": {
    "execution": {
     "iopub.execute_input": "2025-05-18T04:03:58.186332Z",
     "iopub.status.busy": "2025-05-18T04:03:58.186126Z",
     "iopub.status.idle": "2025-05-18T04:04:11.529453Z",
     "shell.execute_reply": "2025-05-18T04:04:11.528759Z"
    },
    "papermill": {
     "duration": 13.348535,
     "end_time": "2025-05-18T04:04:11.530752",
     "exception": false,
     "start_time": "2025-05-18T04:03:58.182217",
     "status": "completed"
    },
    "tags": []
   },
   "outputs": [],
   "source": [
    "root_dir = \"/kaggle/conda\"\n",
    "!mkdir -p $root_dir\n",
    "!wget -q --show-progress https://repo.anaconda.com/miniconda/Miniconda3-latest-Linux-x86_64.sh\n",
    "!bash Miniconda3-latest-Linux-x86_64.sh -b -p $root_dir/miniconda3 -f\n",
    "clear_output()"
   ]
  },
  {
   "cell_type": "code",
   "execution_count": 12,
   "id": "a92c05bd",
   "metadata": {
    "execution": {
     "iopub.execute_input": "2025-05-18T04:04:11.538985Z",
     "iopub.status.busy": "2025-05-18T04:04:11.538542Z",
     "iopub.status.idle": "2025-05-18T04:04:21.683363Z",
     "shell.execute_reply": "2025-05-18T04:04:21.682649Z"
    },
    "papermill": {
     "duration": 10.150231,
     "end_time": "2025-05-18T04:04:21.684650",
     "exception": false,
     "start_time": "2025-05-18T04:04:11.534419",
     "status": "completed"
    },
    "tags": []
   },
   "outputs": [],
   "source": [
    "!$root_dir/miniconda3/bin/conda create --name my_env python=3.10 -y\n",
    "clear_output()"
   ]
  },
  {
   "cell_type": "code",
   "execution_count": 13,
   "id": "2506a889",
   "metadata": {
    "execution": {
     "iopub.execute_input": "2025-05-18T04:04:21.693483Z",
     "iopub.status.busy": "2025-05-18T04:04:21.693253Z",
     "iopub.status.idle": "2025-05-18T04:04:27.831055Z",
     "shell.execute_reply": "2025-05-18T04:04:27.830106Z"
    },
    "papermill": {
     "duration": 6.143555,
     "end_time": "2025-05-18T04:04:27.832505",
     "exception": false,
     "start_time": "2025-05-18T04:04:21.688950",
     "status": "completed"
    },
    "tags": []
   },
   "outputs": [
    {
     "name": "stdout",
     "output_type": "stream",
     "text": [
      "Cloning into 'rl-prompt'...\r\n",
      "remote: Enumerating objects: 1783, done.\u001b[K\r\n",
      "remote: Counting objects: 100% (631/631), done.\u001b[K\r\n",
      "remote: Compressing objects: 100% (359/359), done.\u001b[K\r\n",
      "remote: Total 1783 (delta 377), reused 437 (delta 270), pack-reused 1152 (from 1)\u001b[K\r\n",
      "Receiving objects: 100% (1783/1783), 82.35 MiB | 29.09 MiB/s, done.\r\n",
      "Resolving deltas: 100% (786/786), done.\r\n",
      "Updating files: 100% (268/268), done.\r\n"
     ]
    }
   ],
   "source": [
    "!git clone https://github.com/malifalhakim/rl-prompt.git"
   ]
  },
  {
   "cell_type": "code",
   "execution_count": 14,
   "id": "f491c550",
   "metadata": {
    "execution": {
     "iopub.execute_input": "2025-05-18T04:04:27.844458Z",
     "iopub.status.busy": "2025-05-18T04:04:27.843806Z",
     "iopub.status.idle": "2025-05-18T04:04:27.850263Z",
     "shell.execute_reply": "2025-05-18T04:04:27.849689Z"
    },
    "papermill": {
     "duration": 0.013686,
     "end_time": "2025-05-18T04:04:27.851443",
     "exception": false,
     "start_time": "2025-05-18T04:04:27.837757",
     "status": "completed"
    },
    "tags": []
   },
   "outputs": [
    {
     "name": "stdout",
     "output_type": "stream",
     "text": [
      "/kaggle/working/rl-prompt\n"
     ]
    }
   ],
   "source": [
    "%cd /kaggle/working/rl-prompt"
   ]
  },
  {
   "cell_type": "code",
   "execution_count": 15,
   "id": "d9ba6ca0",
   "metadata": {
    "execution": {
     "iopub.execute_input": "2025-05-18T04:04:27.862256Z",
     "iopub.status.busy": "2025-05-18T04:04:27.861785Z",
     "iopub.status.idle": "2025-05-18T04:06:27.589137Z",
     "shell.execute_reply": "2025-05-18T04:06:27.588206Z"
    },
    "papermill": {
     "duration": 119.73407,
     "end_time": "2025-05-18T04:06:27.590425",
     "exception": false,
     "start_time": "2025-05-18T04:04:27.856355",
     "status": "completed"
    },
    "tags": []
   },
   "outputs": [],
   "source": [
    "# Set the CUDA version variable\n",
    "CUDA_VERSION = 'cu118'\n",
    "\n",
    "# 1. Install PyTorch with matching CUDA version\n",
    "!source $root_dir/miniconda3/bin/activate my_env; pip install torch==2.6.0+{CUDA_VERSION} \\\n",
    "--extra-index-url https://download.pytorch.org/whl/{CUDA_VERSION}\n",
    "\n",
    "clear_output()"
   ]
  },
  {
   "cell_type": "code",
   "execution_count": 16,
   "id": "e7d5c3b6",
   "metadata": {
    "execution": {
     "iopub.execute_input": "2025-05-18T04:06:27.602292Z",
     "iopub.status.busy": "2025-05-18T04:06:27.601428Z",
     "iopub.status.idle": "2025-05-18T04:06:57.489760Z",
     "shell.execute_reply": "2025-05-18T04:06:57.488821Z"
    },
    "papermill": {
     "duration": 29.89558,
     "end_time": "2025-05-18T04:06:57.491307",
     "exception": false,
     "start_time": "2025-05-18T04:06:27.595727",
     "status": "completed"
    },
    "tags": []
   },
   "outputs": [],
   "source": [
    "!source $root_dir/miniconda3/bin/activate my_env; pip install -e .\n",
    "\n",
    "clear_output()"
   ]
  },
  {
   "cell_type": "markdown",
   "id": "f5f8908e",
   "metadata": {
    "papermill": {
     "duration": 0.004764,
     "end_time": "2025-05-18T04:06:57.501575",
     "exception": false,
     "start_time": "2025-05-18T04:06:57.496811",
     "status": "completed"
    },
    "tags": []
   },
   "source": [
    "## Evaluation"
   ]
  },
  {
   "cell_type": "code",
   "execution_count": 17,
   "id": "fa33cf5d",
   "metadata": {
    "execution": {
     "iopub.execute_input": "2025-05-18T04:06:57.513021Z",
     "iopub.status.busy": "2025-05-18T04:06:57.512278Z",
     "iopub.status.idle": "2025-05-18T04:06:57.517981Z",
     "shell.execute_reply": "2025-05-18T04:06:57.517282Z"
    },
    "papermill": {
     "duration": 0.012541,
     "end_time": "2025-05-18T04:06:57.519063",
     "exception": false,
     "start_time": "2025-05-18T04:06:57.506522",
     "status": "completed"
    },
    "tags": []
   },
   "outputs": [
    {
     "name": "stdout",
     "output_type": "stream",
     "text": [
      "/kaggle/working/rl-prompt/examples/few-shot-classification/evaluation\n"
     ]
    }
   ],
   "source": [
    "%cd examples/few-shot-classification/evaluation"
   ]
  },
  {
   "cell_type": "code",
   "execution_count": 18,
   "id": "45bf1256",
   "metadata": {
    "execution": {
     "iopub.execute_input": "2025-05-18T04:06:57.529350Z",
     "iopub.status.busy": "2025-05-18T04:06:57.529147Z",
     "iopub.status.idle": "2025-05-18T04:06:57.533040Z",
     "shell.execute_reply": "2025-05-18T04:06:57.532365Z"
    },
    "papermill": {
     "duration": 0.01029,
     "end_time": "2025-05-18T04:06:57.534126",
     "exception": false,
     "start_time": "2025-05-18T04:06:57.523836",
     "status": "completed"
    },
    "tags": []
   },
   "outputs": [],
   "source": [
    "with open(\"prompts.txt\", \"w\") as f:\n",
    "    for prompt in best_prompt_words:\n",
    "        f.write(prompt + \"\\n\")"
   ]
  },
  {
   "cell_type": "code",
   "execution_count": 19,
   "id": "170a467c",
   "metadata": {
    "execution": {
     "iopub.execute_input": "2025-05-18T04:06:57.544599Z",
     "iopub.status.busy": "2025-05-18T04:06:57.544180Z",
     "iopub.status.idle": "2025-05-18T04:08:31.043923Z",
     "shell.execute_reply": "2025-05-18T04:08:31.043080Z"
    },
    "papermill": {
     "duration": 93.511803,
     "end_time": "2025-05-18T04:08:31.050720",
     "exception": false,
     "start_time": "2025-05-18T04:06:57.538917",
     "status": "completed"
    },
    "tags": []
   },
   "outputs": [
    {
     "name": "stdout",
     "output_type": "stream",
     "text": [
      "----------------------------------------------\n",
      "Running evaluation with prompt: atesates\n",
      "\u001b[31mnum_shots: 16\n",
      "base_path: ../data\n",
      "dataset: sst-5\n",
      "dataset_seed: 0\n",
      "task_lm: distilroberta-base\n",
      "is_mask_lm: null\n",
      "prompt: atesates\n",
      "\u001b[0m\n",
      "Test Size 2210\n",
      "Examples: {'source_texts': ['no movement , no yuks , not much of anything .', \"a gob of drivel so sickly sweet , even the eager consumers of moore 's pasteurized ditties will retch it up like rancid crème brûlée .\", \"` how many more voyages can this limping but dearly-loved franchise survive ? '\", 'so relentlessly wholesome it made me want to swipe something .', 'gangs of new york is an unapologetic mess , whose only saving grace is that it ends by blowing just about everything up .'], 'class_labels': [1, 0, 2, 2, 0]}\n",
      "Task LM: distilroberta-base\n",
      "[2025-05-18 04:07:04,228][huggingface_hub.file_download][WARNING] - Xet Storage is enabled for this repo, but the 'hf_xet' package is not installed. Falling back to regular HTTP download. For better performance, install the package with: `pip install huggingface_hub[hf_xet]` or `pip install hf_xet`\n",
      "\u001b[31mprompt: atesates, accuracy: 0.3176470696926117\u001b[0m\n",
      "\u001b[31mnum_shots: 16\n",
      "base_path: ../data\n",
      "dataset: sst-5\n",
      "dataset_seed: 0\n",
      "task_lm: roberta-base\n",
      "is_mask_lm: null\n",
      "prompt: atesates\n",
      "\u001b[0m\n",
      "Test Size 2210\n",
      "Examples: {'source_texts': ['no movement , no yuks , not much of anything .', \"a gob of drivel so sickly sweet , even the eager consumers of moore 's pasteurized ditties will retch it up like rancid crème brûlée .\", \"` how many more voyages can this limping but dearly-loved franchise survive ? '\", 'so relentlessly wholesome it made me want to swipe something .', 'gangs of new york is an unapologetic mess , whose only saving grace is that it ends by blowing just about everything up .'], 'class_labels': [1, 0, 2, 2, 0]}\n",
      "Task LM: roberta-base\n",
      "[2025-05-18 04:07:16,436][huggingface_hub.file_download][WARNING] - Xet Storage is enabled for this repo, but the 'hf_xet' package is not installed. Falling back to regular HTTP download. For better performance, install the package with: `pip install huggingface_hub[hf_xet]` or `pip install hf_xet`\n",
      "\u001b[31mprompt: atesates, accuracy: 0.37782806158065796\u001b[0m\n",
      "\u001b[31mnum_shots: 16\n",
      "base_path: ../data\n",
      "dataset: sst-5\n",
      "dataset_seed: 0\n",
      "task_lm: roberta-large\n",
      "is_mask_lm: null\n",
      "prompt: atesates\n",
      "\u001b[0m\n",
      "Test Size 2210\n",
      "Examples: {'source_texts': ['no movement , no yuks , not much of anything .', \"a gob of drivel so sickly sweet , even the eager consumers of moore 's pasteurized ditties will retch it up like rancid crème brûlée .\", \"` how many more voyages can this limping but dearly-loved franchise survive ? '\", 'so relentlessly wholesome it made me want to swipe something .', 'gangs of new york is an unapologetic mess , whose only saving grace is that it ends by blowing just about everything up .'], 'class_labels': [1, 0, 2, 2, 0]}\n",
      "Task LM: roberta-large\n",
      "[2025-05-18 04:07:31,768][huggingface_hub.file_download][WARNING] - Xet Storage is enabled for this repo, but the 'hf_xet' package is not installed. Falling back to regular HTTP download. For better performance, install the package with: `pip install huggingface_hub[hf_xet]` or `pip install hf_xet`\n",
      "\u001b[31mprompt: atesates, accuracy: 0.25701358914375305\u001b[0m\n",
      "----------------------------------------------\n",
      "Running evaluation with prompt: lessnesslessness\n",
      "\u001b[31mnum_shots: 16\n",
      "base_path: ../data\n",
      "dataset: sst-5\n",
      "dataset_seed: 0\n",
      "task_lm: distilroberta-base\n",
      "is_mask_lm: null\n",
      "prompt: lessnesslessness\n",
      "\u001b[0m\n",
      "Test Size 2210\n",
      "Examples: {'source_texts': ['no movement , no yuks , not much of anything .', \"a gob of drivel so sickly sweet , even the eager consumers of moore 's pasteurized ditties will retch it up like rancid crème brûlée .\", \"` how many more voyages can this limping but dearly-loved franchise survive ? '\", 'so relentlessly wholesome it made me want to swipe something .', 'gangs of new york is an unapologetic mess , whose only saving grace is that it ends by blowing just about everything up .'], 'class_labels': [1, 0, 2, 2, 0]}\n",
      "Task LM: distilroberta-base\n",
      "\u001b[31mprompt: lessnesslessness, accuracy: 0.37375566363334656\u001b[0m\n",
      "\u001b[31mnum_shots: 16\n",
      "base_path: ../data\n",
      "dataset: sst-5\n",
      "dataset_seed: 0\n",
      "task_lm: roberta-base\n",
      "is_mask_lm: null\n",
      "prompt: lessnesslessness\n",
      "\u001b[0m\n",
      "Test Size 2210\n",
      "Examples: {'source_texts': ['no movement , no yuks , not much of anything .', \"a gob of drivel so sickly sweet , even the eager consumers of moore 's pasteurized ditties will retch it up like rancid crème brûlée .\", \"` how many more voyages can this limping but dearly-loved franchise survive ? '\", 'so relentlessly wholesome it made me want to swipe something .', 'gangs of new york is an unapologetic mess , whose only saving grace is that it ends by blowing just about everything up .'], 'class_labels': [1, 0, 2, 2, 0]}\n",
      "Task LM: roberta-base\n",
      "\u001b[31mprompt: lessnesslessness, accuracy: 0.3176470696926117\u001b[0m\n",
      "\u001b[31mnum_shots: 16\n",
      "base_path: ../data\n",
      "dataset: sst-5\n",
      "dataset_seed: 0\n",
      "task_lm: roberta-large\n",
      "is_mask_lm: null\n",
      "prompt: lessnesslessness\n",
      "\u001b[0m\n",
      "Test Size 2210\n",
      "Examples: {'source_texts': ['no movement , no yuks , not much of anything .', \"a gob of drivel so sickly sweet , even the eager consumers of moore 's pasteurized ditties will retch it up like rancid crème brûlée .\", \"` how many more voyages can this limping but dearly-loved franchise survive ? '\", 'so relentlessly wholesome it made me want to swipe something .', 'gangs of new york is an unapologetic mess , whose only saving grace is that it ends by blowing just about everything up .'], 'class_labels': [1, 0, 2, 2, 0]}\n",
      "Task LM: roberta-large\n",
      "\u001b[31mprompt: lessnesslessness, accuracy: 0.2891402840614319\u001b[0m\n"
     ]
    },
    {
     "name": "stderr",
     "output_type": "stream",
     "text": [
      "Xet Storage is enabled for this repo, but the 'hf_xet' package is not installed. Falling back to regular HTTP download. For better performance, install the package with: `pip install huggingface_hub[hf_xet]` or `pip install hf_xet`\n",
      "Some weights of the model checkpoint at distilroberta-base were not used when initializing RobertaForMaskedLM: ['roberta.pooler.dense.bias', 'roberta.pooler.dense.weight']\n",
      "- This IS expected if you are initializing RobertaForMaskedLM from the checkpoint of a model trained on another task or with another architecture (e.g. initializing a BertForSequenceClassification model from a BertForPreTraining model).\n",
      "- This IS NOT expected if you are initializing RobertaForMaskedLM from the checkpoint of a model that you expect to be exactly identical (initializing a BertForSequenceClassification model from a BertForSequenceClassification model).\n",
      "Xet Storage is enabled for this repo, but the 'hf_xet' package is not installed. Falling back to regular HTTP download. For better performance, install the package with: `pip install huggingface_hub[hf_xet]` or `pip install hf_xet`\n",
      "Xet Storage is enabled for this repo, but the 'hf_xet' package is not installed. Falling back to regular HTTP download. For better performance, install the package with: `pip install huggingface_hub[hf_xet]` or `pip install hf_xet`\n",
      "Some weights of the model checkpoint at distilroberta-base were not used when initializing RobertaForMaskedLM: ['roberta.pooler.dense.bias', 'roberta.pooler.dense.weight']\n",
      "- This IS expected if you are initializing RobertaForMaskedLM from the checkpoint of a model trained on another task or with another architecture (e.g. initializing a BertForSequenceClassification model from a BertForPreTraining model).\n",
      "- This IS NOT expected if you are initializing RobertaForMaskedLM from the checkpoint of a model that you expect to be exactly identical (initializing a BertForSequenceClassification model from a BertForSequenceClassification model).\n"
     ]
    }
   ],
   "source": [
    "%%bash\n",
    "source /kaggle/conda/miniconda3/bin/activate my_env\n",
    "\n",
    "while IFS= read -r prompt; do\n",
    "    echo \"----------------------------------------------\"\n",
    "    echo \"Running evaluation with prompt: $prompt\"\n",
    "    python run_eval.py dataset=sst-5 task_lm=distilroberta-base \"prompt=\\\"${prompt}\\\"\"\n",
    "    python run_eval.py dataset=sst-5 task_lm=roberta-base \"prompt=\\\"${prompt}\\\"\"\n",
    "    python run_eval.py dataset=sst-5 task_lm=roberta-large \"prompt=\\\"${prompt}\\\"\"\n",
    "done < prompts.txt"
   ]
  }
 ],
 "metadata": {
  "kaggle": {
   "accelerator": "gpu",
   "dataSources": [
    {
     "datasetId": 7119255,
     "sourceId": 11853688,
     "sourceType": "datasetVersion"
    },
    {
     "datasetId": 7448425,
     "sourceId": 11853781,
     "sourceType": "datasetVersion"
    }
   ],
   "dockerImageVersionId": 31011,
   "isGpuEnabled": true,
   "isInternetEnabled": true,
   "language": "python",
   "sourceType": "notebook"
  },
  "kernelspec": {
   "display_name": "Python 3",
   "language": "python",
   "name": "python3"
  },
  "language_info": {
   "codemirror_mode": {
    "name": "ipython",
    "version": 3
   },
   "file_extension": ".py",
   "mimetype": "text/x-python",
   "name": "python",
   "nbconvert_exporter": "python",
   "pygments_lexer": "ipython3",
   "version": "3.11.11"
  },
  "papermill": {
   "default_parameters": {},
   "duration": 284.332654,
   "end_time": "2025-05-18T04:08:31.674678",
   "environment_variables": {},
   "exception": null,
   "input_path": "__notebook__.ipynb",
   "output_path": "__notebook__.ipynb",
   "parameters": {},
   "start_time": "2025-05-18T04:03:47.342024",
   "version": "2.6.0"
  }
 },
 "nbformat": 4,
 "nbformat_minor": 5
}
