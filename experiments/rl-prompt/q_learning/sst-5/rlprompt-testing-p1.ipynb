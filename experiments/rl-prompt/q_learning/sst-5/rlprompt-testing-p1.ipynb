{
 "cells": [
  {
   "cell_type": "code",
   "execution_count": 1,
   "id": "7e7c2c9c",
   "metadata": {
    "execution": {
     "iopub.execute_input": "2025-05-18T03:46:09.434902Z",
     "iopub.status.busy": "2025-05-18T03:46:09.434669Z",
     "iopub.status.idle": "2025-05-18T03:46:09.440973Z",
     "shell.execute_reply": "2025-05-18T03:46:09.440378Z"
    },
    "papermill": {
     "duration": 0.012097,
     "end_time": "2025-05-18T03:46:09.442020",
     "exception": false,
     "start_time": "2025-05-18T03:46:09.429923",
     "status": "completed"
    },
    "tags": []
   },
   "outputs": [
    {
     "name": "stdout",
     "output_type": "stream",
     "text": [
      "Don't forget to change the dataset argument\n"
     ]
    }
   ],
   "source": [
    "LOG_PATH = '/kaggle/input/rlprompt-sst2-distillroberta-base/all_outputs_sst5.log'\n",
    "print(\"Don't forget to change the dataset argument\")"
   ]
  },
  {
   "cell_type": "code",
   "execution_count": 2,
   "id": "91818904",
   "metadata": {
    "execution": {
     "iopub.execute_input": "2025-05-18T03:46:09.450150Z",
     "iopub.status.busy": "2025-05-18T03:46:09.449742Z",
     "iopub.status.idle": "2025-05-18T03:46:10.874436Z",
     "shell.execute_reply": "2025-05-18T03:46:10.873452Z"
    },
    "papermill": {
     "duration": 1.43106,
     "end_time": "2025-05-18T03:46:10.876580",
     "exception": false,
     "start_time": "2025-05-18T03:46:09.445520",
     "status": "completed"
    },
    "tags": []
   },
   "outputs": [],
   "source": [
    "import pandas as pd"
   ]
  },
  {
   "cell_type": "markdown",
   "id": "9b57dfa9",
   "metadata": {
    "papermill": {
     "duration": 0.006563,
     "end_time": "2025-05-18T03:46:10.890598",
     "exception": false,
     "start_time": "2025-05-18T03:46:10.884035",
     "status": "completed"
    },
    "tags": []
   },
   "source": [
    "## Experiments Data Getter: Validation"
   ]
  },
  {
   "cell_type": "code",
   "execution_count": 3,
   "id": "a438e55e",
   "metadata": {
    "execution": {
     "iopub.execute_input": "2025-05-18T03:46:10.898939Z",
     "iopub.status.busy": "2025-05-18T03:46:10.898528Z",
     "iopub.status.idle": "2025-05-18T03:46:15.735149Z",
     "shell.execute_reply": "2025-05-18T03:46:15.734594Z"
    },
    "papermill": {
     "duration": 4.8421,
     "end_time": "2025-05-18T03:46:15.736533",
     "exception": false,
     "start_time": "2025-05-18T03:46:10.894433",
     "status": "completed"
    },
    "tags": []
   },
   "outputs": [],
   "source": [
    "import re\n",
    "\n",
    "log_file = LOG_PATH\n",
    "\n",
    "step_pattern = re.compile(r'^(\\d+)\\s+\\|')\n",
    "reward_pattern = re.compile(r'([-+]?\\d*\\.\\d+|\\d+)')\n",
    "accuracy_pattern = re.compile(r'Accuracy:\\s*([-+]?\\d*\\.\\d+|\\d+)')\n",
    "\n",
    "steps = []\n",
    "rewards = []\n",
    "accuracy = []\n",
    "prompts = []\n",
    "\n",
    "with open(log_file, 'r') as f:\n",
    "    lines = f.readlines()\n",
    "\n",
    "current_step = None\n",
    "\n",
    "for i, line in enumerate(lines):\n",
    "    step_match = step_pattern.match(line)\n",
    "    if step_match:\n",
    "        current_step = int(step_match.group(1))\n",
    "\n",
    "    if \"Our Prompt:\" in line:\n",
    "        next_line = lines[i + 1].strip()\n",
    "        prev_line = lines[i - 1].strip()\n",
    "\n",
    "        accuracy_match = accuracy_pattern.search(prev_line)\n",
    "        numbers = reward_pattern.findall(next_line)\n",
    "\n",
    "        if accuracy_match and numbers and current_step is not None:\n",
    "            acc_value = float(accuracy_match.group(1))\n",
    "            reward_value = float(numbers[-1])\n",
    "\n",
    "            steps.append(current_step)\n",
    "            rewards.append(reward_value)\n",
    "            accuracy.append(acc_value)\n",
    "            prompts.append(next_line)"
   ]
  },
  {
   "cell_type": "code",
   "execution_count": 4,
   "id": "4614c950",
   "metadata": {
    "execution": {
     "iopub.execute_input": "2025-05-18T03:46:15.745705Z",
     "iopub.status.busy": "2025-05-18T03:46:15.745482Z",
     "iopub.status.idle": "2025-05-18T03:46:15.829468Z",
     "shell.execute_reply": "2025-05-18T03:46:15.828913Z"
    },
    "papermill": {
     "duration": 0.089645,
     "end_time": "2025-05-18T03:46:15.830661",
     "exception": false,
     "start_time": "2025-05-18T03:46:15.741016",
     "status": "completed"
    },
    "tags": []
   },
   "outputs": [],
   "source": [
    "INTERVAL = 600\n",
    "\n",
    "starts = 0\n",
    "end = starts + INTERVAL\n",
    "\n",
    "seed_best_prompts = []\n",
    "\n",
    "validation_dfs = {}\n",
    "\n",
    "while end <= len(steps):\n",
    "    interval_acc = accuracy[starts:end]\n",
    "    interval_prompts = prompts[starts:end]\n",
    "    interval_steps = steps[starts:end]\n",
    "    interval_rewards = rewards[starts:end]\n",
    "    seed = starts // INTERVAL\n",
    "\n",
    "    max_idx = interval_acc.index(max(interval_acc))\n",
    "    best_prompt = interval_prompts[max_idx]\n",
    "    seed_best_prompts.append((seed, max(interval_acc), best_prompt))\n",
    "\n",
    "    values = {\n",
    "        'step': interval_steps,\n",
    "        'accuracy': interval_acc,\n",
    "        'rewards': interval_rewards,\n",
    "        'prompts': interval_prompts,\n",
    "    }\n",
    "\n",
    "    df = pd.DataFrame(values)\n",
    "    validation_dfs[seed] = df\n",
    "    df.to_csv(f\"validation_results_{seed}.csv\",index=False)\n",
    "\n",
    "    starts = end\n",
    "    end = starts + INTERVAL"
   ]
  },
  {
   "cell_type": "code",
   "execution_count": 5,
   "id": "e5bfa821",
   "metadata": {
    "execution": {
     "iopub.execute_input": "2025-05-18T03:46:15.837993Z",
     "iopub.status.busy": "2025-05-18T03:46:15.837783Z",
     "iopub.status.idle": "2025-05-18T03:46:15.841947Z",
     "shell.execute_reply": "2025-05-18T03:46:15.841247Z"
    },
    "papermill": {
     "duration": 0.008992,
     "end_time": "2025-05-18T03:46:15.843023",
     "exception": false,
     "start_time": "2025-05-18T03:46:15.834031",
     "status": "completed"
    },
    "tags": []
   },
   "outputs": [
    {
     "name": "stdout",
     "output_type": "stream",
     "text": [
      "Seed 0: Max Accuracy = 0.4625\n",
      "Prompt: ['inessiness'] -4.856874942779541\n",
      "--------------------------------------------------\n",
      "Seed 1: Max Accuracy = 0.4250\n",
      "Prompt: [' draws prison'] -5.94238805770874\n",
      "--------------------------------------------------\n",
      "Seed 2: Max Accuracy = 0.3500\n",
      "Prompt: ['isionsisions'] -12.884818077087402\n",
      "--------------------------------------------------\n"
     ]
    }
   ],
   "source": [
    "# Print best prompt (highest accuracy) for each seed\n",
    "for seed, acc, prompt in seed_best_prompts:\n",
    "    print(f\"Seed {seed}: Max Accuracy = {acc:.4f}\")\n",
    "    print(f\"Prompt: {prompt}\")\n",
    "    print(\"-\" * 50)"
   ]
  },
  {
   "cell_type": "code",
   "execution_count": 6,
   "id": "018c67b7",
   "metadata": {
    "execution": {
     "iopub.execute_input": "2025-05-18T03:46:15.850103Z",
     "iopub.status.busy": "2025-05-18T03:46:15.849899Z",
     "iopub.status.idle": "2025-05-18T03:46:15.854353Z",
     "shell.execute_reply": "2025-05-18T03:46:15.853700Z"
    },
    "papermill": {
     "duration": 0.00904,
     "end_time": "2025-05-18T03:46:15.855329",
     "exception": false,
     "start_time": "2025-05-18T03:46:15.846289",
     "status": "completed"
    },
    "tags": []
   },
   "outputs": [
    {
     "name": "stdout",
     "output_type": "stream",
     "text": [
      "['inessiness', ' draws prison', 'isionsisions']\n"
     ]
    }
   ],
   "source": [
    "import ast\n",
    "\n",
    "best_prompt_words = []\n",
    "\n",
    "for _, _, raw_prompt in seed_best_prompts:\n",
    "    try:\n",
    "        bracket_content = raw_prompt.split(']')[0] + ']'\n",
    "        prompt_list = ast.literal_eval(bracket_content)\n",
    "        if isinstance(prompt_list, list) and len(prompt_list) > 0:\n",
    "            best_prompt_words.append(prompt_list[0])\n",
    "    except:\n",
    "        continue\n",
    "\n",
    "print(best_prompt_words)"
   ]
  },
  {
   "cell_type": "markdown",
   "id": "c3d9ad48",
   "metadata": {
    "papermill": {
     "duration": 0.003134,
     "end_time": "2025-05-18T03:46:15.861653",
     "exception": false,
     "start_time": "2025-05-18T03:46:15.858519",
     "status": "completed"
    },
    "tags": []
   },
   "source": [
    "## Experiments Data Getter: Training"
   ]
  },
  {
   "cell_type": "code",
   "execution_count": 7,
   "id": "bf044add",
   "metadata": {
    "execution": {
     "iopub.execute_input": "2025-05-18T03:46:15.868759Z",
     "iopub.status.busy": "2025-05-18T03:46:15.868557Z",
     "iopub.status.idle": "2025-05-18T03:46:19.377599Z",
     "shell.execute_reply": "2025-05-18T03:46:19.377009Z"
    },
    "papermill": {
     "duration": 3.514081,
     "end_time": "2025-05-18T03:46:19.378935",
     "exception": false,
     "start_time": "2025-05-18T03:46:15.864854",
     "status": "completed"
    },
    "tags": []
   },
   "outputs": [
    {
     "name": "stdout",
     "output_type": "stream",
     "text": [
      "Total training time: 3.58 hours (215.04 minutes)\n",
      "\n",
      "Peak GPU memory usage: 2029.07 MB (1.98 GB)\n",
      "\n",
      "Total training time: 3.15 hours (189.25 minutes)\n",
      "\n",
      "Peak GPU memory usage: 2048.92 MB (2.00 GB)\n",
      "\n",
      "Total training time: 3.47 hours (208.13 minutes)\n",
      "\n",
      "Peak GPU memory usage: 1965.49 MB (1.92 GB)\n",
      "\n"
     ]
    }
   ],
   "source": [
    "import numpy as np\n",
    "\n",
    "log_file = LOG_PATH\n",
    "\n",
    "all_rewards = {}\n",
    "all_accuracy = {}\n",
    "\n",
    "header_pattern = re.compile(r'^(\\d+)\\s*\\|')\n",
    "reward_pattern = re.compile(r'Reward:\\s*([-+]?\\d*\\.\\d+|\\d+)')\n",
    "accuracy_pattern = re.compile(r'Accuracy:\\s*([-+]?\\d*\\.\\d+|\\d+)')\n",
    "\n",
    "with open(log_file, 'r') as f:\n",
    "    lines = f.readlines()\n",
    "\n",
    "current_step = None\n",
    "seed = -1\n",
    "\n",
    "for line in lines:\n",
    "    if 'Task LM' in line:\n",
    "        seed += 1\n",
    "        all_rewards[seed] = {}\n",
    "        all_accuracy[seed] = {}\n",
    "        continue\n",
    "    \n",
    "    header_match = header_pattern.match(line)\n",
    "    if header_match:\n",
    "        current_step = int(header_match.group(1))\n",
    "    \n",
    "    if \"Reward:\" in line:\n",
    "        reward_match = reward_pattern.search(line)\n",
    "        if reward_match:\n",
    "            reward_value = float(reward_match.group(1))\n",
    "            if current_step is not None:\n",
    "                all_rewards[seed].setdefault(current_step, []).append(reward_value)\n",
    "\n",
    "    if \"Accuracy:\" in line:\n",
    "        accuracy_match = accuracy_pattern.search(line)\n",
    "        if accuracy_match:\n",
    "            accuracy_value = float(accuracy_match.group(1))\n",
    "            if current_step is not None:\n",
    "                all_accuracy[seed].setdefault(current_step, []).append(accuracy_value)\n",
    "\n",
    "    if 'Total training time' in line:\n",
    "        print(line)\n",
    "\n",
    "    if 'Peak GPU' in line:\n",
    "        print(line)"
   ]
  },
  {
   "cell_type": "code",
   "execution_count": 8,
   "id": "f752cadc",
   "metadata": {
    "execution": {
     "iopub.execute_input": "2025-05-18T03:46:19.386933Z",
     "iopub.status.busy": "2025-05-18T03:46:19.386718Z",
     "iopub.status.idle": "2025-05-18T03:46:19.974771Z",
     "shell.execute_reply": "2025-05-18T03:46:19.974231Z"
    },
    "papermill": {
     "duration": 0.593386,
     "end_time": "2025-05-18T03:46:19.976104",
     "exception": false,
     "start_time": "2025-05-18T03:46:19.382718",
     "status": "completed"
    },
    "tags": []
   },
   "outputs": [],
   "source": [
    "training_results_dfs = {}\n",
    "\n",
    "for seed, data in all_rewards.items():\n",
    "    steps = sorted(data.keys())\n",
    "    means = [np.mean(data[step]) for step in steps]\n",
    "    stds  = [np.std(data[step]) for step in steps]\n",
    "\n",
    "    values = {\n",
    "        'step': steps,\n",
    "        'reward_mean': means,\n",
    "        'reward_std': stds\n",
    "    }\n",
    "\n",
    "    df = pd.DataFrame(values)\n",
    "    training_results_dfs[seed] = df"
   ]
  },
  {
   "cell_type": "code",
   "execution_count": 9,
   "id": "3b937a5a",
   "metadata": {
    "execution": {
     "iopub.execute_input": "2025-05-18T03:46:19.984024Z",
     "iopub.status.busy": "2025-05-18T03:46:19.983819Z",
     "iopub.status.idle": "2025-05-18T03:46:20.685441Z",
     "shell.execute_reply": "2025-05-18T03:46:20.684869Z"
    },
    "papermill": {
     "duration": 0.706928,
     "end_time": "2025-05-18T03:46:20.686746",
     "exception": false,
     "start_time": "2025-05-18T03:46:19.979818",
     "status": "completed"
    },
    "tags": []
   },
   "outputs": [],
   "source": [
    "for seed, data in all_accuracy.items():\n",
    "    steps = sorted(data.keys())\n",
    "    means = [np.mean(data[step]) for step in steps]\n",
    "    stds  = [np.std(data[step]) for step in steps]\n",
    "\n",
    "    df = training_results_dfs[seed]\n",
    "    df['accuracy_mean'] = means\n",
    "    df['accuracy_stds'] = stds\n",
    "    df.to_csv(f\"training_results_{seed}.csv\",index=False)"
   ]
  },
  {
   "cell_type": "markdown",
   "id": "4c104777",
   "metadata": {
    "papermill": {
     "duration": 0.003232,
     "end_time": "2025-05-18T03:46:20.693745",
     "exception": false,
     "start_time": "2025-05-18T03:46:20.690513",
     "status": "completed"
    },
    "tags": []
   },
   "source": [
    "## Environment Prep"
   ]
  },
  {
   "cell_type": "code",
   "execution_count": 10,
   "id": "b712d4b9",
   "metadata": {
    "execution": {
     "iopub.execute_input": "2025-05-18T03:46:20.701586Z",
     "iopub.status.busy": "2025-05-18T03:46:20.700895Z",
     "iopub.status.idle": "2025-05-18T03:46:20.704236Z",
     "shell.execute_reply": "2025-05-18T03:46:20.703736Z"
    },
    "papermill": {
     "duration": 0.008218,
     "end_time": "2025-05-18T03:46:20.705268",
     "exception": false,
     "start_time": "2025-05-18T03:46:20.697050",
     "status": "completed"
    },
    "tags": []
   },
   "outputs": [],
   "source": [
    "from IPython.display import clear_output"
   ]
  },
  {
   "cell_type": "code",
   "execution_count": 11,
   "id": "49853ab1",
   "metadata": {
    "execution": {
     "iopub.execute_input": "2025-05-18T03:46:20.713504Z",
     "iopub.status.busy": "2025-05-18T03:46:20.712649Z",
     "iopub.status.idle": "2025-05-18T03:46:34.011627Z",
     "shell.execute_reply": "2025-05-18T03:46:34.010952Z"
    },
    "papermill": {
     "duration": 13.304381,
     "end_time": "2025-05-18T03:46:34.012865",
     "exception": false,
     "start_time": "2025-05-18T03:46:20.708484",
     "status": "completed"
    },
    "tags": []
   },
   "outputs": [],
   "source": [
    "root_dir = \"/kaggle/conda\"\n",
    "!mkdir -p $root_dir\n",
    "!wget -q --show-progress https://repo.anaconda.com/miniconda/Miniconda3-latest-Linux-x86_64.sh\n",
    "!bash Miniconda3-latest-Linux-x86_64.sh -b -p $root_dir/miniconda3 -f\n",
    "clear_output()"
   ]
  },
  {
   "cell_type": "code",
   "execution_count": 12,
   "id": "120d6bd4",
   "metadata": {
    "execution": {
     "iopub.execute_input": "2025-05-18T03:46:34.020847Z",
     "iopub.status.busy": "2025-05-18T03:46:34.020634Z",
     "iopub.status.idle": "2025-05-18T03:46:43.616955Z",
     "shell.execute_reply": "2025-05-18T03:46:43.616010Z"
    },
    "papermill": {
     "duration": 9.601765,
     "end_time": "2025-05-18T03:46:43.618297",
     "exception": false,
     "start_time": "2025-05-18T03:46:34.016532",
     "status": "completed"
    },
    "tags": []
   },
   "outputs": [],
   "source": [
    "!$root_dir/miniconda3/bin/conda create --name my_env python=3.10 -y\n",
    "clear_output()"
   ]
  },
  {
   "cell_type": "code",
   "execution_count": 13,
   "id": "880a809c",
   "metadata": {
    "execution": {
     "iopub.execute_input": "2025-05-18T03:46:43.626972Z",
     "iopub.status.busy": "2025-05-18T03:46:43.626732Z",
     "iopub.status.idle": "2025-05-18T03:46:49.664390Z",
     "shell.execute_reply": "2025-05-18T03:46:49.663670Z"
    },
    "papermill": {
     "duration": 6.043042,
     "end_time": "2025-05-18T03:46:49.665536",
     "exception": false,
     "start_time": "2025-05-18T03:46:43.622494",
     "status": "completed"
    },
    "tags": []
   },
   "outputs": [
    {
     "name": "stdout",
     "output_type": "stream",
     "text": [
      "Cloning into 'rl-prompt'...\r\n",
      "remote: Enumerating objects: 1783, done.\u001b[K\r\n",
      "remote: Counting objects: 100% (631/631), done.\u001b[K\r\n",
      "remote: Compressing objects: 100% (359/359), done.\u001b[K\r\n",
      "remote: Total 1783 (delta 377), reused 437 (delta 270), pack-reused 1152 (from 1)\u001b[K\r\n",
      "Receiving objects: 100% (1783/1783), 82.35 MiB | 29.96 MiB/s, done.\r\n",
      "Resolving deltas: 100% (786/786), done.\r\n",
      "Updating files: 100% (268/268), done.\r\n"
     ]
    }
   ],
   "source": [
    "!git clone https://github.com/malifalhakim/rl-prompt.git"
   ]
  },
  {
   "cell_type": "code",
   "execution_count": 14,
   "id": "24647293",
   "metadata": {
    "execution": {
     "iopub.execute_input": "2025-05-18T03:46:49.676816Z",
     "iopub.status.busy": "2025-05-18T03:46:49.676580Z",
     "iopub.status.idle": "2025-05-18T03:46:49.683470Z",
     "shell.execute_reply": "2025-05-18T03:46:49.682882Z"
    },
    "papermill": {
     "duration": 0.01389,
     "end_time": "2025-05-18T03:46:49.684569",
     "exception": false,
     "start_time": "2025-05-18T03:46:49.670679",
     "status": "completed"
    },
    "tags": []
   },
   "outputs": [
    {
     "name": "stdout",
     "output_type": "stream",
     "text": [
      "/kaggle/working/rl-prompt\n"
     ]
    }
   ],
   "source": [
    "%cd /kaggle/working/rl-prompt"
   ]
  },
  {
   "cell_type": "code",
   "execution_count": 15,
   "id": "6fa84557",
   "metadata": {
    "execution": {
     "iopub.execute_input": "2025-05-18T03:46:49.694850Z",
     "iopub.status.busy": "2025-05-18T03:46:49.694645Z",
     "iopub.status.idle": "2025-05-18T03:48:57.031174Z",
     "shell.execute_reply": "2025-05-18T03:48:57.030320Z"
    },
    "papermill": {
     "duration": 127.343339,
     "end_time": "2025-05-18T03:48:57.032720",
     "exception": false,
     "start_time": "2025-05-18T03:46:49.689381",
     "status": "completed"
    },
    "tags": []
   },
   "outputs": [],
   "source": [
    "# Set the CUDA version variable\n",
    "CUDA_VERSION = 'cu118'\n",
    "\n",
    "# 1. Install PyTorch with matching CUDA version\n",
    "!source $root_dir/miniconda3/bin/activate my_env; pip install torch==2.6.0+{CUDA_VERSION} \\\n",
    "--extra-index-url https://download.pytorch.org/whl/{CUDA_VERSION}\n",
    "\n",
    "clear_output()"
   ]
  },
  {
   "cell_type": "code",
   "execution_count": 16,
   "id": "51422010",
   "metadata": {
    "execution": {
     "iopub.execute_input": "2025-05-18T03:48:57.044084Z",
     "iopub.status.busy": "2025-05-18T03:48:57.043852Z",
     "iopub.status.idle": "2025-05-18T03:49:27.450263Z",
     "shell.execute_reply": "2025-05-18T03:49:27.449362Z"
    },
    "papermill": {
     "duration": 30.416852,
     "end_time": "2025-05-18T03:49:27.454950",
     "exception": false,
     "start_time": "2025-05-18T03:48:57.038098",
     "status": "completed"
    },
    "tags": []
   },
   "outputs": [],
   "source": [
    "!source $root_dir/miniconda3/bin/activate my_env; pip install -e .\n",
    "\n",
    "clear_output()"
   ]
  },
  {
   "cell_type": "markdown",
   "id": "521d18a2",
   "metadata": {
    "papermill": {
     "duration": 0.004577,
     "end_time": "2025-05-18T03:49:27.464438",
     "exception": false,
     "start_time": "2025-05-18T03:49:27.459861",
     "status": "completed"
    },
    "tags": []
   },
   "source": [
    "## Evaluation"
   ]
  },
  {
   "cell_type": "code",
   "execution_count": 17,
   "id": "9c2a6111",
   "metadata": {
    "execution": {
     "iopub.execute_input": "2025-05-18T03:49:27.474969Z",
     "iopub.status.busy": "2025-05-18T03:49:27.474718Z",
     "iopub.status.idle": "2025-05-18T03:49:27.480281Z",
     "shell.execute_reply": "2025-05-18T03:49:27.479633Z"
    },
    "papermill": {
     "duration": 0.011957,
     "end_time": "2025-05-18T03:49:27.481232",
     "exception": false,
     "start_time": "2025-05-18T03:49:27.469275",
     "status": "completed"
    },
    "tags": []
   },
   "outputs": [
    {
     "name": "stdout",
     "output_type": "stream",
     "text": [
      "/kaggle/working/rl-prompt/examples/few-shot-classification/evaluation\n"
     ]
    }
   ],
   "source": [
    "%cd examples/few-shot-classification/evaluation"
   ]
  },
  {
   "cell_type": "code",
   "execution_count": 18,
   "id": "d9afde9d",
   "metadata": {
    "execution": {
     "iopub.execute_input": "2025-05-18T03:49:27.491583Z",
     "iopub.status.busy": "2025-05-18T03:49:27.491403Z",
     "iopub.status.idle": "2025-05-18T03:49:27.494994Z",
     "shell.execute_reply": "2025-05-18T03:49:27.494477Z"
    },
    "papermill": {
     "duration": 0.009939,
     "end_time": "2025-05-18T03:49:27.495990",
     "exception": false,
     "start_time": "2025-05-18T03:49:27.486051",
     "status": "completed"
    },
    "tags": []
   },
   "outputs": [],
   "source": [
    "with open(\"prompts.txt\", \"w\") as f:\n",
    "    for prompt in best_prompt_words:\n",
    "        f.write(prompt + \"\\n\")"
   ]
  },
  {
   "cell_type": "code",
   "execution_count": 19,
   "id": "2645f6df",
   "metadata": {
    "execution": {
     "iopub.execute_input": "2025-05-18T03:49:27.507160Z",
     "iopub.status.busy": "2025-05-18T03:49:27.506596Z",
     "iopub.status.idle": "2025-05-18T03:51:40.135537Z",
     "shell.execute_reply": "2025-05-18T03:51:40.134840Z"
    },
    "papermill": {
     "duration": 132.641554,
     "end_time": "2025-05-18T03:51:40.142627",
     "exception": false,
     "start_time": "2025-05-18T03:49:27.501073",
     "status": "completed"
    },
    "tags": []
   },
   "outputs": [
    {
     "name": "stdout",
     "output_type": "stream",
     "text": [
      "----------------------------------------------\n",
      "Running evaluation with prompt: inessiness\n",
      "\u001b[31mnum_shots: 16\n",
      "base_path: ../data\n",
      "dataset: sst-5\n",
      "dataset_seed: 0\n",
      "task_lm: distilroberta-base\n",
      "is_mask_lm: null\n",
      "prompt: inessiness\n",
      "\u001b[0m\n",
      "Test Size 2210\n",
      "Examples: {'source_texts': ['no movement , no yuks , not much of anything .', \"a gob of drivel so sickly sweet , even the eager consumers of moore 's pasteurized ditties will retch it up like rancid crème brûlée .\", \"` how many more voyages can this limping but dearly-loved franchise survive ? '\", 'so relentlessly wholesome it made me want to swipe something .', 'gangs of new york is an unapologetic mess , whose only saving grace is that it ends by blowing just about everything up .'], 'class_labels': [1, 0, 2, 2, 0]}\n",
      "Task LM: distilroberta-base\n",
      "[2025-05-18 03:49:34,619][huggingface_hub.file_download][WARNING] - Xet Storage is enabled for this repo, but the 'hf_xet' package is not installed. Falling back to regular HTTP download. For better performance, install the package with: `pip install huggingface_hub[hf_xet]` or `pip install hf_xet`\n",
      "\u001b[31mprompt: inessiness, accuracy: 0.33303168416023254\u001b[0m\n",
      "\u001b[31mnum_shots: 16\n",
      "base_path: ../data\n",
      "dataset: sst-5\n",
      "dataset_seed: 0\n",
      "task_lm: roberta-base\n",
      "is_mask_lm: null\n",
      "prompt: inessiness\n",
      "\u001b[0m\n",
      "Test Size 2210\n",
      "Examples: {'source_texts': ['no movement , no yuks , not much of anything .', \"a gob of drivel so sickly sweet , even the eager consumers of moore 's pasteurized ditties will retch it up like rancid crème brûlée .\", \"` how many more voyages can this limping but dearly-loved franchise survive ? '\", 'so relentlessly wholesome it made me want to swipe something .', 'gangs of new york is an unapologetic mess , whose only saving grace is that it ends by blowing just about everything up .'], 'class_labels': [1, 0, 2, 2, 0]}\n",
      "Task LM: roberta-base\n",
      "[2025-05-18 03:49:46,463][huggingface_hub.file_download][WARNING] - Xet Storage is enabled for this repo, but the 'hf_xet' package is not installed. Falling back to regular HTTP download. For better performance, install the package with: `pip install huggingface_hub[hf_xet]` or `pip install hf_xet`\n",
      "\u001b[31mprompt: inessiness, accuracy: 0.4058823585510254\u001b[0m\n",
      "\u001b[31mnum_shots: 16\n",
      "base_path: ../data\n",
      "dataset: sst-5\n",
      "dataset_seed: 0\n",
      "task_lm: roberta-large\n",
      "is_mask_lm: null\n",
      "prompt: inessiness\n",
      "\u001b[0m\n",
      "Test Size 2210\n",
      "Examples: {'source_texts': ['no movement , no yuks , not much of anything .', \"a gob of drivel so sickly sweet , even the eager consumers of moore 's pasteurized ditties will retch it up like rancid crème brûlée .\", \"` how many more voyages can this limping but dearly-loved franchise survive ? '\", 'so relentlessly wholesome it made me want to swipe something .', 'gangs of new york is an unapologetic mess , whose only saving grace is that it ends by blowing just about everything up .'], 'class_labels': [1, 0, 2, 2, 0]}\n",
      "Task LM: roberta-large\n",
      "[2025-05-18 03:50:01,343][huggingface_hub.file_download][WARNING] - Xet Storage is enabled for this repo, but the 'hf_xet' package is not installed. Falling back to regular HTTP download. For better performance, install the package with: `pip install huggingface_hub[hf_xet]` or `pip install hf_xet`\n",
      "\u001b[31mprompt: inessiness, accuracy: 0.4117647111415863\u001b[0m\n",
      "----------------------------------------------\n",
      "Running evaluation with prompt:  draws prison\n",
      "\u001b[31mnum_shots: 16\n",
      "base_path: ../data\n",
      "dataset: sst-5\n",
      "dataset_seed: 0\n",
      "task_lm: distilroberta-base\n",
      "is_mask_lm: null\n",
      "prompt: ' draws prison'\n",
      "\u001b[0m\n",
      "Test Size 2210\n",
      "Examples: {'source_texts': ['no movement , no yuks , not much of anything .', \"a gob of drivel so sickly sweet , even the eager consumers of moore 's pasteurized ditties will retch it up like rancid crème brûlée .\", \"` how many more voyages can this limping but dearly-loved franchise survive ? '\", 'so relentlessly wholesome it made me want to swipe something .', 'gangs of new york is an unapologetic mess , whose only saving grace is that it ends by blowing just about everything up .'], 'class_labels': [1, 0, 2, 2, 0]}\n",
      "Task LM: distilroberta-base\n",
      "\u001b[31mprompt:  draws prison, accuracy: 0.3484162986278534\u001b[0m\n",
      "\u001b[31mnum_shots: 16\n",
      "base_path: ../data\n",
      "dataset: sst-5\n",
      "dataset_seed: 0\n",
      "task_lm: roberta-base\n",
      "is_mask_lm: null\n",
      "prompt: ' draws prison'\n",
      "\u001b[0m\n",
      "Test Size 2210\n",
      "Examples: {'source_texts': ['no movement , no yuks , not much of anything .', \"a gob of drivel so sickly sweet , even the eager consumers of moore 's pasteurized ditties will retch it up like rancid crème brûlée .\", \"` how many more voyages can this limping but dearly-loved franchise survive ? '\", 'so relentlessly wholesome it made me want to swipe something .', 'gangs of new york is an unapologetic mess , whose only saving grace is that it ends by blowing just about everything up .'], 'class_labels': [1, 0, 2, 2, 0]}\n",
      "Task LM: roberta-base\n",
      "\u001b[31mprompt:  draws prison, accuracy: 0.35520362854003906\u001b[0m\n",
      "\u001b[31mnum_shots: 16\n",
      "base_path: ../data\n",
      "dataset: sst-5\n",
      "dataset_seed: 0\n",
      "task_lm: roberta-large\n",
      "is_mask_lm: null\n",
      "prompt: ' draws prison'\n",
      "\u001b[0m\n",
      "Test Size 2210\n",
      "Examples: {'source_texts': ['no movement , no yuks , not much of anything .', \"a gob of drivel so sickly sweet , even the eager consumers of moore 's pasteurized ditties will retch it up like rancid crème brûlée .\", \"` how many more voyages can this limping but dearly-loved franchise survive ? '\", 'so relentlessly wholesome it made me want to swipe something .', 'gangs of new york is an unapologetic mess , whose only saving grace is that it ends by blowing just about everything up .'], 'class_labels': [1, 0, 2, 2, 0]}\n",
      "Task LM: roberta-large\n",
      "\u001b[31mprompt:  draws prison, accuracy: 0.2891402840614319\u001b[0m\n",
      "----------------------------------------------\n",
      "Running evaluation with prompt: isionsisions\n",
      "\u001b[31mnum_shots: 16\n",
      "base_path: ../data\n",
      "dataset: sst-5\n",
      "dataset_seed: 0\n",
      "task_lm: distilroberta-base\n",
      "is_mask_lm: null\n",
      "prompt: isionsisions\n",
      "\u001b[0m\n",
      "Test Size 2210\n",
      "Examples: {'source_texts': ['no movement , no yuks , not much of anything .', \"a gob of drivel so sickly sweet , even the eager consumers of moore 's pasteurized ditties will retch it up like rancid crème brûlée .\", \"` how many more voyages can this limping but dearly-loved franchise survive ? '\", 'so relentlessly wholesome it made me want to swipe something .', 'gangs of new york is an unapologetic mess , whose only saving grace is that it ends by blowing just about everything up .'], 'class_labels': [1, 0, 2, 2, 0]}\n",
      "Task LM: distilroberta-base\n",
      "\u001b[31mprompt: isionsisions, accuracy: 0.26289594173431396\u001b[0m\n",
      "\u001b[31mnum_shots: 16\n",
      "base_path: ../data\n",
      "dataset: sst-5\n",
      "dataset_seed: 0\n",
      "task_lm: roberta-base\n",
      "is_mask_lm: null\n",
      "prompt: isionsisions\n",
      "\u001b[0m\n",
      "Test Size 2210\n",
      "Examples: {'source_texts': ['no movement , no yuks , not much of anything .', \"a gob of drivel so sickly sweet , even the eager consumers of moore 's pasteurized ditties will retch it up like rancid crème brûlée .\", \"` how many more voyages can this limping but dearly-loved franchise survive ? '\", 'so relentlessly wholesome it made me want to swipe something .', 'gangs of new york is an unapologetic mess , whose only saving grace is that it ends by blowing just about everything up .'], 'class_labels': [1, 0, 2, 2, 0]}\n",
      "Task LM: roberta-base\n",
      "\u001b[31mprompt: isionsisions, accuracy: 0.3461538553237915\u001b[0m\n",
      "\u001b[31mnum_shots: 16\n",
      "base_path: ../data\n",
      "dataset: sst-5\n",
      "dataset_seed: 0\n",
      "task_lm: roberta-large\n",
      "is_mask_lm: null\n",
      "prompt: isionsisions\n",
      "\u001b[0m\n",
      "Test Size 2210\n",
      "Examples: {'source_texts': ['no movement , no yuks , not much of anything .', \"a gob of drivel so sickly sweet , even the eager consumers of moore 's pasteurized ditties will retch it up like rancid crème brûlée .\", \"` how many more voyages can this limping but dearly-loved franchise survive ? '\", 'so relentlessly wholesome it made me want to swipe something .', 'gangs of new york is an unapologetic mess , whose only saving grace is that it ends by blowing just about everything up .'], 'class_labels': [1, 0, 2, 2, 0]}\n",
      "Task LM: roberta-large\n",
      "\u001b[31mprompt: isionsisions, accuracy: 0.3171945810317993\u001b[0m\n"
     ]
    },
    {
     "name": "stderr",
     "output_type": "stream",
     "text": [
      "Xet Storage is enabled for this repo, but the 'hf_xet' package is not installed. Falling back to regular HTTP download. For better performance, install the package with: `pip install huggingface_hub[hf_xet]` or `pip install hf_xet`\n",
      "Some weights of the model checkpoint at distilroberta-base were not used when initializing RobertaForMaskedLM: ['roberta.pooler.dense.bias', 'roberta.pooler.dense.weight']\n",
      "- This IS expected if you are initializing RobertaForMaskedLM from the checkpoint of a model trained on another task or with another architecture (e.g. initializing a BertForSequenceClassification model from a BertForPreTraining model).\n",
      "- This IS NOT expected if you are initializing RobertaForMaskedLM from the checkpoint of a model that you expect to be exactly identical (initializing a BertForSequenceClassification model from a BertForSequenceClassification model).\n",
      "Xet Storage is enabled for this repo, but the 'hf_xet' package is not installed. Falling back to regular HTTP download. For better performance, install the package with: `pip install huggingface_hub[hf_xet]` or `pip install hf_xet`\n",
      "Xet Storage is enabled for this repo, but the 'hf_xet' package is not installed. Falling back to regular HTTP download. For better performance, install the package with: `pip install huggingface_hub[hf_xet]` or `pip install hf_xet`\n",
      "Some weights of the model checkpoint at distilroberta-base were not used when initializing RobertaForMaskedLM: ['roberta.pooler.dense.bias', 'roberta.pooler.dense.weight']\n",
      "- This IS expected if you are initializing RobertaForMaskedLM from the checkpoint of a model trained on another task or with another architecture (e.g. initializing a BertForSequenceClassification model from a BertForPreTraining model).\n",
      "- This IS NOT expected if you are initializing RobertaForMaskedLM from the checkpoint of a model that you expect to be exactly identical (initializing a BertForSequenceClassification model from a BertForSequenceClassification model).\n",
      "Some weights of the model checkpoint at distilroberta-base were not used when initializing RobertaForMaskedLM: ['roberta.pooler.dense.bias', 'roberta.pooler.dense.weight']\n",
      "- This IS expected if you are initializing RobertaForMaskedLM from the checkpoint of a model trained on another task or with another architecture (e.g. initializing a BertForSequenceClassification model from a BertForPreTraining model).\n",
      "- This IS NOT expected if you are initializing RobertaForMaskedLM from the checkpoint of a model that you expect to be exactly identical (initializing a BertForSequenceClassification model from a BertForSequenceClassification model).\n"
     ]
    }
   ],
   "source": [
    "%%bash\n",
    "source /kaggle/conda/miniconda3/bin/activate my_env\n",
    "\n",
    "while IFS= read -r prompt; do\n",
    "    echo \"----------------------------------------------\"\n",
    "    echo \"Running evaluation with prompt: $prompt\"\n",
    "    python run_eval.py dataset=sst-5 task_lm=distilroberta-base \"prompt=\\\"${prompt}\\\"\"\n",
    "    python run_eval.py dataset=sst-5 task_lm=roberta-base \"prompt=\\\"${prompt}\\\"\"\n",
    "    python run_eval.py dataset=sst-5 task_lm=roberta-large \"prompt=\\\"${prompt}\\\"\"\n",
    "done < prompts.txt"
   ]
  }
 ],
 "metadata": {
  "kaggle": {
   "accelerator": "gpu",
   "dataSources": [
    {
     "datasetId": 7119255,
     "sourceId": 11853688,
     "sourceType": "datasetVersion"
    }
   ],
   "dockerImageVersionId": 31011,
   "isGpuEnabled": true,
   "isInternetEnabled": true,
   "language": "python",
   "sourceType": "notebook"
  },
  "kernelspec": {
   "display_name": "Python 3",
   "language": "python",
   "name": "python3"
  },
  "language_info": {
   "codemirror_mode": {
    "name": "ipython",
    "version": 3
   },
   "file_extension": ".py",
   "mimetype": "text/x-python",
   "name": "python",
   "nbconvert_exporter": "python",
   "pygments_lexer": "ipython3",
   "version": "3.11.11"
  },
  "papermill": {
   "default_parameters": {},
   "duration": 335.707934,
   "end_time": "2025-05-18T03:51:40.966325",
   "environment_variables": {},
   "exception": null,
   "input_path": "__notebook__.ipynb",
   "output_path": "__notebook__.ipynb",
   "parameters": {},
   "start_time": "2025-05-18T03:46:05.258391",
   "version": "2.6.0"
  }
 },
 "nbformat": 4,
 "nbformat_minor": 5
}
