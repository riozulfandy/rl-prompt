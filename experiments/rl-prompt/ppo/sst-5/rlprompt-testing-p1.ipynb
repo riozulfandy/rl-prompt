{
 "cells": [
  {
   "cell_type": "code",
   "execution_count": 1,
   "id": "cc5d6d35",
   "metadata": {
    "execution": {
     "iopub.execute_input": "2025-05-18T05:02:56.388267Z",
     "iopub.status.busy": "2025-05-18T05:02:56.388038Z",
     "iopub.status.idle": "2025-05-18T05:02:56.394695Z",
     "shell.execute_reply": "2025-05-18T05:02:56.393948Z"
    },
    "papermill": {
     "duration": 0.012514,
     "end_time": "2025-05-18T05:02:56.395852",
     "exception": false,
     "start_time": "2025-05-18T05:02:56.383338",
     "status": "completed"
    },
    "tags": []
   },
   "outputs": [
    {
     "name": "stdout",
     "output_type": "stream",
     "text": [
      "Don't forget to change the dataset argument\n"
     ]
    }
   ],
   "source": [
    "LOG_PATH = '/kaggle/input/rl-prompt-results-3-rio/all_outputs_sst5.log'\n",
    "print(\"Don't forget to change the dataset argument\")"
   ]
  },
  {
   "cell_type": "code",
   "execution_count": 2,
   "id": "e8e64905",
   "metadata": {
    "execution": {
     "iopub.execute_input": "2025-05-18T05:02:56.403394Z",
     "iopub.status.busy": "2025-05-18T05:02:56.403179Z",
     "iopub.status.idle": "2025-05-18T05:02:57.849260Z",
     "shell.execute_reply": "2025-05-18T05:02:57.848652Z"
    },
    "papermill": {
     "duration": 1.451231,
     "end_time": "2025-05-18T05:02:57.850628",
     "exception": false,
     "start_time": "2025-05-18T05:02:56.399397",
     "status": "completed"
    },
    "tags": []
   },
   "outputs": [],
   "source": [
    "import pandas as pd"
   ]
  },
  {
   "cell_type": "markdown",
   "id": "2d7c426e",
   "metadata": {
    "papermill": {
     "duration": 0.003451,
     "end_time": "2025-05-18T05:02:57.857873",
     "exception": false,
     "start_time": "2025-05-18T05:02:57.854422",
     "status": "completed"
    },
    "tags": []
   },
   "source": [
    "## Experiments Data Getter: Validation"
   ]
  },
  {
   "cell_type": "code",
   "execution_count": 3,
   "id": "a1c8e811",
   "metadata": {
    "execution": {
     "iopub.execute_input": "2025-05-18T05:02:57.866194Z",
     "iopub.status.busy": "2025-05-18T05:02:57.865474Z",
     "iopub.status.idle": "2025-05-18T05:03:01.978918Z",
     "shell.execute_reply": "2025-05-18T05:03:01.978349Z"
    },
    "papermill": {
     "duration": 4.118731,
     "end_time": "2025-05-18T05:03:01.980264",
     "exception": false,
     "start_time": "2025-05-18T05:02:57.861533",
     "status": "completed"
    },
    "tags": []
   },
   "outputs": [],
   "source": [
    "import re\n",
    "\n",
    "log_file = LOG_PATH\n",
    "\n",
    "step_pattern = re.compile(r'^(\\d+)\\s+\\|')\n",
    "reward_pattern = re.compile(r'([-+]?\\d*\\.\\d+|\\d+)')\n",
    "accuracy_pattern = re.compile(r'Accuracy:\\s*([-+]?\\d*\\.\\d+|\\d+)')\n",
    "\n",
    "steps = []\n",
    "rewards = []\n",
    "accuracy = []\n",
    "prompts = []\n",
    "\n",
    "with open(log_file, 'r') as f:\n",
    "    lines = f.readlines()\n",
    "\n",
    "current_step = None\n",
    "\n",
    "for i, line in enumerate(lines):\n",
    "    step_match = step_pattern.match(line)\n",
    "    if step_match:\n",
    "        current_step = int(step_match.group(1))\n",
    "\n",
    "    if \"Our Prompt:\" in line:\n",
    "        next_line = lines[i + 1].strip()\n",
    "        prev_line = lines[i - 1].strip()\n",
    "\n",
    "        accuracy_match = accuracy_pattern.search(prev_line)\n",
    "        numbers = reward_pattern.findall(next_line)\n",
    "\n",
    "        if accuracy_match and numbers and current_step is not None:\n",
    "            acc_value = float(accuracy_match.group(1))\n",
    "            reward_value = float(numbers[-1])\n",
    "\n",
    "            steps.append(current_step)\n",
    "            rewards.append(reward_value)\n",
    "            accuracy.append(acc_value)\n",
    "            prompts.append(next_line)"
   ]
  },
  {
   "cell_type": "code",
   "execution_count": 4,
   "id": "ceac74ad",
   "metadata": {
    "execution": {
     "iopub.execute_input": "2025-05-18T05:03:01.988131Z",
     "iopub.status.busy": "2025-05-18T05:03:01.987852Z",
     "iopub.status.idle": "2025-05-18T05:03:02.058764Z",
     "shell.execute_reply": "2025-05-18T05:03:02.058261Z"
    },
    "papermill": {
     "duration": 0.075865,
     "end_time": "2025-05-18T05:03:02.059816",
     "exception": false,
     "start_time": "2025-05-18T05:03:01.983951",
     "status": "completed"
    },
    "tags": []
   },
   "outputs": [],
   "source": [
    "INTERVAL = 600\n",
    "\n",
    "starts = 0\n",
    "end = starts + INTERVAL\n",
    "\n",
    "seed_best_prompts = []\n",
    "\n",
    "validation_dfs = {}\n",
    "\n",
    "while end <= len(steps):\n",
    "    interval_acc = accuracy[starts:end]\n",
    "    interval_prompts = prompts[starts:end]\n",
    "    interval_steps = steps[starts:end]\n",
    "    interval_rewards = rewards[starts:end]\n",
    "    seed = starts // INTERVAL\n",
    "\n",
    "    max_idx = interval_acc.index(max(interval_acc))\n",
    "    best_prompt = interval_prompts[max_idx]\n",
    "    seed_best_prompts.append((seed, max(interval_acc), best_prompt))\n",
    "\n",
    "    values = {\n",
    "        'step': interval_steps,\n",
    "        'accuracy': interval_acc,\n",
    "        'rewards': interval_rewards,\n",
    "        'prompts': interval_prompts,\n",
    "    }\n",
    "\n",
    "    df = pd.DataFrame(values)\n",
    "    validation_dfs[seed] = df\n",
    "    df.to_csv(f\"validation_results_{seed}.csv\",index=False)\n",
    "\n",
    "    starts = end\n",
    "    end = starts + INTERVAL"
   ]
  },
  {
   "cell_type": "code",
   "execution_count": 5,
   "id": "02ff2dd7",
   "metadata": {
    "execution": {
     "iopub.execute_input": "2025-05-18T05:03:02.067034Z",
     "iopub.status.busy": "2025-05-18T05:03:02.066840Z",
     "iopub.status.idle": "2025-05-18T05:03:02.070844Z",
     "shell.execute_reply": "2025-05-18T05:03:02.070273Z"
    },
    "papermill": {
     "duration": 0.008621,
     "end_time": "2025-05-18T05:03:02.071753",
     "exception": false,
     "start_time": "2025-05-18T05:03:02.063132",
     "status": "completed"
    },
    "tags": []
   },
   "outputs": [
    {
     "name": "stdout",
     "output_type": "stream",
     "text": [
      "Seed 0: Max Accuracy = 0.4000\n",
      "Prompt: ['uatesude'] -2.5017201900482178\n",
      "--------------------------------------------------\n",
      "Seed 1: Max Accuracy = 0.4250\n",
      "Prompt: ['resseslocks'] -3.643437147140503\n",
      "--------------------------------------------------\n",
      "Seed 2: Max Accuracy = 0.3625\n",
      "Prompt: ['itionsitions'] -9.660454750061035\n",
      "--------------------------------------------------\n"
     ]
    }
   ],
   "source": [
    "# Print best prompt (highest accuracy) for each seed\n",
    "for seed, acc, prompt in seed_best_prompts:\n",
    "    print(f\"Seed {seed}: Max Accuracy = {acc:.4f}\")\n",
    "    print(f\"Prompt: {prompt}\")\n",
    "    print(\"-\" * 50)"
   ]
  },
  {
   "cell_type": "code",
   "execution_count": 6,
   "id": "0e7acfcc",
   "metadata": {
    "execution": {
     "iopub.execute_input": "2025-05-18T05:03:02.078855Z",
     "iopub.status.busy": "2025-05-18T05:03:02.078680Z",
     "iopub.status.idle": "2025-05-18T05:03:02.083077Z",
     "shell.execute_reply": "2025-05-18T05:03:02.082472Z"
    },
    "papermill": {
     "duration": 0.008986,
     "end_time": "2025-05-18T05:03:02.084057",
     "exception": false,
     "start_time": "2025-05-18T05:03:02.075071",
     "status": "completed"
    },
    "tags": []
   },
   "outputs": [
    {
     "name": "stdout",
     "output_type": "stream",
     "text": [
      "['uatesude', 'resseslocks', 'itionsitions']\n"
     ]
    }
   ],
   "source": [
    "import ast\n",
    "\n",
    "best_prompt_words = []\n",
    "\n",
    "for _, _, raw_prompt in seed_best_prompts:\n",
    "    try:\n",
    "        bracket_content = raw_prompt.split(']')[0] + ']'\n",
    "        prompt_list = ast.literal_eval(bracket_content)\n",
    "        if isinstance(prompt_list, list) and len(prompt_list) > 0:\n",
    "            best_prompt_words.append(prompt_list[0])\n",
    "    except:\n",
    "        continue\n",
    "\n",
    "print(best_prompt_words)"
   ]
  },
  {
   "cell_type": "markdown",
   "id": "ec160905",
   "metadata": {
    "papermill": {
     "duration": 0.003095,
     "end_time": "2025-05-18T05:03:02.090352",
     "exception": false,
     "start_time": "2025-05-18T05:03:02.087257",
     "status": "completed"
    },
    "tags": []
   },
   "source": [
    "## Experiments Data Getter: Training"
   ]
  },
  {
   "cell_type": "code",
   "execution_count": 7,
   "id": "8300bba1",
   "metadata": {
    "execution": {
     "iopub.execute_input": "2025-05-18T05:03:02.097643Z",
     "iopub.status.busy": "2025-05-18T05:03:02.097139Z",
     "iopub.status.idle": "2025-05-18T05:03:04.770512Z",
     "shell.execute_reply": "2025-05-18T05:03:04.769589Z"
    },
    "papermill": {
     "duration": 2.678258,
     "end_time": "2025-05-18T05:03:04.771780",
     "exception": false,
     "start_time": "2025-05-18T05:03:02.093522",
     "status": "completed"
    },
    "tags": []
   },
   "outputs": [
    {
     "name": "stdout",
     "output_type": "stream",
     "text": [
      "Total training time: 3.56 hours (213.72 minutes)\n",
      "\n",
      "Peak GPU memory usage: 2040.43 MB (1.99 GB)\n",
      "\n",
      "Total training time: 3.13 hours (188.08 minutes)\n",
      "\n",
      "Peak GPU memory usage: 2050.89 MB (2.00 GB)\n",
      "\n",
      "Total training time: 3.45 hours (206.74 minutes)\n",
      "\n",
      "Peak GPU memory usage: 1993.96 MB (1.95 GB)\n",
      "\n"
     ]
    }
   ],
   "source": [
    "import numpy as np\n",
    "\n",
    "log_file = LOG_PATH\n",
    "\n",
    "all_rewards = {}\n",
    "all_accuracy = {}\n",
    "\n",
    "header_pattern = re.compile(r'^(\\d+)\\s*\\|')\n",
    "reward_pattern = re.compile(r'Reward:\\s*([-+]?\\d*\\.\\d+|\\d+)')\n",
    "accuracy_pattern = re.compile(r'Accuracy:\\s*([-+]?\\d*\\.\\d+|\\d+)')\n",
    "\n",
    "with open(log_file, 'r') as f:\n",
    "    lines = f.readlines()\n",
    "\n",
    "current_step = None\n",
    "seed = -1\n",
    "\n",
    "for line in lines:\n",
    "    if 'Task LM' in line:\n",
    "        seed += 1\n",
    "        all_rewards[seed] = {}\n",
    "        all_accuracy[seed] = {}\n",
    "        continue\n",
    "    \n",
    "    header_match = header_pattern.match(line)\n",
    "    if header_match:\n",
    "        current_step = int(header_match.group(1))\n",
    "    \n",
    "    if \"Reward:\" in line:\n",
    "        reward_match = reward_pattern.search(line)\n",
    "        if reward_match:\n",
    "            reward_value = float(reward_match.group(1))\n",
    "            if current_step is not None:\n",
    "                all_rewards[seed].setdefault(current_step, []).append(reward_value)\n",
    "\n",
    "    if \"Accuracy:\" in line:\n",
    "        accuracy_match = accuracy_pattern.search(line)\n",
    "        if accuracy_match:\n",
    "            accuracy_value = float(accuracy_match.group(1))\n",
    "            if current_step is not None:\n",
    "                all_accuracy[seed].setdefault(current_step, []).append(accuracy_value)\n",
    "\n",
    "    if 'Total training time' in line:\n",
    "        print(line)\n",
    "\n",
    "    if 'Peak GPU' in line:\n",
    "        print(line)"
   ]
  },
  {
   "cell_type": "code",
   "execution_count": 8,
   "id": "1c64e47d",
   "metadata": {
    "execution": {
     "iopub.execute_input": "2025-05-18T05:03:04.780065Z",
     "iopub.status.busy": "2025-05-18T05:03:04.779644Z",
     "iopub.status.idle": "2025-05-18T05:03:05.278290Z",
     "shell.execute_reply": "2025-05-18T05:03:05.277507Z"
    },
    "papermill": {
     "duration": 0.504182,
     "end_time": "2025-05-18T05:03:05.279773",
     "exception": false,
     "start_time": "2025-05-18T05:03:04.775591",
     "status": "completed"
    },
    "tags": []
   },
   "outputs": [],
   "source": [
    "training_results_dfs = {}\n",
    "\n",
    "for seed, data in all_rewards.items():\n",
    "    steps = sorted(data.keys())\n",
    "    means = [np.mean(data[step]) for step in steps]\n",
    "    stds  = [np.std(data[step]) for step in steps]\n",
    "\n",
    "    values = {\n",
    "        'step': steps,\n",
    "        'reward_mean': means,\n",
    "        'reward_std': stds\n",
    "    }\n",
    "\n",
    "    df = pd.DataFrame(values)\n",
    "    training_results_dfs[seed] = df"
   ]
  },
  {
   "cell_type": "code",
   "execution_count": 9,
   "id": "3877b917",
   "metadata": {
    "execution": {
     "iopub.execute_input": "2025-05-18T05:03:05.288355Z",
     "iopub.status.busy": "2025-05-18T05:03:05.287709Z",
     "iopub.status.idle": "2025-05-18T05:03:05.853960Z",
     "shell.execute_reply": "2025-05-18T05:03:05.853251Z"
    },
    "papermill": {
     "duration": 0.571765,
     "end_time": "2025-05-18T05:03:05.855327",
     "exception": false,
     "start_time": "2025-05-18T05:03:05.283562",
     "status": "completed"
    },
    "tags": []
   },
   "outputs": [],
   "source": [
    "for seed, data in all_accuracy.items():\n",
    "    steps = sorted(data.keys())\n",
    "    means = [np.mean(data[step]) for step in steps]\n",
    "    stds  = [np.std(data[step]) for step in steps]\n",
    "\n",
    "    df = training_results_dfs[seed]\n",
    "    df['accuracy_mean'] = means\n",
    "    df['accuracy_stds'] = stds\n",
    "    df.to_csv(f\"training_results_{seed}.csv\",index=False)"
   ]
  },
  {
   "cell_type": "markdown",
   "id": "867551c6",
   "metadata": {
    "papermill": {
     "duration": 0.003295,
     "end_time": "2025-05-18T05:03:05.862479",
     "exception": false,
     "start_time": "2025-05-18T05:03:05.859184",
     "status": "completed"
    },
    "tags": []
   },
   "source": [
    "## Environment Prep"
   ]
  },
  {
   "cell_type": "code",
   "execution_count": 10,
   "id": "566b9745",
   "metadata": {
    "execution": {
     "iopub.execute_input": "2025-05-18T05:03:05.870013Z",
     "iopub.status.busy": "2025-05-18T05:03:05.869797Z",
     "iopub.status.idle": "2025-05-18T05:03:05.873041Z",
     "shell.execute_reply": "2025-05-18T05:03:05.872415Z"
    },
    "papermill": {
     "duration": 0.008239,
     "end_time": "2025-05-18T05:03:05.874113",
     "exception": false,
     "start_time": "2025-05-18T05:03:05.865874",
     "status": "completed"
    },
    "tags": []
   },
   "outputs": [],
   "source": [
    "from IPython.display import clear_output"
   ]
  },
  {
   "cell_type": "code",
   "execution_count": 11,
   "id": "40ab9b63",
   "metadata": {
    "execution": {
     "iopub.execute_input": "2025-05-18T05:03:05.882006Z",
     "iopub.status.busy": "2025-05-18T05:03:05.881595Z",
     "iopub.status.idle": "2025-05-18T05:03:19.737052Z",
     "shell.execute_reply": "2025-05-18T05:03:19.736217Z"
    },
    "papermill": {
     "duration": 13.860948,
     "end_time": "2025-05-18T05:03:19.738499",
     "exception": false,
     "start_time": "2025-05-18T05:03:05.877551",
     "status": "completed"
    },
    "tags": []
   },
   "outputs": [],
   "source": [
    "root_dir = \"/kaggle/conda\"\n",
    "!mkdir -p $root_dir\n",
    "!wget -q --show-progress https://repo.anaconda.com/miniconda/Miniconda3-latest-Linux-x86_64.sh\n",
    "!bash Miniconda3-latest-Linux-x86_64.sh -b -p $root_dir/miniconda3 -f\n",
    "clear_output()"
   ]
  },
  {
   "cell_type": "code",
   "execution_count": 12,
   "id": "75fc7230",
   "metadata": {
    "execution": {
     "iopub.execute_input": "2025-05-18T05:03:19.746845Z",
     "iopub.status.busy": "2025-05-18T05:03:19.746625Z",
     "iopub.status.idle": "2025-05-18T05:03:29.336823Z",
     "shell.execute_reply": "2025-05-18T05:03:29.335936Z"
    },
    "papermill": {
     "duration": 9.595899,
     "end_time": "2025-05-18T05:03:29.338241",
     "exception": false,
     "start_time": "2025-05-18T05:03:19.742342",
     "status": "completed"
    },
    "tags": []
   },
   "outputs": [],
   "source": [
    "!$root_dir/miniconda3/bin/conda create --name my_env python=3.10 -y\n",
    "clear_output()"
   ]
  },
  {
   "cell_type": "code",
   "execution_count": 13,
   "id": "36611322",
   "metadata": {
    "execution": {
     "iopub.execute_input": "2025-05-18T05:03:29.347440Z",
     "iopub.status.busy": "2025-05-18T05:03:29.347156Z",
     "iopub.status.idle": "2025-05-18T05:03:39.570924Z",
     "shell.execute_reply": "2025-05-18T05:03:39.570248Z"
    },
    "papermill": {
     "duration": 10.22931,
     "end_time": "2025-05-18T05:03:39.572266",
     "exception": false,
     "start_time": "2025-05-18T05:03:29.342956",
     "status": "completed"
    },
    "tags": []
   },
   "outputs": [
    {
     "name": "stdout",
     "output_type": "stream",
     "text": [
      "Cloning into 'rl-prompt'...\r\n",
      "remote: Enumerating objects: 1813, done.\u001b[K\r\n",
      "remote: Counting objects: 100% (661/661), done.\u001b[K\r\n",
      "remote: Compressing objects: 100% (385/385), done.\u001b[K\r\n",
      "remote: Total 1813 (delta 381), reused 466 (delta 273), pack-reused 1152 (from 1)\u001b[K\r\n",
      "Receiving objects: 100% (1813/1813), 83.59 MiB | 27.57 MiB/s, done.\r\n",
      "Resolving deltas: 100% (790/790), done.\r\n",
      "Updating files: 100% (291/291), done.\r\n"
     ]
    }
   ],
   "source": [
    "!git clone https://github.com/malifalhakim/rl-prompt.git"
   ]
  },
  {
   "cell_type": "code",
   "execution_count": 14,
   "id": "af4f10fb",
   "metadata": {
    "execution": {
     "iopub.execute_input": "2025-05-18T05:03:39.584389Z",
     "iopub.status.busy": "2025-05-18T05:03:39.583619Z",
     "iopub.status.idle": "2025-05-18T05:03:39.590538Z",
     "shell.execute_reply": "2025-05-18T05:03:39.589826Z"
    },
    "papermill": {
     "duration": 0.013821,
     "end_time": "2025-05-18T05:03:39.591673",
     "exception": false,
     "start_time": "2025-05-18T05:03:39.577852",
     "status": "completed"
    },
    "tags": []
   },
   "outputs": [
    {
     "name": "stdout",
     "output_type": "stream",
     "text": [
      "/kaggle/working/rl-prompt\n"
     ]
    }
   ],
   "source": [
    "%cd /kaggle/working/rl-prompt"
   ]
  },
  {
   "cell_type": "code",
   "execution_count": 15,
   "id": "673f7440",
   "metadata": {
    "execution": {
     "iopub.execute_input": "2025-05-18T05:03:39.602790Z",
     "iopub.status.busy": "2025-05-18T05:03:39.602613Z",
     "iopub.status.idle": "2025-05-18T05:05:28.888458Z",
     "shell.execute_reply": "2025-05-18T05:05:28.887590Z"
    },
    "papermill": {
     "duration": 109.292958,
     "end_time": "2025-05-18T05:05:28.889884",
     "exception": false,
     "start_time": "2025-05-18T05:03:39.596926",
     "status": "completed"
    },
    "tags": []
   },
   "outputs": [],
   "source": [
    "# Set the CUDA version variable\n",
    "CUDA_VERSION = 'cu118'\n",
    "\n",
    "# 1. Install PyTorch with matching CUDA version\n",
    "!source $root_dir/miniconda3/bin/activate my_env; pip install torch==2.6.0+{CUDA_VERSION} \\\n",
    "--extra-index-url https://download.pytorch.org/whl/{CUDA_VERSION}\n",
    "\n",
    "clear_output()"
   ]
  },
  {
   "cell_type": "code",
   "execution_count": 16,
   "id": "b22d2bdb",
   "metadata": {
    "execution": {
     "iopub.execute_input": "2025-05-18T05:05:28.902150Z",
     "iopub.status.busy": "2025-05-18T05:05:28.901452Z",
     "iopub.status.idle": "2025-05-18T05:05:59.690141Z",
     "shell.execute_reply": "2025-05-18T05:05:59.689444Z"
    },
    "papermill": {
     "duration": 30.795893,
     "end_time": "2025-05-18T05:05:59.691473",
     "exception": false,
     "start_time": "2025-05-18T05:05:28.895580",
     "status": "completed"
    },
    "tags": []
   },
   "outputs": [],
   "source": [
    "!source $root_dir/miniconda3/bin/activate my_env; pip install -e .\n",
    "\n",
    "clear_output()"
   ]
  },
  {
   "cell_type": "markdown",
   "id": "ceba6ce5",
   "metadata": {
    "papermill": {
     "duration": 0.005029,
     "end_time": "2025-05-18T05:05:59.702330",
     "exception": false,
     "start_time": "2025-05-18T05:05:59.697301",
     "status": "completed"
    },
    "tags": []
   },
   "source": [
    "## Evaluation"
   ]
  },
  {
   "cell_type": "code",
   "execution_count": 17,
   "id": "125d86bf",
   "metadata": {
    "execution": {
     "iopub.execute_input": "2025-05-18T05:05:59.713280Z",
     "iopub.status.busy": "2025-05-18T05:05:59.713004Z",
     "iopub.status.idle": "2025-05-18T05:05:59.718174Z",
     "shell.execute_reply": "2025-05-18T05:05:59.717522Z"
    },
    "papermill": {
     "duration": 0.012137,
     "end_time": "2025-05-18T05:05:59.719336",
     "exception": false,
     "start_time": "2025-05-18T05:05:59.707199",
     "status": "completed"
    },
    "tags": []
   },
   "outputs": [
    {
     "name": "stdout",
     "output_type": "stream",
     "text": [
      "/kaggle/working/rl-prompt/examples/few-shot-classification/evaluation\n"
     ]
    }
   ],
   "source": [
    "%cd examples/few-shot-classification/evaluation"
   ]
  },
  {
   "cell_type": "code",
   "execution_count": 18,
   "id": "54507d2f",
   "metadata": {
    "execution": {
     "iopub.execute_input": "2025-05-18T05:05:59.730194Z",
     "iopub.status.busy": "2025-05-18T05:05:59.729996Z",
     "iopub.status.idle": "2025-05-18T05:05:59.733713Z",
     "shell.execute_reply": "2025-05-18T05:05:59.733194Z"
    },
    "papermill": {
     "duration": 0.01023,
     "end_time": "2025-05-18T05:05:59.734651",
     "exception": false,
     "start_time": "2025-05-18T05:05:59.724421",
     "status": "completed"
    },
    "tags": []
   },
   "outputs": [],
   "source": [
    "with open(\"prompts.txt\", \"w\") as f:\n",
    "    for prompt in best_prompt_words:\n",
    "        f.write(prompt + \"\\n\")"
   ]
  },
  {
   "cell_type": "code",
   "execution_count": 19,
   "id": "83bbb1cb",
   "metadata": {
    "execution": {
     "iopub.execute_input": "2025-05-18T05:05:59.745514Z",
     "iopub.status.busy": "2025-05-18T05:05:59.745308Z",
     "iopub.status.idle": "2025-05-18T05:08:09.630250Z",
     "shell.execute_reply": "2025-05-18T05:08:09.629508Z"
    },
    "papermill": {
     "duration": 129.897963,
     "end_time": "2025-05-18T05:08:09.637591",
     "exception": false,
     "start_time": "2025-05-18T05:05:59.739628",
     "status": "completed"
    },
    "tags": []
   },
   "outputs": [
    {
     "name": "stdout",
     "output_type": "stream",
     "text": [
      "----------------------------------------------\n",
      "Running evaluation with prompt: uatesude\n",
      "\u001b[31mnum_shots: 16\n",
      "base_path: ../data\n",
      "dataset: sst-5\n",
      "dataset_seed: 0\n",
      "task_lm: distilroberta-base\n",
      "is_mask_lm: null\n",
      "prompt: uatesude\n",
      "\u001b[0m\n",
      "Test Size 2210\n",
      "Examples: {'source_texts': ['no movement , no yuks , not much of anything .', \"a gob of drivel so sickly sweet , even the eager consumers of moore 's pasteurized ditties will retch it up like rancid crème brûlée .\", \"` how many more voyages can this limping but dearly-loved franchise survive ? '\", 'so relentlessly wholesome it made me want to swipe something .', 'gangs of new york is an unapologetic mess , whose only saving grace is that it ends by blowing just about everything up .'], 'class_labels': [1, 0, 2, 2, 0]}\n",
      "Task LM: distilroberta-base\n",
      "[2025-05-18 05:06:05,542][huggingface_hub.file_download][WARNING] - Xet Storage is enabled for this repo, but the 'hf_xet' package is not installed. Falling back to regular HTTP download. For better performance, install the package with: `pip install huggingface_hub[hf_xet]` or `pip install hf_xet`\n",
      "\u001b[31mprompt: uatesude, accuracy: 0.3733031749725342\u001b[0m\n",
      "\u001b[31mnum_shots: 16\n",
      "base_path: ../data\n",
      "dataset: sst-5\n",
      "dataset_seed: 0\n",
      "task_lm: roberta-base\n",
      "is_mask_lm: null\n",
      "prompt: uatesude\n",
      "\u001b[0m\n",
      "Test Size 2210\n",
      "Examples: {'source_texts': ['no movement , no yuks , not much of anything .', \"a gob of drivel so sickly sweet , even the eager consumers of moore 's pasteurized ditties will retch it up like rancid crème brûlée .\", \"` how many more voyages can this limping but dearly-loved franchise survive ? '\", 'so relentlessly wholesome it made me want to swipe something .', 'gangs of new york is an unapologetic mess , whose only saving grace is that it ends by blowing just about everything up .'], 'class_labels': [1, 0, 2, 2, 0]}\n",
      "Task LM: roberta-base\n",
      "[2025-05-18 05:06:16,489][huggingface_hub.file_download][WARNING] - Xet Storage is enabled for this repo, but the 'hf_xet' package is not installed. Falling back to regular HTTP download. For better performance, install the package with: `pip install huggingface_hub[hf_xet]` or `pip install hf_xet`\n",
      "\u001b[31mprompt: uatesude, accuracy: 0.3791855275630951\u001b[0m\n",
      "\u001b[31mnum_shots: 16\n",
      "base_path: ../data\n",
      "dataset: sst-5\n",
      "dataset_seed: 0\n",
      "task_lm: roberta-large\n",
      "is_mask_lm: null\n",
      "prompt: uatesude\n",
      "\u001b[0m\n",
      "Test Size 2210\n",
      "Examples: {'source_texts': ['no movement , no yuks , not much of anything .', \"a gob of drivel so sickly sweet , even the eager consumers of moore 's pasteurized ditties will retch it up like rancid crème brûlée .\", \"` how many more voyages can this limping but dearly-loved franchise survive ? '\", 'so relentlessly wholesome it made me want to swipe something .', 'gangs of new york is an unapologetic mess , whose only saving grace is that it ends by blowing just about everything up .'], 'class_labels': [1, 0, 2, 2, 0]}\n",
      "Task LM: roberta-large\n",
      "[2025-05-18 05:06:29,898][huggingface_hub.file_download][WARNING] - Xet Storage is enabled for this repo, but the 'hf_xet' package is not installed. Falling back to regular HTTP download. For better performance, install the package with: `pip install huggingface_hub[hf_xet]` or `pip install hf_xet`\n",
      "\u001b[31mprompt: uatesude, accuracy: 0.24343891441822052\u001b[0m\n",
      "----------------------------------------------\n",
      "Running evaluation with prompt: resseslocks\n",
      "\u001b[31mnum_shots: 16\n",
      "base_path: ../data\n",
      "dataset: sst-5\n",
      "dataset_seed: 0\n",
      "task_lm: distilroberta-base\n",
      "is_mask_lm: null\n",
      "prompt: resseslocks\n",
      "\u001b[0m\n",
      "Test Size 2210\n",
      "Examples: {'source_texts': ['no movement , no yuks , not much of anything .', \"a gob of drivel so sickly sweet , even the eager consumers of moore 's pasteurized ditties will retch it up like rancid crème brûlée .\", \"` how many more voyages can this limping but dearly-loved franchise survive ? '\", 'so relentlessly wholesome it made me want to swipe something .', 'gangs of new york is an unapologetic mess , whose only saving grace is that it ends by blowing just about everything up .'], 'class_labels': [1, 0, 2, 2, 0]}\n",
      "Task LM: distilroberta-base\n",
      "\u001b[31mprompt: resseslocks, accuracy: 0.3375565707683563\u001b[0m\n",
      "\u001b[31mnum_shots: 16\n",
      "base_path: ../data\n",
      "dataset: sst-5\n",
      "dataset_seed: 0\n",
      "task_lm: roberta-base\n",
      "is_mask_lm: null\n",
      "prompt: resseslocks\n",
      "\u001b[0m\n",
      "Test Size 2210\n",
      "Examples: {'source_texts': ['no movement , no yuks , not much of anything .', \"a gob of drivel so sickly sweet , even the eager consumers of moore 's pasteurized ditties will retch it up like rancid crème brûlée .\", \"` how many more voyages can this limping but dearly-loved franchise survive ? '\", 'so relentlessly wholesome it made me want to swipe something .', 'gangs of new york is an unapologetic mess , whose only saving grace is that it ends by blowing just about everything up .'], 'class_labels': [1, 0, 2, 2, 0]}\n",
      "Task LM: roberta-base\n",
      "\u001b[31mprompt: resseslocks, accuracy: 0.31402716040611267\u001b[0m\n",
      "\u001b[31mnum_shots: 16\n",
      "base_path: ../data\n",
      "dataset: sst-5\n",
      "dataset_seed: 0\n",
      "task_lm: roberta-large\n",
      "is_mask_lm: null\n",
      "prompt: resseslocks\n",
      "\u001b[0m\n",
      "Test Size 2210\n",
      "Examples: {'source_texts': ['no movement , no yuks , not much of anything .', \"a gob of drivel so sickly sweet , even the eager consumers of moore 's pasteurized ditties will retch it up like rancid crème brûlée .\", \"` how many more voyages can this limping but dearly-loved franchise survive ? '\", 'so relentlessly wholesome it made me want to swipe something .', 'gangs of new york is an unapologetic mess , whose only saving grace is that it ends by blowing just about everything up .'], 'class_labels': [1, 0, 2, 2, 0]}\n",
      "Task LM: roberta-large\n",
      "\u001b[31mprompt: resseslocks, accuracy: 0.24886877834796906\u001b[0m\n",
      "----------------------------------------------\n",
      "Running evaluation with prompt: itionsitions\n",
      "\u001b[31mnum_shots: 16\n",
      "base_path: ../data\n",
      "dataset: sst-5\n",
      "dataset_seed: 0\n",
      "task_lm: distilroberta-base\n",
      "is_mask_lm: null\n",
      "prompt: itionsitions\n",
      "\u001b[0m\n",
      "Test Size 2210\n",
      "Examples: {'source_texts': ['no movement , no yuks , not much of anything .', \"a gob of drivel so sickly sweet , even the eager consumers of moore 's pasteurized ditties will retch it up like rancid crème brûlée .\", \"` how many more voyages can this limping but dearly-loved franchise survive ? '\", 'so relentlessly wholesome it made me want to swipe something .', 'gangs of new york is an unapologetic mess , whose only saving grace is that it ends by blowing just about everything up .'], 'class_labels': [1, 0, 2, 2, 0]}\n",
      "Task LM: distilroberta-base\n",
      "\u001b[31mprompt: itionsitions, accuracy: 0.3339366614818573\u001b[0m\n",
      "\u001b[31mnum_shots: 16\n",
      "base_path: ../data\n",
      "dataset: sst-5\n",
      "dataset_seed: 0\n",
      "task_lm: roberta-base\n",
      "is_mask_lm: null\n",
      "prompt: itionsitions\n",
      "\u001b[0m\n",
      "Test Size 2210\n",
      "Examples: {'source_texts': ['no movement , no yuks , not much of anything .', \"a gob of drivel so sickly sweet , even the eager consumers of moore 's pasteurized ditties will retch it up like rancid crème brûlée .\", \"` how many more voyages can this limping but dearly-loved franchise survive ? '\", 'so relentlessly wholesome it made me want to swipe something .', 'gangs of new york is an unapologetic mess , whose only saving grace is that it ends by blowing just about everything up .'], 'class_labels': [1, 0, 2, 2, 0]}\n",
      "Task LM: roberta-base\n",
      "\u001b[31mprompt: itionsitions, accuracy: 0.33936652541160583\u001b[0m\n",
      "\u001b[31mnum_shots: 16\n",
      "base_path: ../data\n",
      "dataset: sst-5\n",
      "dataset_seed: 0\n",
      "task_lm: roberta-large\n",
      "is_mask_lm: null\n",
      "prompt: itionsitions\n",
      "\u001b[0m\n",
      "Test Size 2210\n",
      "Examples: {'source_texts': ['no movement , no yuks , not much of anything .', \"a gob of drivel so sickly sweet , even the eager consumers of moore 's pasteurized ditties will retch it up like rancid crème brûlée .\", \"` how many more voyages can this limping but dearly-loved franchise survive ? '\", 'so relentlessly wholesome it made me want to swipe something .', 'gangs of new york is an unapologetic mess , whose only saving grace is that it ends by blowing just about everything up .'], 'class_labels': [1, 0, 2, 2, 0]}\n",
      "Task LM: roberta-large\n",
      "\u001b[31mprompt: itionsitions, accuracy: 0.3416289687156677\u001b[0m\n"
     ]
    },
    {
     "name": "stderr",
     "output_type": "stream",
     "text": [
      "Xet Storage is enabled for this repo, but the 'hf_xet' package is not installed. Falling back to regular HTTP download. For better performance, install the package with: `pip install huggingface_hub[hf_xet]` or `pip install hf_xet`\n",
      "Some weights of the model checkpoint at distilroberta-base were not used when initializing RobertaForMaskedLM: ['roberta.pooler.dense.bias', 'roberta.pooler.dense.weight']\n",
      "- This IS expected if you are initializing RobertaForMaskedLM from the checkpoint of a model trained on another task or with another architecture (e.g. initializing a BertForSequenceClassification model from a BertForPreTraining model).\n",
      "- This IS NOT expected if you are initializing RobertaForMaskedLM from the checkpoint of a model that you expect to be exactly identical (initializing a BertForSequenceClassification model from a BertForSequenceClassification model).\n",
      "Xet Storage is enabled for this repo, but the 'hf_xet' package is not installed. Falling back to regular HTTP download. For better performance, install the package with: `pip install huggingface_hub[hf_xet]` or `pip install hf_xet`\n",
      "Xet Storage is enabled for this repo, but the 'hf_xet' package is not installed. Falling back to regular HTTP download. For better performance, install the package with: `pip install huggingface_hub[hf_xet]` or `pip install hf_xet`\n",
      "Some weights of the model checkpoint at distilroberta-base were not used when initializing RobertaForMaskedLM: ['roberta.pooler.dense.bias', 'roberta.pooler.dense.weight']\n",
      "- This IS expected if you are initializing RobertaForMaskedLM from the checkpoint of a model trained on another task or with another architecture (e.g. initializing a BertForSequenceClassification model from a BertForPreTraining model).\n",
      "- This IS NOT expected if you are initializing RobertaForMaskedLM from the checkpoint of a model that you expect to be exactly identical (initializing a BertForSequenceClassification model from a BertForSequenceClassification model).\n",
      "Some weights of the model checkpoint at distilroberta-base were not used when initializing RobertaForMaskedLM: ['roberta.pooler.dense.bias', 'roberta.pooler.dense.weight']\n",
      "- This IS expected if you are initializing RobertaForMaskedLM from the checkpoint of a model trained on another task or with another architecture (e.g. initializing a BertForSequenceClassification model from a BertForPreTraining model).\n",
      "- This IS NOT expected if you are initializing RobertaForMaskedLM from the checkpoint of a model that you expect to be exactly identical (initializing a BertForSequenceClassification model from a BertForSequenceClassification model).\n"
     ]
    }
   ],
   "source": [
    "%%bash\n",
    "source /kaggle/conda/miniconda3/bin/activate my_env\n",
    "\n",
    "while IFS= read -r prompt; do\n",
    "    echo \"----------------------------------------------\"\n",
    "    echo \"Running evaluation with prompt: $prompt\"\n",
    "    python run_eval.py dataset=sst-5 task_lm=distilroberta-base \"prompt=\\\"${prompt}\\\"\"\n",
    "    python run_eval.py dataset=sst-5 task_lm=roberta-base \"prompt=\\\"${prompt}\\\"\"\n",
    "    python run_eval.py dataset=sst-5 task_lm=roberta-large \"prompt=\\\"${prompt}\\\"\"\n",
    "done < prompts.txt"
   ]
  }
 ],
 "metadata": {
  "kaggle": {
   "accelerator": "gpu",
   "dataSources": [
    {
     "datasetId": 7448425,
     "sourceId": 11853781,
     "sourceType": "datasetVersion"
    },
    {
     "datasetId": 7448496,
     "sourceId": 11853893,
     "sourceType": "datasetVersion"
    },
    {
     "datasetId": 7119255,
     "sourceId": 11853958,
     "sourceType": "datasetVersion"
    },
    {
     "datasetId": 7448605,
     "sourceId": 11854059,
     "sourceType": "datasetVersion"
    },
    {
     "datasetId": 7448677,
     "sourceId": 11854171,
     "sourceType": "datasetVersion"
    }
   ],
   "dockerImageVersionId": 31011,
   "isGpuEnabled": true,
   "isInternetEnabled": true,
   "language": "python",
   "sourceType": "notebook"
  },
  "kernelspec": {
   "display_name": "Python 3",
   "language": "python",
   "name": "python3"
  },
  "language_info": {
   "codemirror_mode": {
    "name": "ipython",
    "version": 3
   },
   "file_extension": ".py",
   "mimetype": "text/x-python",
   "name": "python",
   "nbconvert_exporter": "python",
   "pygments_lexer": "ipython3",
   "version": "3.11.11"
  },
  "papermill": {
   "default_parameters": {},
   "duration": 318.123945,
   "end_time": "2025-05-18T05:08:10.360921",
   "environment_variables": {},
   "exception": null,
   "input_path": "__notebook__.ipynb",
   "output_path": "__notebook__.ipynb",
   "parameters": {},
   "start_time": "2025-05-18T05:02:52.236976",
   "version": "2.6.0"
  }
 },
 "nbformat": 4,
 "nbformat_minor": 5
}
