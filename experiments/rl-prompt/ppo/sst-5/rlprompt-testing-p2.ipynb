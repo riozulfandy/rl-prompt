{
 "cells": [
  {
   "cell_type": "code",
   "execution_count": 1,
   "id": "92875077",
   "metadata": {
    "execution": {
     "iopub.execute_input": "2025-05-18T05:14:58.674950Z",
     "iopub.status.busy": "2025-05-18T05:14:58.674655Z",
     "iopub.status.idle": "2025-05-18T05:14:58.681528Z",
     "shell.execute_reply": "2025-05-18T05:14:58.680843Z"
    },
    "papermill": {
     "duration": 0.013248,
     "end_time": "2025-05-18T05:14:58.682611",
     "exception": false,
     "start_time": "2025-05-18T05:14:58.669363",
     "status": "completed"
    },
    "tags": []
   },
   "outputs": [
    {
     "name": "stdout",
     "output_type": "stream",
     "text": [
      "Don't forget to change the dataset argument\n"
     ]
    }
   ],
   "source": [
    "LOG_PATH = '/kaggle/input/rl-prompt-results-3-rio/all_outputs_sst5.log'\n",
    "print(\"Don't forget to change the dataset argument\")"
   ]
  },
  {
   "cell_type": "code",
   "execution_count": 2,
   "id": "066bc82f",
   "metadata": {
    "execution": {
     "iopub.execute_input": "2025-05-18T05:14:58.690925Z",
     "iopub.status.busy": "2025-05-18T05:14:58.690349Z",
     "iopub.status.idle": "2025-05-18T05:15:00.187042Z",
     "shell.execute_reply": "2025-05-18T05:15:00.186481Z"
    },
    "papermill": {
     "duration": 1.502143,
     "end_time": "2025-05-18T05:15:00.188514",
     "exception": false,
     "start_time": "2025-05-18T05:14:58.686371",
     "status": "completed"
    },
    "tags": []
   },
   "outputs": [],
   "source": [
    "import pandas as pd"
   ]
  },
  {
   "cell_type": "markdown",
   "id": "501b6d5b",
   "metadata": {
    "papermill": {
     "duration": 0.003469,
     "end_time": "2025-05-18T05:15:00.195711",
     "exception": false,
     "start_time": "2025-05-18T05:15:00.192242",
     "status": "completed"
    },
    "tags": []
   },
   "source": [
    "## Experiments Data Getter: Validation"
   ]
  },
  {
   "cell_type": "code",
   "execution_count": 3,
   "id": "8f9ae6b3",
   "metadata": {
    "execution": {
     "iopub.execute_input": "2025-05-18T05:15:00.203550Z",
     "iopub.status.busy": "2025-05-18T05:15:00.203246Z",
     "iopub.status.idle": "2025-05-18T05:15:03.036742Z",
     "shell.execute_reply": "2025-05-18T05:15:03.036156Z"
    },
    "papermill": {
     "duration": 2.838874,
     "end_time": "2025-05-18T05:15:03.038073",
     "exception": false,
     "start_time": "2025-05-18T05:15:00.199199",
     "status": "completed"
    },
    "tags": []
   },
   "outputs": [],
   "source": [
    "import re\n",
    "\n",
    "log_file = LOG_PATH\n",
    "\n",
    "step_pattern = re.compile(r'^(\\d+)\\s+\\|')\n",
    "reward_pattern = re.compile(r'([-+]?\\d*\\.\\d+|\\d+)')\n",
    "accuracy_pattern = re.compile(r'Accuracy:\\s*([-+]?\\d*\\.\\d+|\\d+)')\n",
    "\n",
    "steps = []\n",
    "rewards = []\n",
    "accuracy = []\n",
    "prompts = []\n",
    "\n",
    "with open(log_file, 'r') as f:\n",
    "    lines = f.readlines()\n",
    "\n",
    "current_step = None\n",
    "\n",
    "for i, line in enumerate(lines):\n",
    "    step_match = step_pattern.match(line)\n",
    "    if step_match:\n",
    "        current_step = int(step_match.group(1))\n",
    "\n",
    "    if \"Our Prompt:\" in line:\n",
    "        next_line = lines[i + 1].strip()\n",
    "        prev_line = lines[i - 1].strip()\n",
    "\n",
    "        accuracy_match = accuracy_pattern.search(prev_line)\n",
    "        numbers = reward_pattern.findall(next_line)\n",
    "\n",
    "        if accuracy_match and numbers and current_step is not None:\n",
    "            acc_value = float(accuracy_match.group(1))\n",
    "            reward_value = float(numbers[-1])\n",
    "\n",
    "            steps.append(current_step)\n",
    "            rewards.append(reward_value)\n",
    "            accuracy.append(acc_value)\n",
    "            prompts.append(next_line)"
   ]
  },
  {
   "cell_type": "code",
   "execution_count": 4,
   "id": "84f26f06",
   "metadata": {
    "execution": {
     "iopub.execute_input": "2025-05-18T05:15:03.045874Z",
     "iopub.status.busy": "2025-05-18T05:15:03.045683Z",
     "iopub.status.idle": "2025-05-18T05:15:03.097887Z",
     "shell.execute_reply": "2025-05-18T05:15:03.097146Z"
    },
    "papermill": {
     "duration": 0.057604,
     "end_time": "2025-05-18T05:15:03.099296",
     "exception": false,
     "start_time": "2025-05-18T05:15:03.041692",
     "status": "completed"
    },
    "tags": []
   },
   "outputs": [],
   "source": [
    "INTERVAL = 600\n",
    "\n",
    "starts = 0\n",
    "end = starts + INTERVAL\n",
    "\n",
    "seed_best_prompts = []\n",
    "\n",
    "validation_dfs = {}\n",
    "\n",
    "while end <= len(steps):\n",
    "    interval_acc = accuracy[starts:end]\n",
    "    interval_prompts = prompts[starts:end]\n",
    "    interval_steps = steps[starts:end]\n",
    "    interval_rewards = rewards[starts:end]\n",
    "    seed = starts // INTERVAL\n",
    "\n",
    "    max_idx = interval_acc.index(max(interval_acc))\n",
    "    best_prompt = interval_prompts[max_idx]\n",
    "    seed_best_prompts.append((seed, max(interval_acc), best_prompt))\n",
    "\n",
    "    values = {\n",
    "        'step': interval_steps,\n",
    "        'accuracy': interval_acc,\n",
    "        'rewards': interval_rewards,\n",
    "        'prompts': interval_prompts,\n",
    "    }\n",
    "\n",
    "    df = pd.DataFrame(values)\n",
    "    validation_dfs[seed] = df\n",
    "    df.to_csv(f\"validation_results_{seed}.csv\",index=False)\n",
    "\n",
    "    starts = end\n",
    "    end = starts + INTERVAL"
   ]
  },
  {
   "cell_type": "code",
   "execution_count": 5,
   "id": "36edd33a",
   "metadata": {
    "execution": {
     "iopub.execute_input": "2025-05-18T05:15:03.106957Z",
     "iopub.status.busy": "2025-05-18T05:15:03.106450Z",
     "iopub.status.idle": "2025-05-18T05:15:03.110736Z",
     "shell.execute_reply": "2025-05-18T05:15:03.109966Z"
    },
    "papermill": {
     "duration": 0.009121,
     "end_time": "2025-05-18T05:15:03.111768",
     "exception": false,
     "start_time": "2025-05-18T05:15:03.102647",
     "status": "completed"
    },
    "tags": []
   },
   "outputs": [
    {
     "name": "stdout",
     "output_type": "stream",
     "text": [
      "Seed 0: Max Accuracy = 0.3875\n",
      "Prompt: ['uitsiors'] -9.853740692138672\n",
      "--------------------------------------------------\n",
      "Seed 1: Max Accuracy = 0.3500\n",
      "Prompt: ['uationsuations'] -8.742996215820312\n",
      "--------------------------------------------------\n"
     ]
    }
   ],
   "source": [
    "# Print best prompt (highest accuracy) for each seed\n",
    "for seed, acc, prompt in seed_best_prompts:\n",
    "    print(f\"Seed {seed}: Max Accuracy = {acc:.4f}\")\n",
    "    print(f\"Prompt: {prompt}\")\n",
    "    print(\"-\" * 50)"
   ]
  },
  {
   "cell_type": "code",
   "execution_count": 6,
   "id": "9fb2a1e5",
   "metadata": {
    "execution": {
     "iopub.execute_input": "2025-05-18T05:15:03.118933Z",
     "iopub.status.busy": "2025-05-18T05:15:03.118733Z",
     "iopub.status.idle": "2025-05-18T05:15:03.123152Z",
     "shell.execute_reply": "2025-05-18T05:15:03.122630Z"
    },
    "papermill": {
     "duration": 0.00917,
     "end_time": "2025-05-18T05:15:03.124246",
     "exception": false,
     "start_time": "2025-05-18T05:15:03.115076",
     "status": "completed"
    },
    "tags": []
   },
   "outputs": [
    {
     "name": "stdout",
     "output_type": "stream",
     "text": [
      "['uitsiors', 'uationsuations']\n"
     ]
    }
   ],
   "source": [
    "import ast\n",
    "\n",
    "best_prompt_words = []\n",
    "\n",
    "for _, _, raw_prompt in seed_best_prompts:\n",
    "    try:\n",
    "        bracket_content = raw_prompt.split(']')[0] + ']'\n",
    "        prompt_list = ast.literal_eval(bracket_content)\n",
    "        if isinstance(prompt_list, list) and len(prompt_list) > 0:\n",
    "            best_prompt_words.append(prompt_list[0])\n",
    "    except:\n",
    "        continue\n",
    "\n",
    "print(best_prompt_words)"
   ]
  },
  {
   "cell_type": "markdown",
   "id": "ceecd9f1",
   "metadata": {
    "papermill": {
     "duration": 0.003169,
     "end_time": "2025-05-18T05:15:03.130718",
     "exception": false,
     "start_time": "2025-05-18T05:15:03.127549",
     "status": "completed"
    },
    "tags": []
   },
   "source": [
    "## Experiments Data Getter: Training"
   ]
  },
  {
   "cell_type": "code",
   "execution_count": 7,
   "id": "fd8d8b9b",
   "metadata": {
    "execution": {
     "iopub.execute_input": "2025-05-18T05:15:03.138244Z",
     "iopub.status.busy": "2025-05-18T05:15:03.137760Z",
     "iopub.status.idle": "2025-05-18T05:15:04.888138Z",
     "shell.execute_reply": "2025-05-18T05:15:04.887232Z"
    },
    "papermill": {
     "duration": 1.75564,
     "end_time": "2025-05-18T05:15:04.889616",
     "exception": false,
     "start_time": "2025-05-18T05:15:03.133976",
     "status": "completed"
    },
    "tags": []
   },
   "outputs": [
    {
     "name": "stdout",
     "output_type": "stream",
     "text": [
      "Total training time: 2.96 hours (177.79 minutes)\n",
      "\n",
      "Peak GPU memory usage: 1913.96 MB (1.87 GB)\n",
      "\n",
      "Total training time: 4.03 hours (241.62 minutes)\n",
      "\n",
      "Peak GPU memory usage: 2151.90 MB (2.10 GB)\n",
      "\n"
     ]
    }
   ],
   "source": [
    "import numpy as np\n",
    "\n",
    "log_file = LOG_PATH\n",
    "\n",
    "all_rewards = {}\n",
    "all_accuracy = {}\n",
    "\n",
    "header_pattern = re.compile(r'^(\\d+)\\s*\\|')\n",
    "reward_pattern = re.compile(r'Reward:\\s*([-+]?\\d*\\.\\d+|\\d+)')\n",
    "accuracy_pattern = re.compile(r'Accuracy:\\s*([-+]?\\d*\\.\\d+|\\d+)')\n",
    "\n",
    "with open(log_file, 'r') as f:\n",
    "    lines = f.readlines()\n",
    "\n",
    "current_step = None\n",
    "seed = -1\n",
    "\n",
    "for line in lines:\n",
    "    if 'Task LM' in line:\n",
    "        seed += 1\n",
    "        all_rewards[seed] = {}\n",
    "        all_accuracy[seed] = {}\n",
    "        continue\n",
    "    \n",
    "    header_match = header_pattern.match(line)\n",
    "    if header_match:\n",
    "        current_step = int(header_match.group(1))\n",
    "    \n",
    "    if \"Reward:\" in line:\n",
    "        reward_match = reward_pattern.search(line)\n",
    "        if reward_match:\n",
    "            reward_value = float(reward_match.group(1))\n",
    "            if current_step is not None:\n",
    "                all_rewards[seed].setdefault(current_step, []).append(reward_value)\n",
    "\n",
    "    if \"Accuracy:\" in line:\n",
    "        accuracy_match = accuracy_pattern.search(line)\n",
    "        if accuracy_match:\n",
    "            accuracy_value = float(accuracy_match.group(1))\n",
    "            if current_step is not None:\n",
    "                all_accuracy[seed].setdefault(current_step, []).append(accuracy_value)\n",
    "\n",
    "    if 'Total training time' in line:\n",
    "        print(line)\n",
    "\n",
    "    if 'Peak GPU' in line:\n",
    "        print(line)"
   ]
  },
  {
   "cell_type": "code",
   "execution_count": 8,
   "id": "5630fc0b",
   "metadata": {
    "execution": {
     "iopub.execute_input": "2025-05-18T05:15:04.898691Z",
     "iopub.status.busy": "2025-05-18T05:15:04.898019Z",
     "iopub.status.idle": "2025-05-18T05:15:05.214992Z",
     "shell.execute_reply": "2025-05-18T05:15:05.214216Z"
    },
    "papermill": {
     "duration": 0.322794,
     "end_time": "2025-05-18T05:15:05.216461",
     "exception": false,
     "start_time": "2025-05-18T05:15:04.893667",
     "status": "completed"
    },
    "tags": []
   },
   "outputs": [],
   "source": [
    "training_results_dfs = {}\n",
    "\n",
    "for seed, data in all_rewards.items():\n",
    "    steps = sorted(data.keys())\n",
    "    means = [np.mean(data[step]) for step in steps]\n",
    "    stds  = [np.std(data[step]) for step in steps]\n",
    "\n",
    "    values = {\n",
    "        'step': steps,\n",
    "        'reward_mean': means,\n",
    "        'reward_std': stds\n",
    "    }\n",
    "\n",
    "    df = pd.DataFrame(values)\n",
    "    training_results_dfs[seed] = df"
   ]
  },
  {
   "cell_type": "code",
   "execution_count": 9,
   "id": "c58ec99f",
   "metadata": {
    "execution": {
     "iopub.execute_input": "2025-05-18T05:15:05.225208Z",
     "iopub.status.busy": "2025-05-18T05:15:05.224658Z",
     "iopub.status.idle": "2025-05-18T05:15:05.583426Z",
     "shell.execute_reply": "2025-05-18T05:15:05.582791Z"
    },
    "papermill": {
     "duration": 0.36446,
     "end_time": "2025-05-18T05:15:05.584778",
     "exception": false,
     "start_time": "2025-05-18T05:15:05.220318",
     "status": "completed"
    },
    "tags": []
   },
   "outputs": [],
   "source": [
    "for seed, data in all_accuracy.items():\n",
    "    steps = sorted(data.keys())\n",
    "    means = [np.mean(data[step]) for step in steps]\n",
    "    stds  = [np.std(data[step]) for step in steps]\n",
    "\n",
    "    df = training_results_dfs[seed]\n",
    "    df['accuracy_mean'] = means\n",
    "    df['accuracy_stds'] = stds\n",
    "    df.to_csv(f\"training_results_{seed}.csv\",index=False)"
   ]
  },
  {
   "cell_type": "markdown",
   "id": "95170134",
   "metadata": {
    "papermill": {
     "duration": 0.003275,
     "end_time": "2025-05-18T05:15:05.591674",
     "exception": false,
     "start_time": "2025-05-18T05:15:05.588399",
     "status": "completed"
    },
    "tags": []
   },
   "source": [
    "## Environment Prep"
   ]
  },
  {
   "cell_type": "code",
   "execution_count": 10,
   "id": "b8acca21",
   "metadata": {
    "execution": {
     "iopub.execute_input": "2025-05-18T05:15:05.599289Z",
     "iopub.status.busy": "2025-05-18T05:15:05.599015Z",
     "iopub.status.idle": "2025-05-18T05:15:05.602637Z",
     "shell.execute_reply": "2025-05-18T05:15:05.601920Z"
    },
    "papermill": {
     "duration": 0.008847,
     "end_time": "2025-05-18T05:15:05.603792",
     "exception": false,
     "start_time": "2025-05-18T05:15:05.594945",
     "status": "completed"
    },
    "tags": []
   },
   "outputs": [],
   "source": [
    "from IPython.display import clear_output"
   ]
  },
  {
   "cell_type": "code",
   "execution_count": 11,
   "id": "087397fa",
   "metadata": {
    "execution": {
     "iopub.execute_input": "2025-05-18T05:15:05.611278Z",
     "iopub.status.busy": "2025-05-18T05:15:05.610859Z",
     "iopub.status.idle": "2025-05-18T05:15:19.018071Z",
     "shell.execute_reply": "2025-05-18T05:15:19.017429Z"
    },
    "papermill": {
     "duration": 13.412247,
     "end_time": "2025-05-18T05:15:19.019382",
     "exception": false,
     "start_time": "2025-05-18T05:15:05.607135",
     "status": "completed"
    },
    "tags": []
   },
   "outputs": [],
   "source": [
    "root_dir = \"/kaggle/conda\"\n",
    "!mkdir -p $root_dir\n",
    "!wget -q --show-progress https://repo.anaconda.com/miniconda/Miniconda3-latest-Linux-x86_64.sh\n",
    "!bash Miniconda3-latest-Linux-x86_64.sh -b -p $root_dir/miniconda3 -f\n",
    "clear_output()"
   ]
  },
  {
   "cell_type": "code",
   "execution_count": 12,
   "id": "f0fccff8",
   "metadata": {
    "execution": {
     "iopub.execute_input": "2025-05-18T05:15:19.027780Z",
     "iopub.status.busy": "2025-05-18T05:15:19.027286Z",
     "iopub.status.idle": "2025-05-18T05:15:28.973878Z",
     "shell.execute_reply": "2025-05-18T05:15:28.973212Z"
    },
    "papermill": {
     "duration": 9.952069,
     "end_time": "2025-05-18T05:15:28.975288",
     "exception": false,
     "start_time": "2025-05-18T05:15:19.023219",
     "status": "completed"
    },
    "tags": []
   },
   "outputs": [],
   "source": [
    "!$root_dir/miniconda3/bin/conda create --name my_env python=3.10 -y\n",
    "clear_output()"
   ]
  },
  {
   "cell_type": "code",
   "execution_count": 13,
   "id": "f8b2308f",
   "metadata": {
    "execution": {
     "iopub.execute_input": "2025-05-18T05:15:28.984204Z",
     "iopub.status.busy": "2025-05-18T05:15:28.983648Z",
     "iopub.status.idle": "2025-05-18T05:15:36.823315Z",
     "shell.execute_reply": "2025-05-18T05:15:36.822084Z"
    },
    "papermill": {
     "duration": 7.846195,
     "end_time": "2025-05-18T05:15:36.825627",
     "exception": false,
     "start_time": "2025-05-18T05:15:28.979432",
     "status": "completed"
    },
    "tags": []
   },
   "outputs": [
    {
     "name": "stdout",
     "output_type": "stream",
     "text": [
      "Cloning into 'rl-prompt'...\r\n",
      "remote: Enumerating objects: 1813, done.\u001b[K\r\n",
      "remote: Counting objects: 100% (661/661), done.\u001b[K\r\n",
      "remote: Compressing objects: 100% (385/385), done.\u001b[K\r\n",
      "remote: Total 1813 (delta 381), reused 466 (delta 273), pack-reused 1152 (from 1)\u001b[K\r\n",
      "Receiving objects: 100% (1813/1813), 83.59 MiB | 19.72 MiB/s, done.\r\n",
      "Resolving deltas: 100% (790/790), done.\r\n",
      "Updating files: 100% (291/291), done.\r\n"
     ]
    }
   ],
   "source": [
    "!git clone https://github.com/malifalhakim/rl-prompt.git"
   ]
  },
  {
   "cell_type": "code",
   "execution_count": 14,
   "id": "c1e18114",
   "metadata": {
    "execution": {
     "iopub.execute_input": "2025-05-18T05:15:36.843774Z",
     "iopub.status.busy": "2025-05-18T05:15:36.843499Z",
     "iopub.status.idle": "2025-05-18T05:15:36.850112Z",
     "shell.execute_reply": "2025-05-18T05:15:36.849353Z"
    },
    "papermill": {
     "duration": 0.014644,
     "end_time": "2025-05-18T05:15:36.852048",
     "exception": false,
     "start_time": "2025-05-18T05:15:36.837404",
     "status": "completed"
    },
    "tags": []
   },
   "outputs": [
    {
     "name": "stdout",
     "output_type": "stream",
     "text": [
      "/kaggle/working/rl-prompt\n"
     ]
    }
   ],
   "source": [
    "%cd /kaggle/working/rl-prompt"
   ]
  },
  {
   "cell_type": "code",
   "execution_count": 15,
   "id": "a3c6ffc4",
   "metadata": {
    "execution": {
     "iopub.execute_input": "2025-05-18T05:15:36.867219Z",
     "iopub.status.busy": "2025-05-18T05:15:36.866935Z",
     "iopub.status.idle": "2025-05-18T05:17:37.967396Z",
     "shell.execute_reply": "2025-05-18T05:17:37.966224Z"
    },
    "papermill": {
     "duration": 121.116406,
     "end_time": "2025-05-18T05:17:37.974774",
     "exception": false,
     "start_time": "2025-05-18T05:15:36.858368",
     "status": "completed"
    },
    "tags": []
   },
   "outputs": [],
   "source": [
    "# Set the CUDA version variable\n",
    "CUDA_VERSION = 'cu118'\n",
    "\n",
    "# 1. Install PyTorch with matching CUDA version\n",
    "!source $root_dir/miniconda3/bin/activate my_env; pip install torch==2.6.0+{CUDA_VERSION} \\\n",
    "--extra-index-url https://download.pytorch.org/whl/{CUDA_VERSION}\n",
    "\n",
    "clear_output()"
   ]
  },
  {
   "cell_type": "code",
   "execution_count": 16,
   "id": "bee0de22",
   "metadata": {
    "execution": {
     "iopub.execute_input": "2025-05-18T05:17:37.992286Z",
     "iopub.status.busy": "2025-05-18T05:17:37.991520Z",
     "iopub.status.idle": "2025-05-18T05:18:11.994116Z",
     "shell.execute_reply": "2025-05-18T05:18:11.993379Z"
    },
    "papermill": {
     "duration": 34.012976,
     "end_time": "2025-05-18T05:18:11.995459",
     "exception": false,
     "start_time": "2025-05-18T05:17:37.982483",
     "status": "completed"
    },
    "tags": []
   },
   "outputs": [],
   "source": [
    "!source $root_dir/miniconda3/bin/activate my_env; pip install -e .\n",
    "\n",
    "clear_output()"
   ]
  },
  {
   "cell_type": "markdown",
   "id": "941105f6",
   "metadata": {
    "papermill": {
     "duration": 0.004777,
     "end_time": "2025-05-18T05:18:12.005525",
     "exception": false,
     "start_time": "2025-05-18T05:18:12.000748",
     "status": "completed"
    },
    "tags": []
   },
   "source": [
    "## Evaluation"
   ]
  },
  {
   "cell_type": "code",
   "execution_count": 17,
   "id": "9f53b981",
   "metadata": {
    "execution": {
     "iopub.execute_input": "2025-05-18T05:18:12.016329Z",
     "iopub.status.busy": "2025-05-18T05:18:12.016050Z",
     "iopub.status.idle": "2025-05-18T05:18:12.021693Z",
     "shell.execute_reply": "2025-05-18T05:18:12.020976Z"
    },
    "papermill": {
     "duration": 0.012439,
     "end_time": "2025-05-18T05:18:12.022789",
     "exception": false,
     "start_time": "2025-05-18T05:18:12.010350",
     "status": "completed"
    },
    "tags": []
   },
   "outputs": [
    {
     "name": "stdout",
     "output_type": "stream",
     "text": [
      "/kaggle/working/rl-prompt/examples/few-shot-classification/evaluation\n"
     ]
    }
   ],
   "source": [
    "%cd examples/few-shot-classification/evaluation"
   ]
  },
  {
   "cell_type": "code",
   "execution_count": 18,
   "id": "634f3a43",
   "metadata": {
    "execution": {
     "iopub.execute_input": "2025-05-18T05:18:12.033399Z",
     "iopub.status.busy": "2025-05-18T05:18:12.033205Z",
     "iopub.status.idle": "2025-05-18T05:18:12.037664Z",
     "shell.execute_reply": "2025-05-18T05:18:12.037058Z"
    },
    "papermill": {
     "duration": 0.010937,
     "end_time": "2025-05-18T05:18:12.038686",
     "exception": false,
     "start_time": "2025-05-18T05:18:12.027749",
     "status": "completed"
    },
    "tags": []
   },
   "outputs": [],
   "source": [
    "with open(\"prompts.txt\", \"w\") as f:\n",
    "    for prompt in best_prompt_words:\n",
    "        f.write(prompt + \"\\n\")"
   ]
  },
  {
   "cell_type": "code",
   "execution_count": 19,
   "id": "e5ea7daf",
   "metadata": {
    "execution": {
     "iopub.execute_input": "2025-05-18T05:18:12.049665Z",
     "iopub.status.busy": "2025-05-18T05:18:12.049467Z",
     "iopub.status.idle": "2025-05-18T05:20:13.906302Z",
     "shell.execute_reply": "2025-05-18T05:20:13.905512Z"
    },
    "papermill": {
     "duration": 121.869705,
     "end_time": "2025-05-18T05:20:13.913479",
     "exception": false,
     "start_time": "2025-05-18T05:18:12.043774",
     "status": "completed"
    },
    "tags": []
   },
   "outputs": [
    {
     "name": "stdout",
     "output_type": "stream",
     "text": [
      "----------------------------------------------\n",
      "Running evaluation with prompt: uitsiors\n",
      "\u001b[31mnum_shots: 16\n",
      "base_path: ../data\n",
      "dataset: sst-5\n",
      "dataset_seed: 0\n",
      "task_lm: distilroberta-base\n",
      "is_mask_lm: null\n",
      "prompt: uitsiors\n",
      "\u001b[0m\n",
      "Test Size 2210\n",
      "Examples: {'source_texts': ['no movement , no yuks , not much of anything .', \"a gob of drivel so sickly sweet , even the eager consumers of moore 's pasteurized ditties will retch it up like rancid crème brûlée .\", \"` how many more voyages can this limping but dearly-loved franchise survive ? '\", 'so relentlessly wholesome it made me want to swipe something .', 'gangs of new york is an unapologetic mess , whose only saving grace is that it ends by blowing just about everything up .'], 'class_labels': [1, 0, 2, 2, 0]}\n",
      "Task LM: distilroberta-base\n",
      "[2025-05-18 05:18:21,304][huggingface_hub.file_download][WARNING] - Xet Storage is enabled for this repo, but the 'hf_xet' package is not installed. Falling back to regular HTTP download. For better performance, install the package with: `pip install huggingface_hub[hf_xet]` or `pip install hf_xet`\n",
      "\u001b[31mprompt: uitsiors, accuracy: 0.39049774408340454\u001b[0m\n",
      "\u001b[31mnum_shots: 16\n",
      "base_path: ../data\n",
      "dataset: sst-5\n",
      "dataset_seed: 0\n",
      "task_lm: roberta-base\n",
      "is_mask_lm: null\n",
      "prompt: uitsiors\n",
      "\u001b[0m\n",
      "Test Size 2210\n",
      "Examples: {'source_texts': ['no movement , no yuks , not much of anything .', \"a gob of drivel so sickly sweet , even the eager consumers of moore 's pasteurized ditties will retch it up like rancid crème brûlée .\", \"` how many more voyages can this limping but dearly-loved franchise survive ? '\", 'so relentlessly wholesome it made me want to swipe something .', 'gangs of new york is an unapologetic mess , whose only saving grace is that it ends by blowing just about everything up .'], 'class_labels': [1, 0, 2, 2, 0]}\n",
      "Task LM: roberta-base\n",
      "[2025-05-18 05:18:57,505][huggingface_hub.file_download][WARNING] - Xet Storage is enabled for this repo, but the 'hf_xet' package is not installed. Falling back to regular HTTP download. For better performance, install the package with: `pip install huggingface_hub[hf_xet]` or `pip install hf_xet`\n",
      "\u001b[31mprompt: uitsiors, accuracy: 0.3805429935455322\u001b[0m\n",
      "\u001b[31mnum_shots: 16\n",
      "base_path: ../data\n",
      "dataset: sst-5\n",
      "dataset_seed: 0\n",
      "task_lm: roberta-large\n",
      "is_mask_lm: null\n",
      "prompt: uitsiors\n",
      "\u001b[0m\n",
      "Test Size 2210\n",
      "Examples: {'source_texts': ['no movement , no yuks , not much of anything .', \"a gob of drivel so sickly sweet , even the eager consumers of moore 's pasteurized ditties will retch it up like rancid crème brûlée .\", \"` how many more voyages can this limping but dearly-loved franchise survive ? '\", 'so relentlessly wholesome it made me want to swipe something .', 'gangs of new york is an unapologetic mess , whose only saving grace is that it ends by blowing just about everything up .'], 'class_labels': [1, 0, 2, 2, 0]}\n",
      "Task LM: roberta-large\n",
      "[2025-05-18 05:19:14,391][huggingface_hub.file_download][WARNING] - Xet Storage is enabled for this repo, but the 'hf_xet' package is not installed. Falling back to regular HTTP download. For better performance, install the package with: `pip install huggingface_hub[hf_xet]` or `pip install hf_xet`\n",
      "\u001b[31mprompt: uitsiors, accuracy: 0.29819005727767944\u001b[0m\n",
      "----------------------------------------------\n",
      "Running evaluation with prompt: uationsuations\n",
      "\u001b[31mnum_shots: 16\n",
      "base_path: ../data\n",
      "dataset: sst-5\n",
      "dataset_seed: 0\n",
      "task_lm: distilroberta-base\n",
      "is_mask_lm: null\n",
      "prompt: uationsuations\n",
      "\u001b[0m\n",
      "Test Size 2210\n",
      "Examples: {'source_texts': ['no movement , no yuks , not much of anything .', \"a gob of drivel so sickly sweet , even the eager consumers of moore 's pasteurized ditties will retch it up like rancid crème brûlée .\", \"` how many more voyages can this limping but dearly-loved franchise survive ? '\", 'so relentlessly wholesome it made me want to swipe something .', 'gangs of new york is an unapologetic mess , whose only saving grace is that it ends by blowing just about everything up .'], 'class_labels': [1, 0, 2, 2, 0]}\n",
      "Task LM: distilroberta-base\n",
      "\u001b[31mprompt: uationsuations, accuracy: 0.39049774408340454\u001b[0m\n",
      "\u001b[31mnum_shots: 16\n",
      "base_path: ../data\n",
      "dataset: sst-5\n",
      "dataset_seed: 0\n",
      "task_lm: roberta-base\n",
      "is_mask_lm: null\n",
      "prompt: uationsuations\n",
      "\u001b[0m\n",
      "Test Size 2210\n",
      "Examples: {'source_texts': ['no movement , no yuks , not much of anything .', \"a gob of drivel so sickly sweet , even the eager consumers of moore 's pasteurized ditties will retch it up like rancid crème brûlée .\", \"` how many more voyages can this limping but dearly-loved franchise survive ? '\", 'so relentlessly wholesome it made me want to swipe something .', 'gangs of new york is an unapologetic mess , whose only saving grace is that it ends by blowing just about everything up .'], 'class_labels': [1, 0, 2, 2, 0]}\n",
      "Task LM: roberta-base\n",
      "\u001b[31mprompt: uationsuations, accuracy: 0.3809954822063446\u001b[0m\n",
      "\u001b[31mnum_shots: 16\n",
      "base_path: ../data\n",
      "dataset: sst-5\n",
      "dataset_seed: 0\n",
      "task_lm: roberta-large\n",
      "is_mask_lm: null\n",
      "prompt: uationsuations\n",
      "\u001b[0m\n",
      "Test Size 2210\n",
      "Examples: {'source_texts': ['no movement , no yuks , not much of anything .', \"a gob of drivel so sickly sweet , even the eager consumers of moore 's pasteurized ditties will retch it up like rancid crème brûlée .\", \"` how many more voyages can this limping but dearly-loved franchise survive ? '\", 'so relentlessly wholesome it made me want to swipe something .', 'gangs of new york is an unapologetic mess , whose only saving grace is that it ends by blowing just about everything up .'], 'class_labels': [1, 0, 2, 2, 0]}\n",
      "Task LM: roberta-large\n",
      "\u001b[31mprompt: uationsuations, accuracy: 0.2782805562019348\u001b[0m\n"
     ]
    },
    {
     "name": "stderr",
     "output_type": "stream",
     "text": [
      "Xet Storage is enabled for this repo, but the 'hf_xet' package is not installed. Falling back to regular HTTP download. For better performance, install the package with: `pip install huggingface_hub[hf_xet]` or `pip install hf_xet`\n",
      "Some weights of the model checkpoint at distilroberta-base were not used when initializing RobertaForMaskedLM: ['roberta.pooler.dense.bias', 'roberta.pooler.dense.weight']\n",
      "- This IS expected if you are initializing RobertaForMaskedLM from the checkpoint of a model trained on another task or with another architecture (e.g. initializing a BertForSequenceClassification model from a BertForPreTraining model).\n",
      "- This IS NOT expected if you are initializing RobertaForMaskedLM from the checkpoint of a model that you expect to be exactly identical (initializing a BertForSequenceClassification model from a BertForSequenceClassification model).\n",
      "Xet Storage is enabled for this repo, but the 'hf_xet' package is not installed. Falling back to regular HTTP download. For better performance, install the package with: `pip install huggingface_hub[hf_xet]` or `pip install hf_xet`\n",
      "Xet Storage is enabled for this repo, but the 'hf_xet' package is not installed. Falling back to regular HTTP download. For better performance, install the package with: `pip install huggingface_hub[hf_xet]` or `pip install hf_xet`\n",
      "Some weights of the model checkpoint at distilroberta-base were not used when initializing RobertaForMaskedLM: ['roberta.pooler.dense.bias', 'roberta.pooler.dense.weight']\n",
      "- This IS expected if you are initializing RobertaForMaskedLM from the checkpoint of a model trained on another task or with another architecture (e.g. initializing a BertForSequenceClassification model from a BertForPreTraining model).\n",
      "- This IS NOT expected if you are initializing RobertaForMaskedLM from the checkpoint of a model that you expect to be exactly identical (initializing a BertForSequenceClassification model from a BertForSequenceClassification model).\n"
     ]
    }
   ],
   "source": [
    "%%bash\n",
    "source /kaggle/conda/miniconda3/bin/activate my_env\n",
    "\n",
    "while IFS= read -r prompt; do\n",
    "    echo \"----------------------------------------------\"\n",
    "    echo \"Running evaluation with prompt: $prompt\"\n",
    "    python run_eval.py dataset=sst-5 task_lm=distilroberta-base \"prompt=\\\"${prompt}\\\"\"\n",
    "    python run_eval.py dataset=sst-5 task_lm=roberta-base \"prompt=\\\"${prompt}\\\"\"\n",
    "    python run_eval.py dataset=sst-5 task_lm=roberta-large \"prompt=\\\"${prompt}\\\"\"\n",
    "done < prompts.txt"
   ]
  }
 ],
 "metadata": {
  "kaggle": {
   "accelerator": "gpu",
   "dataSources": [
    {
     "datasetId": 7448425,
     "sourceId": 11853781,
     "sourceType": "datasetVersion"
    },
    {
     "datasetId": 7448496,
     "sourceId": 11853893,
     "sourceType": "datasetVersion"
    },
    {
     "datasetId": 7119255,
     "sourceId": 11853958,
     "sourceType": "datasetVersion"
    },
    {
     "datasetId": 7448605,
     "sourceId": 11854059,
     "sourceType": "datasetVersion"
    },
    {
     "datasetId": 7448677,
     "sourceId": 11854240,
     "sourceType": "datasetVersion"
    }
   ],
   "dockerImageVersionId": 31011,
   "isGpuEnabled": true,
   "isInternetEnabled": true,
   "language": "python",
   "sourceType": "notebook"
  },
  "kernelspec": {
   "display_name": "Python 3",
   "language": "python",
   "name": "python3"
  },
  "language_info": {
   "codemirror_mode": {
    "name": "ipython",
    "version": 3
   },
   "file_extension": ".py",
   "mimetype": "text/x-python",
   "name": "python",
   "nbconvert_exporter": "python",
   "pygments_lexer": "ipython3",
   "version": "3.11.11"
  },
  "papermill": {
   "default_parameters": {},
   "duration": 319.983456,
   "end_time": "2025-05-18T05:20:14.638226",
   "environment_variables": {},
   "exception": null,
   "input_path": "__notebook__.ipynb",
   "output_path": "__notebook__.ipynb",
   "parameters": {},
   "start_time": "2025-05-18T05:14:54.654770",
   "version": "2.6.0"
  }
 },
 "nbformat": 4,
 "nbformat_minor": 5
}
